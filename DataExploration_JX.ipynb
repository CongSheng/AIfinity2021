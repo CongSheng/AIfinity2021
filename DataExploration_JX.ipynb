{
  "nbformat": 4,
  "nbformat_minor": 0,
  "metadata": {
    "colab": {
      "name": "DataExploration JX.ipynb",
      "provenance": [],
      "collapsed_sections": [],
      "toc_visible": true,
      "include_colab_link": true
    },
    "kernelspec": {
      "display_name": "Python 3",
      "name": "python3"
    }
  },
  "cells": [
    {
      "cell_type": "markdown",
      "metadata": {
        "id": "view-in-github",
        "colab_type": "text"
      },
      "source": [
        "<a href=\"https://colab.research.google.com/github/CongSheng/AIfinity2021/blob/main/DataExploration_JX.ipynb\" target=\"_parent\"><img src=\"https://colab.research.google.com/assets/colab-badge.svg\" alt=\"Open In Colab\"/></a>"
      ]
    },
    {
      "cell_type": "markdown",
      "metadata": {
        "id": "5syHCxFuAoFs"
      },
      "source": [
        "#Import Libraries"
      ]
    },
    {
      "cell_type": "code",
      "metadata": {
        "colab": {
          "base_uri": "https://localhost:8080/"
        },
        "id": "yyDltBH7AJuk",
        "outputId": "efbcf0af-8d33-4979-b338-234bbd040b40"
      },
      "source": [
        "import pandas as pd\r\n",
        "import numpy as np\r\n",
        "from google.colab import drive\r\n",
        "import matplotlib.pyplot as plt\r\n",
        "import datetime\r\n",
        "drive.mount('/content/drive')"
      ],
      "execution_count": null,
      "outputs": [
        {
          "output_type": "stream",
          "text": [
            "Drive already mounted at /content/drive; to attempt to forcibly remount, call drive.mount(\"/content/drive\", force_remount=True).\n"
          ],
          "name": "stdout"
        }
      ]
    },
    {
      "cell_type": "markdown",
      "metadata": {
        "id": "3O5u0te6P2u2"
      },
      "source": [
        "#Data Cleaning and Processing"
      ]
    },
    {
      "cell_type": "code",
      "metadata": {
        "id": "mXZv-HeRA6P1"
      },
      "source": [
        "dataDir = \"/content/drive/MyDrive/Ebuy/\"\r\n",
        "salesDf = pd.ExcelFile(dataDir + \"Master Data (Sales).xlsx\")\r\n",
        "purchaseDf = pd.ExcelFile(dataDir + \"Master Data (Purchase).xlsx\")\r\n",
        "salesShop = ['Sales - Outlet 1', 'Sales - Outlet 2', 'Sales - Outlet 3']\r\n",
        "purchaseShop = ['Purchase - Outlet 1', 'Purchase - Outlet 2', 'Purchase - Outlet 3'] \r\n",
        "salesDfList = []\r\n",
        "purchaseDfList = []\r\n",
        "for shop in salesShop:\r\n",
        "  salesDfList.append(salesDf.parse(shop))\r\n",
        "for shop in purchaseShop:\r\n",
        "  purchaseDfList .append(purchaseDf.parse(shop))\r\n",
        "\r\n",
        "for shop in salesDfList:\r\n",
        "  shop['date'] = pd.to_datetime(shop['Date of Sale'], format='%Y/%m/%d')\r\n",
        "\r\n",
        "for shop in purchaseDfList:\r\n",
        "  shop['date'] = pd.to_datetime(shop['Date of Purchase'], format='%Y/%m/%d')\r\n",
        "  shop['qtyPlaced'] = shop['Quantity of Order Placed']\r\n",
        "  shop['qtyReceived'] = shop['Quantity of Order Received']\r\n",
        "  del shop['Quantity of Order Placed']\r\n",
        "  del shop['Quantity of Order Received']\r\n",
        "       "
      ],
      "execution_count": null,
      "outputs": []
    },
    {
      "cell_type": "markdown",
      "metadata": {
        "id": "sC_X0X2Wimou"
      },
      "source": [
        "Accounting for the ingredients needed for the combos \\\r\n",
        "Addressing the missing dates within the dataset"
      ]
    },
    {
      "cell_type": "code",
      "metadata": {
        "id": "Ei7BmU70nV5M"
      },
      "source": [
        "for i,shop in enumerate(salesDfList):\r\n",
        "  new_df  =  pd.pivot_table(shop, values='Amount Sold', index='date', columns='SKU').fillna(0)\r\n",
        "  columns = ['A001-1','A001-2', 'A002-1','A002-2', 'A003-1','A003-2', 'A003-1','A003-2', 'A004-1','A004-2', 'A005-1','A005-2', 'A006-1','A006-2', 'A007-1','A007-2']\r\n",
        "  for col in columns:\r\n",
        "    if col not in new_df.columns:\r\n",
        "      new_df[col] = 0\r\n",
        "\r\n",
        "  new_df.head()\r\n",
        "  new_df['A001'] = new_df['A001-1']*2     + new_df['A001-2']        + new_df['A013']  \r\n",
        "  new_df['A002'] = new_df['A002-1']       + new_df['A002-2']*0.5    + new_df['A013']*0.5\r\n",
        "  new_df['A003'] = new_df['A003-1']*0.085 + new_df['A003-2']*0.043  + new_df['A013']*0.043\r\n",
        "  new_df['A004'] = new_df['A004-1']*0.15  + new_df['A004-2']*0.075  + new_df['A013']*0.075\r\n",
        "  new_df['A005'] = new_df['A005-1']       + new_df['A005-2']*0.5    + new_df['A013']*0.5  \r\n",
        "  new_df['A006'] = new_df['A006-1']       + new_df['A006-2']*0.5 \r\n",
        "  new_df['A007'] = new_df['A007-1']*0.125 + new_df['A007-2']*0.065  + new_df['A014']*0.065   \r\n",
        "  new_df['A008'] = new_df['A008-1']                                 + new_df['A014']*0.065\r\n",
        "  new_df['A009'] = new_df['A009-1']                                 + new_df['A014']*0.075\r\n",
        "  new_df['A010'] = new_df['A010-1']                                 + new_df['A014']*0.05\r\n",
        "  new_df['A011'] = new_df['A011-1']                                 + new_df['A014']*0.1\r\n",
        "  new_df['A012'] = new_df['A012-1']\r\n",
        "  del new_df['A001-1']\r\n",
        "  del new_df['A001-2']\r\n",
        "  del new_df['A002-1']\r\n",
        "  del new_df['A002-2']\r\n",
        "  del new_df['A003-1']\r\n",
        "  del new_df['A003-2']\r\n",
        "  del new_df['A004-1']\r\n",
        "  del new_df['A004-2']\r\n",
        "  del new_df['A005-1']\r\n",
        "  del new_df['A005-2']\r\n",
        "  del new_df['A006-1']\r\n",
        "  del new_df['A006-2']\r\n",
        "  del new_df['A007-1']\r\n",
        "  del new_df['A007-2']\r\n",
        "  del new_df['A008-1']\r\n",
        "  del new_df['A009-1']\r\n",
        "  del new_df['A010-1']\r\n",
        "  del new_df['A011-1']\r\n",
        "  del new_df['A012-1']\r\n",
        "  new_df.reset_index(inplace=True)\r\n",
        "  new_df.columns.names = ['']\r\n",
        "  missingDates = pd.date_range(start = '2018-01-01', end = '2020-12-31' ).difference(new_df['date'])\r\n",
        "  new_df.set_index('date', inplace = True) \r\n",
        "  for date in missingDates:  \r\n",
        "    new_df.loc[pd.to_datetime(date)] = 0\r\n",
        "  new_df = new_df.sort_index()\r\n",
        "  new_df = new_df.reset_index()\r\n",
        "  salesDfList[i] = new_df\r\n"
      ],
      "execution_count": null,
      "outputs": []
    },
    {
      "cell_type": "code",
      "metadata": {
        "id": "DeHF7vqjyVrS"
      },
      "source": [
        "for i,shop in enumerate(purchaseDfList):\r\n",
        "  new_df  =  pd.pivot_table(shop, values=['qtyPlaced','qtyReceived'], index='date', columns='SKU').fillna(0) \r\n",
        "  new_df.reset_index(inplace=True)\r\n",
        "  new_df.columns.names = ['','']\r\n",
        "  missingDates = pd.date_range(start = '2018-01-01', end = '2020-12-31' ).difference(new_df['date'])\r\n",
        "  new_df.set_index('date', inplace = True) \r\n",
        "  for date in missingDates:  \r\n",
        "    new_df.loc[pd.to_datetime(date)] = 0\r\n",
        "  new_df = new_df.sort_index()\r\n",
        "  new_df = new_df.reset_index()\r\n",
        "  purchaseDfList[i] = new_df"
      ],
      "execution_count": null,
      "outputs": []
    },
    {
      "cell_type": "markdown",
      "metadata": {
        "id": "Fuq8pFTBjbtf"
      },
      "source": [
        "Creat a dictionary for the shops and further subdividing them into sales and purchases"
      ]
    },
    {
      "cell_type": "code",
      "metadata": {
        "id": "hjq3BBt-YVNz",
        "colab": {
          "base_uri": "https://localhost:8080/"
        },
        "outputId": "302f7b10-a67e-45eb-f4d2-c85cf076f950"
      },
      "source": [
        "shops = {}\r\n",
        "for i in range(3):\r\n",
        "  overallList = []\r\n",
        "  for j in range(1,13): # 1 to 12\r\n",
        "    if(j >= 10): item = 'A0'+str(j)\r\n",
        "    else: item = 'A00'+str(j)\r\n",
        "    #data = [salesDfList[i]['date'],purchaseDfList[i]['qtyPlaced'][item],salesDfList[i][item],purchaseDfList[i]['qtyReceived'][item]]\r\n",
        "    #headers = [\"date\",\"placed\",\"sales\",\"received\"]\r\n",
        "    data = [salesDfList[i]['date'],purchaseDfList[i]['qtyPlaced'][item],salesDfList[i][item]]\r\n",
        "    headers = [\"date\",\"placed\",\"sales\"]\r\n",
        "    df = pd.concat(data, axis=1, keys=headers)\r\n",
        "    #df = df.set_index('date')\r\n",
        "    overallList.append(df)\r\n",
        "  shops['shop ' + str(i+1)] = overallList\r\n",
        "\r\n",
        "print(shops['shop 1'][0])"
      ],
      "execution_count": null,
      "outputs": [
        {
          "output_type": "stream",
          "text": [
            "           date  placed  sales\n",
            "0    2018-01-01   120.0   98.0\n",
            "1    2018-01-02    80.0   43.0\n",
            "2    2018-01-03    50.0   51.0\n",
            "3    2018-01-04    30.0   40.0\n",
            "4    2018-01-05   100.0  101.0\n",
            "...         ...     ...    ...\n",
            "1091 2020-12-27     0.0   31.0\n",
            "1092 2020-12-28     0.0   49.0\n",
            "1093 2020-12-29     0.0   41.0\n",
            "1094 2020-12-30     0.0   42.0\n",
            "1095 2020-12-31     0.0   97.0\n",
            "\n",
            "[1096 rows x 3 columns]\n"
          ],
          "name": "stdout"
        }
      ]
    },
    {
      "cell_type": "code",
      "metadata": {
        "colab": {
          "base_uri": "https://localhost:8080/",
          "height": 17
        },
        "id": "iqylg-MtUuUh",
        "outputId": "c94f688a-d472-4a3c-8fe0-6a34861d35c7"
      },
      "source": [
        "from google.colab import files\n",
        "\n",
        "compression_opts = dict(method='zip',\n",
        "                        archive_name='out.csv') \n",
        "for i,shop in enumerate(purchaseDfList):\n",
        "  new_df  =  pd.pivot_table(shop, values=['qtyPlaced','qtyReceived'], index='date', columns='SKU').fillna(0) \n",
        "  new_df.reset_index(inplace=True)\n",
        "  new_df.columns.names = ['','']\n",
        "  missingDates = pd.date_range(start = '2018-01-01', end = '2020-12-31' ).difference(new_df['date'])\n",
        "  new_df.set_index('date', inplace = True) \n",
        "  for date in missingDates:  \n",
        "    new_df.loc[pd.to_datetime(date)] = 0\n",
        "  new_df = new_df.sort_index()\n",
        "  new_df = new_df.reset_index()\n",
        "  purchaseDfList[i] = new_df\n",
        "  \n",
        "  new_df.to_csv('out.zip', index=False,\n",
        "            compression=compression_opts) \n",
        "  files.download('out.zip') "
      ],
      "execution_count": null,
      "outputs": [
        {
          "output_type": "display_data",
          "data": {
            "application/javascript": [
              "\n",
              "    async function download(id, filename, size) {\n",
              "      if (!google.colab.kernel.accessAllowed) {\n",
              "        return;\n",
              "      }\n",
              "      const div = document.createElement('div');\n",
              "      const label = document.createElement('label');\n",
              "      label.textContent = `Downloading \"${filename}\": `;\n",
              "      div.appendChild(label);\n",
              "      const progress = document.createElement('progress');\n",
              "      progress.max = size;\n",
              "      div.appendChild(progress);\n",
              "      document.body.appendChild(div);\n",
              "\n",
              "      const buffers = [];\n",
              "      let downloaded = 0;\n",
              "\n",
              "      const channel = await google.colab.kernel.comms.open(id);\n",
              "      // Send a message to notify the kernel that we're ready.\n",
              "      channel.send({})\n",
              "\n",
              "      for await (const message of channel.messages) {\n",
              "        // Send a message to notify the kernel that we're ready.\n",
              "        channel.send({})\n",
              "        if (message.buffers) {\n",
              "          for (const buffer of message.buffers) {\n",
              "            buffers.push(buffer);\n",
              "            downloaded += buffer.byteLength;\n",
              "            progress.value = downloaded;\n",
              "          }\n",
              "        }\n",
              "      }\n",
              "      const blob = new Blob(buffers, {type: 'application/binary'});\n",
              "      const a = document.createElement('a');\n",
              "      a.href = window.URL.createObjectURL(blob);\n",
              "      a.download = filename;\n",
              "      div.appendChild(a);\n",
              "      a.click();\n",
              "      div.remove();\n",
              "    }\n",
              "  "
            ],
            "text/plain": [
              "<IPython.core.display.Javascript object>"
            ]
          },
          "metadata": {
            "tags": []
          }
        },
        {
          "output_type": "display_data",
          "data": {
            "application/javascript": [
              "download(\"download_892a0dca-985f-40e3-b1cf-e34ff5be341f\", \"out.zip\", 20418)"
            ],
            "text/plain": [
              "<IPython.core.display.Javascript object>"
            ]
          },
          "metadata": {
            "tags": []
          }
        },
        {
          "output_type": "display_data",
          "data": {
            "application/javascript": [
              "\n",
              "    async function download(id, filename, size) {\n",
              "      if (!google.colab.kernel.accessAllowed) {\n",
              "        return;\n",
              "      }\n",
              "      const div = document.createElement('div');\n",
              "      const label = document.createElement('label');\n",
              "      label.textContent = `Downloading \"${filename}\": `;\n",
              "      div.appendChild(label);\n",
              "      const progress = document.createElement('progress');\n",
              "      progress.max = size;\n",
              "      div.appendChild(progress);\n",
              "      document.body.appendChild(div);\n",
              "\n",
              "      const buffers = [];\n",
              "      let downloaded = 0;\n",
              "\n",
              "      const channel = await google.colab.kernel.comms.open(id);\n",
              "      // Send a message to notify the kernel that we're ready.\n",
              "      channel.send({})\n",
              "\n",
              "      for await (const message of channel.messages) {\n",
              "        // Send a message to notify the kernel that we're ready.\n",
              "        channel.send({})\n",
              "        if (message.buffers) {\n",
              "          for (const buffer of message.buffers) {\n",
              "            buffers.push(buffer);\n",
              "            downloaded += buffer.byteLength;\n",
              "            progress.value = downloaded;\n",
              "          }\n",
              "        }\n",
              "      }\n",
              "      const blob = new Blob(buffers, {type: 'application/binary'});\n",
              "      const a = document.createElement('a');\n",
              "      a.href = window.URL.createObjectURL(blob);\n",
              "      a.download = filename;\n",
              "      div.appendChild(a);\n",
              "      a.click();\n",
              "      div.remove();\n",
              "    }\n",
              "  "
            ],
            "text/plain": [
              "<IPython.core.display.Javascript object>"
            ]
          },
          "metadata": {
            "tags": []
          }
        },
        {
          "output_type": "display_data",
          "data": {
            "application/javascript": [
              "download(\"download_330fd09b-fd25-47b8-9f4f-b0fde9b6c7c6\", \"out.zip\", 18764)"
            ],
            "text/plain": [
              "<IPython.core.display.Javascript object>"
            ]
          },
          "metadata": {
            "tags": []
          }
        },
        {
          "output_type": "display_data",
          "data": {
            "application/javascript": [
              "\n",
              "    async function download(id, filename, size) {\n",
              "      if (!google.colab.kernel.accessAllowed) {\n",
              "        return;\n",
              "      }\n",
              "      const div = document.createElement('div');\n",
              "      const label = document.createElement('label');\n",
              "      label.textContent = `Downloading \"${filename}\": `;\n",
              "      div.appendChild(label);\n",
              "      const progress = document.createElement('progress');\n",
              "      progress.max = size;\n",
              "      div.appendChild(progress);\n",
              "      document.body.appendChild(div);\n",
              "\n",
              "      const buffers = [];\n",
              "      let downloaded = 0;\n",
              "\n",
              "      const channel = await google.colab.kernel.comms.open(id);\n",
              "      // Send a message to notify the kernel that we're ready.\n",
              "      channel.send({})\n",
              "\n",
              "      for await (const message of channel.messages) {\n",
              "        // Send a message to notify the kernel that we're ready.\n",
              "        channel.send({})\n",
              "        if (message.buffers) {\n",
              "          for (const buffer of message.buffers) {\n",
              "            buffers.push(buffer);\n",
              "            downloaded += buffer.byteLength;\n",
              "            progress.value = downloaded;\n",
              "          }\n",
              "        }\n",
              "      }\n",
              "      const blob = new Blob(buffers, {type: 'application/binary'});\n",
              "      const a = document.createElement('a');\n",
              "      a.href = window.URL.createObjectURL(blob);\n",
              "      a.download = filename;\n",
              "      div.appendChild(a);\n",
              "      a.click();\n",
              "      div.remove();\n",
              "    }\n",
              "  "
            ],
            "text/plain": [
              "<IPython.core.display.Javascript object>"
            ]
          },
          "metadata": {
            "tags": []
          }
        },
        {
          "output_type": "display_data",
          "data": {
            "application/javascript": [
              "download(\"download_11bef013-8247-477e-84fa-d1266d0e8bef\", \"out.zip\", 17191)"
            ],
            "text/plain": [
              "<IPython.core.display.Javascript object>"
            ]
          },
          "metadata": {
            "tags": []
          }
        }
      ]
    },
    {
      "cell_type": "code",
      "metadata": {
        "colab": {
          "base_uri": "https://localhost:8080/"
        },
        "id": "VOOlxZvc6DvD",
        "outputId": "76147359-4a1c-40bb-df16-55fe8ee29ca1"
      },
      "source": [
        "print(shops['shop 1'][2])"
      ],
      "execution_count": null,
      "outputs": [
        {
          "output_type": "stream",
          "text": [
            "           date  placed  sales\n",
            "0    2018-01-01     1.5  1.537\n",
            "1    2018-01-02     1.5  0.556\n",
            "2    2018-01-03     1.0  0.471\n",
            "3    2018-01-04     1.0  0.513\n",
            "4    2018-01-05     1.5  1.325\n",
            "...         ...     ...    ...\n",
            "1091 2020-12-27     0.0  0.342\n",
            "1092 2020-12-28     0.0  0.301\n",
            "1093 2020-12-29     0.0  0.386\n",
            "1094 2020-12-30     0.0  0.687\n",
            "1095 2020-12-31     0.0  1.029\n",
            "\n",
            "[1096 rows x 3 columns]\n"
          ],
          "name": "stdout"
        }
      ]
    },
    {
      "cell_type": "markdown",
      "metadata": {
        "id": "ngcUjbIjU4fs"
      },
      "source": [
        "#RNN"
      ]
    },
    {
      "cell_type": "code",
      "metadata": {
        "id": "cyi4M83YU504"
      },
      "source": [
        "from keras.models import Sequential, load_model\r\n",
        "from keras.layers.core import Dense\r\n",
        "from keras.layers.recurrent import SimpleRNN\r\n",
        "from keras import optimizers\r\n",
        "from keras.callbacks import EarlyStopping\r\n",
        "from sklearn.preprocessing import MinMaxScaler\r\n",
        "from sklearn.metrics import mean_squared_error, r2_score\r\n",
        "from math import sqrt\r\n",
        "\r\n",
        "earlystop = EarlyStopping(monitor='val_loss', min_delta=0.00001, patience=80,  verbose=1, mode='min')\r\n",
        "callbacks_list = [earlystop]"
      ],
      "execution_count": null,
      "outputs": []
    },
    {
      "cell_type": "code",
      "metadata": {
        "id": "LW_-CedZW7ZH"
      },
      "source": [
        "#Build and train the model\r\n",
        "def fit_model(train,val,timesteps,hl,lr,batch,epochs):\r\n",
        "    X_train = []\r\n",
        "    Y_train = []\r\n",
        "    X_val = []\r\n",
        "    Y_val = []\r\n",
        "  \r\n",
        "    # Loop for training data\r\n",
        "    for i in range(timesteps,train.shape[0]):\r\n",
        "        X_train.append(train[i-timesteps:i]) #changed here, original doesnt have 1\r\n",
        "        Y_train.append(train[i][0])\r\n",
        "    X_train,Y_train = np.array(X_train),np.array(Y_train)\r\n",
        "  \r\n",
        "    # Loop for val data\r\n",
        "    for i in range(timesteps,val.shape[0]):\r\n",
        "        X_val.append(val[i-timesteps:i]) #changed here, original doesnt have 1\r\n",
        "        Y_val.append(val[i][0])\r\n",
        "    X_val,Y_val = np.array(X_val),np.array(Y_val)\r\n",
        "    \r\n",
        "    # Adding Layers to the model\r\n",
        "    model = Sequential()\r\n",
        "    model.add(SimpleRNN(X_train.shape[2],input_shape = (X_train.shape[1],X_train.shape[2]),return_sequences = True,\r\n",
        "                        activation = 'relu'))\r\n",
        "    for i in range(len(hl)-1):        \r\n",
        "        model.add(SimpleRNN(hl[i],activation = 'relu',return_sequences = True))\r\n",
        "    model.add(SimpleRNN(hl[-1],activation = 'relu'))\r\n",
        "    model.add(Dense(1))\r\n",
        "    model.compile(optimizer = optimizers.Adam(lr = lr), loss = 'mean_squared_error')\r\n",
        "    #print(model.summary())\r\n",
        "  \r\n",
        "    # Training the data\r\n",
        "    history = model.fit(X_train,Y_train,epochs = epochs,batch_size = batch,validation_data = (X_val, Y_val),verbose = 0,\r\n",
        "                        shuffle = False, callbacks=callbacks_list)\r\n",
        "    model.reset_states()\r\n",
        "    return model, history.history['loss'], history.history['val_loss']"
      ],
      "execution_count": null,
      "outputs": []
    },
    {
      "cell_type": "code",
      "metadata": {
        "id": "DzBYnNhCXFr4"
      },
      "source": [
        "# Evaluating the model\r\n",
        "def evaluate_model(model,test,timesteps):\r\n",
        "    X_test = []\r\n",
        "    Y_test = []\r\n",
        "\r\n",
        "    # Loop for testing data\r\n",
        "    for i in range(timesteps,test.shape[0]):\r\n",
        "        X_test.append(test[i-timesteps:i])\r\n",
        "        Y_test.append(test[i][0])\r\n",
        "    X_test,Y_test = np.array(X_test),np.array(Y_test)\r\n",
        "    #print(X_test.shape,Y_test.shape)\r\n",
        "  \r\n",
        "    # Prediction Time !!!!\r\n",
        "    Y_hat = model.predict(X_test)\r\n",
        "    mse = mean_squared_error(Y_test,Y_hat)\r\n",
        "    rmse = sqrt(mse)\r\n",
        "    r = r2_score(Y_test,Y_hat)\r\n",
        "    return mse, rmse, r, Y_test, Y_hat\r\n",
        "  "
      ],
      "execution_count": null,
      "outputs": []
    },
    {
      "cell_type": "code",
      "metadata": {
        "id": "j2474RglXHSe"
      },
      "source": [
        "# Plotting the predictions\r\n",
        "def plot_data(Y_test,Y_hat):\r\n",
        "    plt.plot(Y_test,c = 'r')\r\n",
        "    plt.plot(Y_hat,c = 'y')\r\n",
        "    plt.xlabel('Day')\r\n",
        "    plt.ylabel('Qty')\r\n",
        "    plt.title(\"Prediction using Multivatiate-RNN\")\r\n",
        "    plt.legend(['Actual','Predicted'],loc = 'lower right')\r\n",
        "    plt.show()"
      ],
      "execution_count": null,
      "outputs": []
    },
    {
      "cell_type": "code",
      "metadata": {
        "id": "EKzE60uHXI5R"
      },
      "source": [
        "# Plotting the training errors\r\n",
        "def plot_error(train_loss,val_loss):\r\n",
        "    plt.plot(train_loss,c = 'r')\r\n",
        "    plt.plot(val_loss,c = 'b')\r\n",
        "    plt.ylabel('Loss')\r\n",
        "    plt.xlabel('Epochs')\r\n",
        "    plt.title('Loss Plot')\r\n",
        "    plt.legend(['train','val'],loc = 'upper right')\r\n",
        "    plt.show()"
      ],
      "execution_count": null,
      "outputs": []
    },
    {
      "cell_type": "markdown",
      "metadata": {
        "id": "F9gyUB3lXQRG"
      },
      "source": [
        "#Build"
      ]
    },
    {
      "cell_type": "markdown",
      "metadata": {
        "id": "XjiA74Myj0Li"
      },
      "source": [
        "Checking if there are any errors in the dict"
      ]
    },
    {
      "cell_type": "code",
      "metadata": {
        "colab": {
          "base_uri": "https://localhost:8080/"
        },
        "id": "p2VbO2AzbY-v",
        "outputId": "46f9a82d-ba29-480a-d5d7-121a5994af5b"
      },
      "source": [
        "current = shops['shop 1'][0] #shop1, A001\r\n",
        "print(current)\r\n",
        "print(current.loc[1008,:].values)"
      ],
      "execution_count": null,
      "outputs": [
        {
          "output_type": "stream",
          "text": [
            "           date  placed  sales\n",
            "0    2018-01-01   120.0   98.0\n",
            "1    2018-01-02    80.0   43.0\n",
            "2    2018-01-03    50.0   51.0\n",
            "3    2018-01-04    30.0   40.0\n",
            "4    2018-01-05   100.0  101.0\n",
            "...         ...     ...    ...\n",
            "1091 2020-12-27     0.0   31.0\n",
            "1092 2020-12-28     0.0   49.0\n",
            "1093 2020-12-29     0.0   41.0\n",
            "1094 2020-12-30     0.0   42.0\n",
            "1095 2020-12-31     0.0   97.0\n",
            "\n",
            "[1096 rows x 3 columns]\n",
            "[Timestamp('2020-10-05 00:00:00') 20.0 14.0]\n"
          ],
          "name": "stdout"
        }
      ]
    },
    {
      "cell_type": "markdown",
      "metadata": {
        "id": "cC7Lk-U0j8ac"
      },
      "source": [
        "Model evaluation during training and testing"
      ]
    },
    {
      "cell_type": "code",
      "metadata": {
        "id": "Wa3CxXskfbmL"
      },
      "source": [
        "mse, rmse, r2_value,true,predicted = evaluate_model(model,test,1)\r\n",
        "print('MSE = {}'.format(mse))\r\n",
        "print('RMSE = {}'.format(rmse))\r\n",
        "print('R-Squared Score = {}'.format(r2_value))\r\n",
        "plot_data(true,predicted)\r\n",
        "trainPredict = np.zeros(shape=(len(predicted), 2) )\r\n",
        "# put the predicted values in the right field\r\n",
        "trainPredict[:,0] = predicted[:,0]\r\n",
        "result = sc.inverse_transform(trainPredict)[:,0]\r\n",
        "print(result)"
      ],
      "execution_count": null,
      "outputs": []
    },
    {
      "cell_type": "markdown",
      "metadata": {
        "id": "AvKOOU_okDxc"
      },
      "source": [
        "Helper Functions"
      ]
    },
    {
      "cell_type": "code",
      "metadata": {
        "id": "yB01s-ZMXSc8"
      },
      "source": [
        "# Train Val Test Split\r\n",
        "def split(current):\r\n",
        "  train_data = current.loc[0:730, current.columns != 'date'] # to 2020/01/01\r\n",
        "\r\n",
        "  val_data = current.loc[731:1064, current.columns != 'date'] # to 2020/11/31\r\n",
        "\r\n",
        "  generate_data = current.loc[1065:, current.columns != 'date']\r\n",
        "  generate_data = generate_data[['sales','placed']]\r\n",
        "   \r\n",
        "  return train_data, val_data, generate_data\r\n",
        "#print(train_data.shape,val_data.shape,test_data.shape)"
      ],
      "execution_count": null,
      "outputs": []
    },
    {
      "cell_type": "code",
      "metadata": {
        "id": "6YgeCaBEcbl2"
      },
      "source": [
        "# Normalisation\r\n",
        "def normalise(train_data, val_data, generate_data):\r\n",
        "  sc = MinMaxScaler()\r\n",
        "  train = sc.fit_transform(train_data)\r\n",
        "  val = sc.transform(val_data)\r\n",
        "  generate = sc.transform(generate_data) #ok even if first column is all 0, as it normalises based on column\r\n",
        "  return sc, train, val, generate\r\n",
        "#print(train.shape,val.shape,test.shape)"
      ],
      "execution_count": null,
      "outputs": []
    },
    {
      "cell_type": "markdown",
      "metadata": {
        "id": "N7GsOzNozHwP"
      },
      "source": [
        "Actual training and data generation"
      ]
    },
    {
      "cell_type": "code",
      "metadata": {
        "colab": {
          "base_uri": "https://localhost:8080/"
        },
        "id": "5alFIlZpg29T",
        "outputId": "b6b9765e-5d43-4dca-afdf-ea165ff4e7bd"
      },
      "source": [
        "timesteps = 15\r\n",
        "hl = [64,50,40,35]\r\n",
        "lr = 1e-3\r\n",
        "batch_size = 8\r\n",
        "num_epochs = 200\r\n",
        "overall = {}\r\n",
        "\r\n",
        "for i in range(1,2):#for each shop\r\n",
        "  shop = 'shop ' + str(i)\r\n",
        "  shopData = []\r\n",
        "  for j in range(10,11):\r\n",
        "    current = shops[shop][j] #shop1, A001\r\n",
        "    train_data, val_data, generate_data = split(current)\r\n",
        "    sc, train, val, generate = normalise(train_data, val_data, generate_data)\r\n",
        "    model,train_error,val_error = fit_model(train,val,timesteps,hl,lr,batch_size,num_epochs)\r\n",
        "\r\n",
        "    #Generating part\r\n",
        "    generateSet =  np.array([val[-timesteps:]])\r\n",
        "    result = [] #to be saved and stored in the new excel sheet\r\n",
        "    for k in range(31): #create a loop\r\n",
        "      row = generate[k] \r\n",
        "      predicted = model.predict(generateSet)\r\n",
        "      row[0] = max(predicted,0)\r\n",
        "      row = np.array([[row]])\r\n",
        "      result.append([predicted[0][0]])\r\n",
        "      generateSet = np.delete(generateSet, (0), axis=1) \r\n",
        "      generateSet = np.insert(generateSet, (timesteps-1), row, axis = 1)\r\n",
        "      \r\n",
        "    predicted = np.array(result)\r\n",
        "    trainPredict = np.zeros(shape=(len(predicted), 2) )\r\n",
        "    # put the predicted values in the right field\r\n",
        "    trainPredict[:,0] = predicted[:,0]\r\n",
        "    result = sc.inverse_transform(trainPredict)[:,0]     \r\n",
        "    result = np.maximum(result,0)\r\n",
        "    print(\"NUM \" + str(j), result)\r\n",
        "    #mse, rmse, r2_value,true,predicted = evaluate_model(model,generate,1) \r\n",
        "    shopData.append(result)\r\n",
        "    model.save(shop + ' A0' + str(j))\r\n",
        "  overall[shop] = shopData\r\n",
        "  \r\n",
        "  print(overall)"
      ],
      "execution_count": null,
      "outputs": [
        {
          "output_type": "stream",
          "text": [
            "Epoch 00081: early stopping\n",
            "NUM 10 [5.59126273 5.59126273 5.59126273 5.59126273 5.59126273 5.59126273\n",
            " 5.59126273 5.59126273 5.59126273 5.59126273 5.59126273 5.59126273\n",
            " 5.59126273 5.59126273 5.59126273 5.59126273 5.59126273 5.59126273\n",
            " 5.59126273 5.59126273 5.59126273 5.59126273 5.59126273 5.59126273\n",
            " 5.59126273 5.59126273 5.59126273 5.59126273 5.59126273 5.59126273\n",
            " 5.59126273]\n",
            "INFO:tensorflow:Assets written to: shop 1 A010/assets\n",
            "{'shop 1': [array([5.59126273, 5.59126273, 5.59126273, 5.59126273, 5.59126273,\n",
            "       5.59126273, 5.59126273, 5.59126273, 5.59126273, 5.59126273,\n",
            "       5.59126273, 5.59126273, 5.59126273, 5.59126273, 5.59126273,\n",
            "       5.59126273, 5.59126273, 5.59126273, 5.59126273, 5.59126273,\n",
            "       5.59126273, 5.59126273, 5.59126273, 5.59126273, 5.59126273,\n",
            "       5.59126273, 5.59126273, 5.59126273, 5.59126273, 5.59126273,\n",
            "       5.59126273])]}\n"
          ],
          "name": "stdout"
        }
      ]
    },
    {
      "cell_type": "code",
      "metadata": {
        "colab": {
          "base_uri": "https://localhost:8080/",
          "height": 283
        },
        "id": "jHDTUsQAkWVD",
        "outputId": "21c05699-792c-4417-9245-d7632cd8ba66"
      },
      "source": [
        "current = shops['shop 1'][0]\r\n",
        "plt.plot(current['date'].loc[1065:],overall['shop 1'][0])\r\n",
        "plt.plot(current['date'].loc[1065:],current['sales'].loc[1065:])"
      ],
      "execution_count": null,
      "outputs": [
        {
          "output_type": "execute_result",
          "data": {
            "text/plain": [
              "[<matplotlib.lines.Line2D at 0x7fc336326ed0>]"
            ]
          },
          "metadata": {
            "tags": []
          },
          "execution_count": 261
        },
        {
          "output_type": "display_data",
          "data": {
            "image/png": "[encoded data removed]",
            "text/plain": [
              "<Figure size 432x288 with 1 Axes>"
            ]
          },
          "metadata": {
            "tags": []
          }
        }
      ]
    },
    {
      "cell_type": "code",
      "metadata": {
        "colab": {
          "base_uri": "https://localhost:8080/",
          "height": 282
        },
        "id": "CrKbG1zYpUC5",
        "outputId": "b7441c45-3559-4b1a-d51d-feacb74f3662"
      },
      "source": [
        "current = shops['shop 1'][0]\r\n",
        "plt.plot(current['date'].loc[1030:1064],current['placed'].loc[1030:1064])\r\n",
        "plt.plot(current['date'].loc[1030:1064],current['sales'].loc[1030:1064])"
      ],
      "execution_count": null,
      "outputs": [
        {
          "output_type": "execute_result",
          "data": {
            "text/plain": [
              "[<matplotlib.lines.Line2D at 0x7fc33e1f1810>]"
            ]
          },
          "metadata": {
            "tags": []
          },
          "execution_count": 247
        },
        {
          "output_type": "display_data",
          "data": {
            "image/png": "[encoded data removed]",
            "text/plain": [
              "<Figure size 432x288 with 1 Axes>"
            ]
          },
          "metadata": {
            "tags": []
          }
        }
      ]
    },
    {
      "cell_type": "code",
      "metadata": {
        "colab": {
          "base_uri": "https://localhost:8080/",
          "height": 282
        },
        "id": "B-Qx5PUhkpsW",
        "outputId": "04c1f9c4-b831-4e5f-9b85-7baee6bd6c94"
      },
      "source": [
        "current = shops['shop 1'][2]\r\n",
        "plt.plot(current['date'].loc[1030:1064],current['placed'].loc[1030:1064])\r\n",
        "plt.plot(current['date'].loc[1030:1064],current['sales'].loc[1030:1064])"
      ],
      "execution_count": null,
      "outputs": [
        {
          "output_type": "execute_result",
          "data": {
            "text/plain": [
              "[<matplotlib.lines.Line2D at 0x7fc389384d90>]"
            ]
          },
          "metadata": {
            "tags": []
          },
          "execution_count": 274
        },
        {
          "output_type": "display_data",
          "data": {
            "image/png": "[encoded data removed]",
            "text/plain": [
              "<Figure size 432x288 with 1 Axes>"
            ]
          },
          "metadata": {
            "tags": []
          }
        }
      ]
    },
    {
      "cell_type": "code",
      "metadata": {
        "colab": {
          "base_uri": "https://localhost:8080/",
          "height": 419
        },
        "id": "e9DsCz-L5yip",
        "outputId": "49e1f56d-0111-48ab-d644-52e18471be19"
      },
      "source": [
        "shops[shop][2]"
      ],
      "execution_count": null,
      "outputs": [
        {
          "output_type": "execute_result",
          "data": {
            "text/html": [
              "<div>\n",
              "<style scoped>\n",
              "    .dataframe tbody tr th:only-of-type {\n",
              "        vertical-align: middle;\n",
              "    }\n",
              "\n",
              "    .dataframe tbody tr th {\n",
              "        vertical-align: top;\n",
              "    }\n",
              "\n",
              "    .dataframe thead th {\n",
              "        text-align: right;\n",
              "    }\n",
              "</style>\n",
              "<table border=\"1\" class=\"dataframe\">\n",
              "  <thead>\n",
              "    <tr style=\"text-align: right;\">\n",
              "      <th></th>\n",
              "      <th>date</th>\n",
              "      <th>placed</th>\n",
              "      <th>sales</th>\n",
              "    </tr>\n",
              "  </thead>\n",
              "  <tbody>\n",
              "    <tr>\n",
              "      <th>0</th>\n",
              "      <td>2018-01-01</td>\n",
              "      <td>1.5</td>\n",
              "      <td>1.537</td>\n",
              "    </tr>\n",
              "    <tr>\n",
              "      <th>1</th>\n",
              "      <td>2018-01-02</td>\n",
              "      <td>1.5</td>\n",
              "      <td>0.556</td>\n",
              "    </tr>\n",
              "    <tr>\n",
              "      <th>2</th>\n",
              "      <td>2018-01-03</td>\n",
              "      <td>1.0</td>\n",
              "      <td>0.471</td>\n",
              "    </tr>\n",
              "    <tr>\n",
              "      <th>3</th>\n",
              "      <td>2018-01-04</td>\n",
              "      <td>1.0</td>\n",
              "      <td>0.513</td>\n",
              "    </tr>\n",
              "    <tr>\n",
              "      <th>4</th>\n",
              "      <td>2018-01-05</td>\n",
              "      <td>1.5</td>\n",
              "      <td>1.325</td>\n",
              "    </tr>\n",
              "    <tr>\n",
              "      <th>...</th>\n",
              "      <td>...</td>\n",
              "      <td>...</td>\n",
              "      <td>...</td>\n",
              "    </tr>\n",
              "    <tr>\n",
              "      <th>1091</th>\n",
              "      <td>2020-12-27</td>\n",
              "      <td>0.0</td>\n",
              "      <td>0.342</td>\n",
              "    </tr>\n",
              "    <tr>\n",
              "      <th>1092</th>\n",
              "      <td>2020-12-28</td>\n",
              "      <td>0.0</td>\n",
              "      <td>0.301</td>\n",
              "    </tr>\n",
              "    <tr>\n",
              "      <th>1093</th>\n",
              "      <td>2020-12-29</td>\n",
              "      <td>0.0</td>\n",
              "      <td>0.386</td>\n",
              "    </tr>\n",
              "    <tr>\n",
              "      <th>1094</th>\n",
              "      <td>2020-12-30</td>\n",
              "      <td>0.0</td>\n",
              "      <td>0.687</td>\n",
              "    </tr>\n",
              "    <tr>\n",
              "      <th>1095</th>\n",
              "      <td>2020-12-31</td>\n",
              "      <td>0.0</td>\n",
              "      <td>1.029</td>\n",
              "    </tr>\n",
              "  </tbody>\n",
              "</table>\n",
              "<p>1096 rows × 3 columns</p>\n",
              "</div>"
            ],
            "text/plain": [
              "           date  placed  sales\n",
              "0    2018-01-01     1.5  1.537\n",
              "1    2018-01-02     1.5  0.556\n",
              "2    2018-01-03     1.0  0.471\n",
              "3    2018-01-04     1.0  0.513\n",
              "4    2018-01-05     1.5  1.325\n",
              "...         ...     ...    ...\n",
              "1091 2020-12-27     0.0  0.342\n",
              "1092 2020-12-28     0.0  0.301\n",
              "1093 2020-12-29     0.0  0.386\n",
              "1094 2020-12-30     0.0  0.687\n",
              "1095 2020-12-31     0.0  1.029\n",
              "\n",
              "[1096 rows x 3 columns]"
            ]
          },
          "metadata": {
            "tags": []
          },
          "execution_count": 281
        }
      ]
    },
    {
      "cell_type": "code",
      "metadata": {
        "id": "sHlH7iQb54eO",
        "colab": {
          "base_uri": "https://localhost:8080/",
          "height": 374
        },
        "outputId": "9398e2e2-75cd-44d0-f1f9-b26f972295a7"
      },
      "source": [
        "from google.colab import files\n",
        "import json\n",
        "\n",
        "x = json.dumps (shops)\n",
        "y = x.encode('utf-8')\n",
        "with open('example.txt', 'w') as f:\n",
        "  f.write(str(y))\n",
        "\n",
        "files.download('example.txt')"
      ],
      "execution_count": null,
      "outputs": [
        {
          "output_type": "error",
          "ename": "TypeError",
          "evalue": "ignored",
          "traceback": [
            "\u001b[0;31m---------------------------------------------------------------------------\u001b[0m",
            "\u001b[0;31mTypeError\u001b[0m                                 Traceback (most recent call last)",
            "\u001b[0;32m<ipython-input-290-137dbd192a08>\u001b[0m in \u001b[0;36m<module>\u001b[0;34m()\u001b[0m\n\u001b[1;32m      2\u001b[0m \u001b[0;32mimport\u001b[0m \u001b[0mjson\u001b[0m\u001b[0;34m\u001b[0m\u001b[0;34m\u001b[0m\u001b[0m\n\u001b[1;32m      3\u001b[0m \u001b[0;34m\u001b[0m\u001b[0m\n\u001b[0;32m----> 4\u001b[0;31m \u001b[0mx\u001b[0m \u001b[0;34m=\u001b[0m \u001b[0mjson\u001b[0m\u001b[0;34m.\u001b[0m\u001b[0mdumps\u001b[0m \u001b[0;34m(\u001b[0m\u001b[0mshops\u001b[0m\u001b[0;34m)\u001b[0m\u001b[0;34m\u001b[0m\u001b[0;34m\u001b[0m\u001b[0m\n\u001b[0m\u001b[1;32m      5\u001b[0m \u001b[0my\u001b[0m \u001b[0;34m=\u001b[0m \u001b[0mx\u001b[0m\u001b[0;34m.\u001b[0m\u001b[0mencode\u001b[0m\u001b[0;34m(\u001b[0m\u001b[0;34m'utf-8'\u001b[0m\u001b[0;34m)\u001b[0m\u001b[0;34m\u001b[0m\u001b[0;34m\u001b[0m\u001b[0m\n\u001b[1;32m      6\u001b[0m \u001b[0;32mwith\u001b[0m \u001b[0mopen\u001b[0m\u001b[0;34m(\u001b[0m\u001b[0;34m'example.txt'\u001b[0m\u001b[0;34m,\u001b[0m \u001b[0;34m'w'\u001b[0m\u001b[0;34m)\u001b[0m \u001b[0;32mas\u001b[0m \u001b[0mf\u001b[0m\u001b[0;34m:\u001b[0m\u001b[0;34m\u001b[0m\u001b[0;34m\u001b[0m\u001b[0m\n",
            "\u001b[0;32m/usr/lib/python3.7/json/__init__.py\u001b[0m in \u001b[0;36mdumps\u001b[0;34m(obj, skipkeys, ensure_ascii, check_circular, allow_nan, cls, indent, separators, default, sort_keys, **kw)\u001b[0m\n\u001b[1;32m    229\u001b[0m         \u001b[0mcls\u001b[0m \u001b[0;32mis\u001b[0m \u001b[0;32mNone\u001b[0m \u001b[0;32mand\u001b[0m \u001b[0mindent\u001b[0m \u001b[0;32mis\u001b[0m \u001b[0;32mNone\u001b[0m \u001b[0;32mand\u001b[0m \u001b[0mseparators\u001b[0m \u001b[0;32mis\u001b[0m \u001b[0;32mNone\u001b[0m \u001b[0;32mand\u001b[0m\u001b[0;34m\u001b[0m\u001b[0;34m\u001b[0m\u001b[0m\n\u001b[1;32m    230\u001b[0m         default is None and not sort_keys and not kw):\n\u001b[0;32m--> 231\u001b[0;31m         \u001b[0;32mreturn\u001b[0m \u001b[0m_default_encoder\u001b[0m\u001b[0;34m.\u001b[0m\u001b[0mencode\u001b[0m\u001b[0;34m(\u001b[0m\u001b[0mobj\u001b[0m\u001b[0;34m)\u001b[0m\u001b[0;34m\u001b[0m\u001b[0;34m\u001b[0m\u001b[0m\n\u001b[0m\u001b[1;32m    232\u001b[0m     \u001b[0;32mif\u001b[0m \u001b[0mcls\u001b[0m \u001b[0;32mis\u001b[0m \u001b[0;32mNone\u001b[0m\u001b[0;34m:\u001b[0m\u001b[0;34m\u001b[0m\u001b[0;34m\u001b[0m\u001b[0m\n\u001b[1;32m    233\u001b[0m         \u001b[0mcls\u001b[0m \u001b[0;34m=\u001b[0m \u001b[0mJSONEncoder\u001b[0m\u001b[0;34m\u001b[0m\u001b[0;34m\u001b[0m\u001b[0m\n",
            "\u001b[0;32m/usr/lib/python3.7/json/encoder.py\u001b[0m in \u001b[0;36mencode\u001b[0;34m(self, o)\u001b[0m\n\u001b[1;32m    197\u001b[0m         \u001b[0;31m# exceptions aren't as detailed.  The list call should be roughly\u001b[0m\u001b[0;34m\u001b[0m\u001b[0;34m\u001b[0m\u001b[0;34m\u001b[0m\u001b[0m\n\u001b[1;32m    198\u001b[0m         \u001b[0;31m# equivalent to the PySequence_Fast that ''.join() would do.\u001b[0m\u001b[0;34m\u001b[0m\u001b[0;34m\u001b[0m\u001b[0;34m\u001b[0m\u001b[0m\n\u001b[0;32m--> 199\u001b[0;31m         \u001b[0mchunks\u001b[0m \u001b[0;34m=\u001b[0m \u001b[0mself\u001b[0m\u001b[0;34m.\u001b[0m\u001b[0miterencode\u001b[0m\u001b[0;34m(\u001b[0m\u001b[0mo\u001b[0m\u001b[0;34m,\u001b[0m \u001b[0m_one_shot\u001b[0m\u001b[0;34m=\u001b[0m\u001b[0;32mTrue\u001b[0m\u001b[0;34m)\u001b[0m\u001b[0;34m\u001b[0m\u001b[0;34m\u001b[0m\u001b[0m\n\u001b[0m\u001b[1;32m    200\u001b[0m         \u001b[0;32mif\u001b[0m \u001b[0;32mnot\u001b[0m \u001b[0misinstance\u001b[0m\u001b[0;34m(\u001b[0m\u001b[0mchunks\u001b[0m\u001b[0;34m,\u001b[0m \u001b[0;34m(\u001b[0m\u001b[0mlist\u001b[0m\u001b[0;34m,\u001b[0m \u001b[0mtuple\u001b[0m\u001b[0;34m)\u001b[0m\u001b[0;34m)\u001b[0m\u001b[0;34m:\u001b[0m\u001b[0;34m\u001b[0m\u001b[0;34m\u001b[0m\u001b[0m\n\u001b[1;32m    201\u001b[0m             \u001b[0mchunks\u001b[0m \u001b[0;34m=\u001b[0m \u001b[0mlist\u001b[0m\u001b[0;34m(\u001b[0m\u001b[0mchunks\u001b[0m\u001b[0;34m)\u001b[0m\u001b[0;34m\u001b[0m\u001b[0;34m\u001b[0m\u001b[0m\n",
            "\u001b[0;32m/usr/lib/python3.7/json/encoder.py\u001b[0m in \u001b[0;36miterencode\u001b[0;34m(self, o, _one_shot)\u001b[0m\n\u001b[1;32m    255\u001b[0m                 \u001b[0mself\u001b[0m\u001b[0;34m.\u001b[0m\u001b[0mkey_separator\u001b[0m\u001b[0;34m,\u001b[0m \u001b[0mself\u001b[0m\u001b[0;34m.\u001b[0m\u001b[0mitem_separator\u001b[0m\u001b[0;34m,\u001b[0m \u001b[0mself\u001b[0m\u001b[0;34m.\u001b[0m\u001b[0msort_keys\u001b[0m\u001b[0;34m,\u001b[0m\u001b[0;34m\u001b[0m\u001b[0;34m\u001b[0m\u001b[0m\n\u001b[1;32m    256\u001b[0m                 self.skipkeys, _one_shot)\n\u001b[0;32m--> 257\u001b[0;31m         \u001b[0;32mreturn\u001b[0m \u001b[0m_iterencode\u001b[0m\u001b[0;34m(\u001b[0m\u001b[0mo\u001b[0m\u001b[0;34m,\u001b[0m \u001b[0;36m0\u001b[0m\u001b[0;34m)\u001b[0m\u001b[0;34m\u001b[0m\u001b[0;34m\u001b[0m\u001b[0m\n\u001b[0m\u001b[1;32m    258\u001b[0m \u001b[0;34m\u001b[0m\u001b[0m\n\u001b[1;32m    259\u001b[0m def _make_iterencode(markers, _default, _encoder, _indent, _floatstr,\n",
            "\u001b[0;32m/usr/lib/python3.7/json/encoder.py\u001b[0m in \u001b[0;36mdefault\u001b[0;34m(self, o)\u001b[0m\n\u001b[1;32m    177\u001b[0m \u001b[0;34m\u001b[0m\u001b[0m\n\u001b[1;32m    178\u001b[0m         \"\"\"\n\u001b[0;32m--> 179\u001b[0;31m         raise TypeError(f'Object of type {o.__class__.__name__} '\n\u001b[0m\u001b[1;32m    180\u001b[0m                         f'is not JSON serializable')\n\u001b[1;32m    181\u001b[0m \u001b[0;34m\u001b[0m\u001b[0m\n",
            "\u001b[0;31mTypeError\u001b[0m: Object of type DataFrame is not JSON serializable"
          ]
        }
      ]
    },
    {
      "cell_type": "code",
      "metadata": {
        "id": "xuIWSg3fUTP4"
      },
      "source": [
        ""
      ],
      "execution_count": null,
      "outputs": []
    }
  ]
}