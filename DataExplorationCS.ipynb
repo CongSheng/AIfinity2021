{
  "nbformat": 4,
  "nbformat_minor": 0,
  "metadata": {
    "colab": {
      "name": "DataExplorationCS.ipynb",
      "provenance": [],
      "toc_visible": true,
      "include_colab_link": true
    },
    "kernelspec": {
      "display_name": "Python 3",
      "name": "python3"
    }
  },
  "cells": [
    {
      "cell_type": "markdown",
      "metadata": {
        "id": "view-in-github",
        "colab_type": "text"
      },
      "source": [
        "<a href=\"https://colab.research.google.com/github/CongSheng/AIfinity2021/blob/main/DataExplorationCS.ipynb\" target=\"_parent\"><img src=\"https://colab.research.google.com/assets/colab-badge.svg\" alt=\"Open In Colab\"/></a>"
      ]
    },
    {
      "cell_type": "markdown",
      "metadata": {
        "id": "5syHCxFuAoFs"
      },
      "source": [
        "#Import Core Libraries and Data"
      ]
    },
    {
      "cell_type": "code",
      "metadata": {
        "colab": {
          "base_uri": "https://localhost:8080/"
        },
        "id": "yyDltBH7AJuk",
        "outputId": "82b5ae21-cf85-44f9-fd3e-8f6adee39c5d"
      },
      "source": [
        "import pandas as pd\r\n",
        "import numpy as np\r\n",
        "from google.colab import drive\r\n",
        "import datetime as dt\r\n",
        "drive.mount('/content/drive')"
      ],
      "execution_count": null,
      "outputs": [
        {
          "output_type": "stream",
          "text": [
            "Mounted at /content/drive\n"
          ],
          "name": "stdout"
        }
      ]
    },
    {
      "cell_type": "code",
      "metadata": {
        "id": "mXZv-HeRA6P1"
      },
      "source": [
        "dataDir = \"/content/drive/MyDrive/AIfinity_SensitiveContent/Data/\"\r\n",
        "salesDf_A = pd.read_excel(dataDir + \"Master Data (Sales).xlsx\", sheet_name='Sales - Outlet 1')\r\n",
        "purchaseDf_A = pd.read_excel(dataDir + \"Master Data (Purchase).xlsx\", sheet_name='Purchase - Outlet 1')\r\n",
        "\r\n",
        "salesDf_B = pd.read_excel(dataDir + \"Master Data (Sales).xlsx\", sheet_name='Sales - Outlet 2')\r\n",
        "purchaseDf_B = pd.read_excel(dataDir + \"Master Data (Purchase).xlsx\", sheet_name='Purchase - Outlet 2')\r\n",
        "\r\n",
        "salesDf_C = pd.read_excel(dataDir + \"Master Data (Sales).xlsx\", sheet_name='Sales - Outlet 3')\r\n",
        "purchaseDf_C = pd.read_excel(dataDir + \"Master Data (Purchase).xlsx\", sheet_name='Purchase - Outlet 3')"
      ],
      "execution_count": null,
      "outputs": []
    },
    {
      "cell_type": "code",
      "metadata": {
        "colab": {
          "base_uri": "https://localhost:8080/",
          "height": 204
        },
        "id": "WvysFV9ICk6v",
        "outputId": "c3239e9e-c00b-49ae-d797-4ecbb35f4d33"
      },
      "source": [
        "salesDf_A.head()"
      ],
      "execution_count": null,
      "outputs": [
        {
          "output_type": "execute_result",
          "data": {
            "text/html": [
              "<div>\n",
              "<style scoped>\n",
              "    .dataframe tbody tr th:only-of-type {\n",
              "        vertical-align: middle;\n",
              "    }\n",
              "\n",
              "    .dataframe tbody tr th {\n",
              "        vertical-align: top;\n",
              "    }\n",
              "\n",
              "    .dataframe thead th {\n",
              "        text-align: right;\n",
              "    }\n",
              "</style>\n",
              "<table border=\"1\" class=\"dataframe\">\n",
              "  <thead>\n",
              "    <tr style=\"text-align: right;\">\n",
              "      <th></th>\n",
              "      <th>SKU</th>\n",
              "      <th>Product - English Name</th>\n",
              "      <th>Product - Chinese Name</th>\n",
              "      <th>Date of Sale</th>\n",
              "      <th>Amount Sold</th>\n",
              "    </tr>\n",
              "  </thead>\n",
              "  <tbody>\n",
              "    <tr>\n",
              "      <th>0</th>\n",
              "      <td>A013</td>\n",
              "      <td>Mushroom Combo</td>\n",
              "      <td>菌类拼盘</td>\n",
              "      <td>2018/01/01</td>\n",
              "      <td>14</td>\n",
              "    </tr>\n",
              "    <tr>\n",
              "      <th>1</th>\n",
              "      <td>A013</td>\n",
              "      <td>Mushroom Combo</td>\n",
              "      <td>菌类拼盘</td>\n",
              "      <td>2018/01/02</td>\n",
              "      <td>7</td>\n",
              "    </tr>\n",
              "    <tr>\n",
              "      <th>2</th>\n",
              "      <td>A013</td>\n",
              "      <td>Mushroom Combo</td>\n",
              "      <td>菌类拼盘</td>\n",
              "      <td>2018/01/03</td>\n",
              "      <td>7</td>\n",
              "    </tr>\n",
              "    <tr>\n",
              "      <th>3</th>\n",
              "      <td>A013</td>\n",
              "      <td>Mushroom Combo</td>\n",
              "      <td>菌类拼盘</td>\n",
              "      <td>2018/01/04</td>\n",
              "      <td>6</td>\n",
              "    </tr>\n",
              "    <tr>\n",
              "      <th>4</th>\n",
              "      <td>A013</td>\n",
              "      <td>Mushroom Combo</td>\n",
              "      <td>菌类拼盘</td>\n",
              "      <td>2018/01/05</td>\n",
              "      <td>15</td>\n",
              "    </tr>\n",
              "  </tbody>\n",
              "</table>\n",
              "</div>"
            ],
            "text/plain": [
              "    SKU Product - English Name Product - Chinese Name Date of Sale  Amount Sold\n",
              "0  A013         Mushroom Combo                   菌类拼盘   2018/01/01           14\n",
              "1  A013         Mushroom Combo                   菌类拼盘   2018/01/02            7\n",
              "2  A013         Mushroom Combo                   菌类拼盘   2018/01/03            7\n",
              "3  A013         Mushroom Combo                   菌类拼盘   2018/01/04            6\n",
              "4  A013         Mushroom Combo                   菌类拼盘   2018/01/05           15"
            ]
          },
          "metadata": {
            "tags": []
          },
          "execution_count": 3
        }
      ]
    },
    {
      "cell_type": "code",
      "metadata": {
        "colab": {
          "base_uri": "https://localhost:8080/",
          "height": 204
        },
        "id": "aDqwNA0ZC2gc",
        "outputId": "f046832f-fcb8-493c-d5a2-06e33e042086"
      },
      "source": [
        "purchaseDf_A.head()"
      ],
      "execution_count": null,
      "outputs": [
        {
          "output_type": "execute_result",
          "data": {
            "text/html": [
              "<div>\n",
              "<style scoped>\n",
              "    .dataframe tbody tr th:only-of-type {\n",
              "        vertical-align: middle;\n",
              "    }\n",
              "\n",
              "    .dataframe tbody tr th {\n",
              "        vertical-align: top;\n",
              "    }\n",
              "\n",
              "    .dataframe thead th {\n",
              "        text-align: right;\n",
              "    }\n",
              "</style>\n",
              "<table border=\"1\" class=\"dataframe\">\n",
              "  <thead>\n",
              "    <tr style=\"text-align: right;\">\n",
              "      <th></th>\n",
              "      <th>SKU</th>\n",
              "      <th>Product Name - English</th>\n",
              "      <th>Product Name - Chinese</th>\n",
              "      <th>Date of Purchase</th>\n",
              "      <th>Quantity of Order Placed</th>\n",
              "      <th>Quantity of Order Received</th>\n",
              "    </tr>\n",
              "  </thead>\n",
              "  <tbody>\n",
              "    <tr>\n",
              "      <th>0</th>\n",
              "      <td>A001</td>\n",
              "      <td>Enoki Mushroom</td>\n",
              "      <td>金针菇</td>\n",
              "      <td>2018/01/01</td>\n",
              "      <td>120.0</td>\n",
              "      <td>120.0</td>\n",
              "    </tr>\n",
              "    <tr>\n",
              "      <th>1</th>\n",
              "      <td>A001</td>\n",
              "      <td>Enoki Mushroom</td>\n",
              "      <td>金针菇</td>\n",
              "      <td>2018/01/02</td>\n",
              "      <td>80.0</td>\n",
              "      <td>80.0</td>\n",
              "    </tr>\n",
              "    <tr>\n",
              "      <th>2</th>\n",
              "      <td>A001</td>\n",
              "      <td>Enoki Mushroom</td>\n",
              "      <td>金针菇</td>\n",
              "      <td>2018/01/03</td>\n",
              "      <td>50.0</td>\n",
              "      <td>50.0</td>\n",
              "    </tr>\n",
              "    <tr>\n",
              "      <th>3</th>\n",
              "      <td>A001</td>\n",
              "      <td>Enoki Mushroom</td>\n",
              "      <td>金针菇</td>\n",
              "      <td>2018/01/04</td>\n",
              "      <td>30.0</td>\n",
              "      <td>30.0</td>\n",
              "    </tr>\n",
              "    <tr>\n",
              "      <th>4</th>\n",
              "      <td>A001</td>\n",
              "      <td>Enoki Mushroom</td>\n",
              "      <td>金针菇</td>\n",
              "      <td>2018/01/05</td>\n",
              "      <td>100.0</td>\n",
              "      <td>100.0</td>\n",
              "    </tr>\n",
              "  </tbody>\n",
              "</table>\n",
              "</div>"
            ],
            "text/plain": [
              "    SKU  ... Quantity of Order Received\n",
              "0  A001  ...                      120.0\n",
              "1  A001  ...                       80.0\n",
              "2  A001  ...                       50.0\n",
              "3  A001  ...                       30.0\n",
              "4  A001  ...                      100.0\n",
              "\n",
              "[5 rows x 6 columns]"
            ]
          },
          "metadata": {
            "tags": []
          },
          "execution_count": 4
        }
      ]
    },
    {
      "cell_type": "code",
      "metadata": {
        "colab": {
          "base_uri": "https://localhost:8080/",
          "height": 297
        },
        "id": "4QG52j4xDDaj",
        "outputId": "955d61e7-bf4f-46bc-8d72-aa3e58d1e0de"
      },
      "source": [
        "salesDf_A.describe()"
      ],
      "execution_count": null,
      "outputs": [
        {
          "output_type": "execute_result",
          "data": {
            "text/html": [
              "<div>\n",
              "<style scoped>\n",
              "    .dataframe tbody tr th:only-of-type {\n",
              "        vertical-align: middle;\n",
              "    }\n",
              "\n",
              "    .dataframe tbody tr th {\n",
              "        vertical-align: top;\n",
              "    }\n",
              "\n",
              "    .dataframe thead th {\n",
              "        text-align: right;\n",
              "    }\n",
              "</style>\n",
              "<table border=\"1\" class=\"dataframe\">\n",
              "  <thead>\n",
              "    <tr style=\"text-align: right;\">\n",
              "      <th></th>\n",
              "      <th>Amount Sold</th>\n",
              "    </tr>\n",
              "  </thead>\n",
              "  <tbody>\n",
              "    <tr>\n",
              "      <th>count</th>\n",
              "      <td>14292.000000</td>\n",
              "    </tr>\n",
              "    <tr>\n",
              "      <th>mean</th>\n",
              "      <td>6.185418</td>\n",
              "    </tr>\n",
              "    <tr>\n",
              "      <th>std</th>\n",
              "      <td>5.955228</td>\n",
              "    </tr>\n",
              "    <tr>\n",
              "      <th>min</th>\n",
              "      <td>0.000000</td>\n",
              "    </tr>\n",
              "    <tr>\n",
              "      <th>25%</th>\n",
              "      <td>2.000000</td>\n",
              "    </tr>\n",
              "    <tr>\n",
              "      <th>50%</th>\n",
              "      <td>4.000000</td>\n",
              "    </tr>\n",
              "    <tr>\n",
              "      <th>75%</th>\n",
              "      <td>8.000000</td>\n",
              "    </tr>\n",
              "    <tr>\n",
              "      <th>max</th>\n",
              "      <td>70.000000</td>\n",
              "    </tr>\n",
              "  </tbody>\n",
              "</table>\n",
              "</div>"
            ],
            "text/plain": [
              "        Amount Sold\n",
              "count  14292.000000\n",
              "mean       6.185418\n",
              "std        5.955228\n",
              "min        0.000000\n",
              "25%        2.000000\n",
              "50%        4.000000\n",
              "75%        8.000000\n",
              "max       70.000000"
            ]
          },
          "metadata": {
            "tags": []
          },
          "execution_count": 5
        }
      ]
    },
    {
      "cell_type": "code",
      "metadata": {
        "colab": {
          "base_uri": "https://localhost:8080/",
          "height": 297
        },
        "id": "Xo5n3D97DW29",
        "outputId": "bfdac064-3554-4627-97d1-7e170f951227"
      },
      "source": [
        "purchaseDf_A.describe()"
      ],
      "execution_count": null,
      "outputs": [
        {
          "output_type": "execute_result",
          "data": {
            "text/html": [
              "<div>\n",
              "<style scoped>\n",
              "    .dataframe tbody tr th:only-of-type {\n",
              "        vertical-align: middle;\n",
              "    }\n",
              "\n",
              "    .dataframe tbody tr th {\n",
              "        vertical-align: top;\n",
              "    }\n",
              "\n",
              "    .dataframe thead th {\n",
              "        text-align: right;\n",
              "    }\n",
              "</style>\n",
              "<table border=\"1\" class=\"dataframe\">\n",
              "  <thead>\n",
              "    <tr style=\"text-align: right;\">\n",
              "      <th></th>\n",
              "      <th>Quantity of Order Placed</th>\n",
              "      <th>Quantity of Order Received</th>\n",
              "    </tr>\n",
              "  </thead>\n",
              "  <tbody>\n",
              "    <tr>\n",
              "      <th>count</th>\n",
              "      <td>9985.000000</td>\n",
              "      <td>9985.000000</td>\n",
              "    </tr>\n",
              "    <tr>\n",
              "      <th>mean</th>\n",
              "      <td>10.591376</td>\n",
              "      <td>10.472248</td>\n",
              "    </tr>\n",
              "    <tr>\n",
              "      <th>std</th>\n",
              "      <td>19.423712</td>\n",
              "      <td>19.436830</td>\n",
              "    </tr>\n",
              "    <tr>\n",
              "      <th>min</th>\n",
              "      <td>0.160000</td>\n",
              "      <td>0.000000</td>\n",
              "    </tr>\n",
              "    <tr>\n",
              "      <th>25%</th>\n",
              "      <td>2.000000</td>\n",
              "      <td>1.900000</td>\n",
              "    </tr>\n",
              "    <tr>\n",
              "      <th>50%</th>\n",
              "      <td>4.000000</td>\n",
              "      <td>4.000000</td>\n",
              "    </tr>\n",
              "    <tr>\n",
              "      <th>75%</th>\n",
              "      <td>8.000000</td>\n",
              "      <td>8.000000</td>\n",
              "    </tr>\n",
              "    <tr>\n",
              "      <th>max</th>\n",
              "      <td>200.000000</td>\n",
              "      <td>200.000000</td>\n",
              "    </tr>\n",
              "  </tbody>\n",
              "</table>\n",
              "</div>"
            ],
            "text/plain": [
              "       Quantity of Order Placed  Quantity of Order Received\n",
              "count               9985.000000                 9985.000000\n",
              "mean                  10.591376                   10.472248\n",
              "std                   19.423712                   19.436830\n",
              "min                    0.160000                    0.000000\n",
              "25%                    2.000000                    1.900000\n",
              "50%                    4.000000                    4.000000\n",
              "75%                    8.000000                    8.000000\n",
              "max                  200.000000                  200.000000"
            ]
          },
          "metadata": {
            "tags": []
          },
          "execution_count": 6
        }
      ]
    },
    {
      "cell_type": "code",
      "metadata": {
        "colab": {
          "base_uri": "https://localhost:8080/",
          "height": 297
        },
        "id": "np1tt0ftDY6d",
        "outputId": "c7abed78-76fa-4898-e3cd-0c6565c79622"
      },
      "source": [
        "purchaseDf_A[\"Difference\"]=purchaseDf_A[\"Quantity of Order Placed\"]-purchaseDf_A[\"Quantity of Order Received\"]\r\n",
        "purchaseDf_A.describe()"
      ],
      "execution_count": null,
      "outputs": [
        {
          "output_type": "execute_result",
          "data": {
            "text/html": [
              "<div>\n",
              "<style scoped>\n",
              "    .dataframe tbody tr th:only-of-type {\n",
              "        vertical-align: middle;\n",
              "    }\n",
              "\n",
              "    .dataframe tbody tr th {\n",
              "        vertical-align: top;\n",
              "    }\n",
              "\n",
              "    .dataframe thead th {\n",
              "        text-align: right;\n",
              "    }\n",
              "</style>\n",
              "<table border=\"1\" class=\"dataframe\">\n",
              "  <thead>\n",
              "    <tr style=\"text-align: right;\">\n",
              "      <th></th>\n",
              "      <th>Quantity of Order Placed</th>\n",
              "      <th>Quantity of Order Received</th>\n",
              "      <th>Difference</th>\n",
              "    </tr>\n",
              "  </thead>\n",
              "  <tbody>\n",
              "    <tr>\n",
              "      <th>count</th>\n",
              "      <td>9985.000000</td>\n",
              "      <td>9985.000000</td>\n",
              "      <td>9985.000000</td>\n",
              "    </tr>\n",
              "    <tr>\n",
              "      <th>mean</th>\n",
              "      <td>10.591376</td>\n",
              "      <td>10.472248</td>\n",
              "      <td>0.119128</td>\n",
              "    </tr>\n",
              "    <tr>\n",
              "      <th>std</th>\n",
              "      <td>19.423712</td>\n",
              "      <td>19.436830</td>\n",
              "      <td>1.510920</td>\n",
              "    </tr>\n",
              "    <tr>\n",
              "      <th>min</th>\n",
              "      <td>0.160000</td>\n",
              "      <td>0.000000</td>\n",
              "      <td>-20.000000</td>\n",
              "    </tr>\n",
              "    <tr>\n",
              "      <th>25%</th>\n",
              "      <td>2.000000</td>\n",
              "      <td>1.900000</td>\n",
              "      <td>0.000000</td>\n",
              "    </tr>\n",
              "    <tr>\n",
              "      <th>50%</th>\n",
              "      <td>4.000000</td>\n",
              "      <td>4.000000</td>\n",
              "      <td>0.000000</td>\n",
              "    </tr>\n",
              "    <tr>\n",
              "      <th>75%</th>\n",
              "      <td>8.000000</td>\n",
              "      <td>8.000000</td>\n",
              "      <td>0.000000</td>\n",
              "    </tr>\n",
              "    <tr>\n",
              "      <th>max</th>\n",
              "      <td>200.000000</td>\n",
              "      <td>200.000000</td>\n",
              "      <td>40.000000</td>\n",
              "    </tr>\n",
              "  </tbody>\n",
              "</table>\n",
              "</div>"
            ],
            "text/plain": [
              "       Quantity of Order Placed  Quantity of Order Received   Difference\n",
              "count               9985.000000                 9985.000000  9985.000000\n",
              "mean                  10.591376                   10.472248     0.119128\n",
              "std                   19.423712                   19.436830     1.510920\n",
              "min                    0.160000                    0.000000   -20.000000\n",
              "25%                    2.000000                    1.900000     0.000000\n",
              "50%                    4.000000                    4.000000     0.000000\n",
              "75%                    8.000000                    8.000000     0.000000\n",
              "max                  200.000000                  200.000000    40.000000"
            ]
          },
          "metadata": {
            "tags": []
          },
          "execution_count": 7
        }
      ]
    },
    {
      "cell_type": "code",
      "metadata": {
        "colab": {
          "base_uri": "https://localhost:8080/"
        },
        "id": "78ktD783Erx6",
        "outputId": "f49dfd21-992c-4dc3-f456-6c5a8a933db7"
      },
      "source": [
        "purchaseDf_A.SKU.unique()"
      ],
      "execution_count": null,
      "outputs": [
        {
          "output_type": "execute_result",
          "data": {
            "text/plain": [
              "array(['A001', 'A002', 'A003', 'A004', 'A005', 'A006', 'A007', 'A008',\n",
              "       'A009', 'A010', 'A011', 'A012'], dtype=object)"
            ]
          },
          "metadata": {
            "tags": []
          },
          "execution_count": 8
        }
      ]
    },
    {
      "cell_type": "code",
      "metadata": {
        "colab": {
          "base_uri": "https://localhost:8080/"
        },
        "id": "4mwfdmdeKuWD",
        "outputId": "517f7a06-eaae-4711-9dea-e90db39e03a1"
      },
      "source": [
        "salesDf_A.SKU.unique()"
      ],
      "execution_count": null,
      "outputs": [
        {
          "output_type": "execute_result",
          "data": {
            "text/plain": [
              "array(['A013', 'A014', 'A001-1', 'A005-1', 'A004-1', 'A003-1', 'A002-1',\n",
              "       'A007-1', 'A006-1', 'A009-1', 'A012-1', 'A008-1', 'A011-1',\n",
              "       'A010-1', 'A004-2', 'A003-2', 'A002-2', 'A006-2'], dtype=object)"
            ]
          },
          "metadata": {
            "tags": []
          },
          "execution_count": 9
        }
      ]
    },
    {
      "cell_type": "markdown",
      "metadata": {
        "id": "1rAL_QI3T5nz"
      },
      "source": [
        "# Breaking into Constituents"
      ]
    },
    {
      "cell_type": "code",
      "metadata": {
        "id": "2TDIh3ZgKxsf"
      },
      "source": [
        "enokiDict = {\r\n",
        "  \"A001-1\": 2,\r\n",
        "  \"A001-2\": 3,\r\n",
        "  \"A013\": 1\r\n",
        "}\r\n",
        "oysterDict = {\r\n",
        "  \"A002-1\":1,\r\n",
        "  \"A002-2\":0.5,\r\n",
        "  \"A013\":0.5 \r\n",
        "}\r\n",
        "shiitakeDict = {\r\n",
        "    \"A003-1\":0.085,\r\n",
        "    \"A003-2\":0.043,\r\n",
        "    \"A013\":0.043\r\n",
        "}\r\n",
        "pleurotusDict = {\r\n",
        "    \"A004-1\":0.15,\r\n",
        "    \"A004-2\":0.075,\r\n",
        "    \"A013\":0.075\r\n",
        "}\r\n",
        "crabDict = {\r\n",
        "    \"A005-1\":1,\r\n",
        "    \"A005-2\":0.5,\r\n",
        "    \"A013\":0.5\r\n",
        "}\r\n",
        "bambooDict = {\r\n",
        "    \"A006-1\":1,\r\n",
        "    \"A006-2\":0.5\r\n",
        "}\r\n",
        "spinachDict = {\r\n",
        "    \"A007-1\":0.125,\r\n",
        "    \"A014\":0.065\r\n",
        "}\r\n",
        "crownDict = {\r\n",
        "    \"A008-1\":0.125,\r\n",
        "    \"A014\":0.065\r\n",
        "}\r\n",
        "indianDict = {\r\n",
        "    \"A009-1\":0.15,\r\n",
        "    \"A014\":0.075\r\n",
        "}\r\n",
        "freshDict = {\r\n",
        "    \"A010-1\":0.1,\r\n",
        "    \"A014\":0.05\r\n",
        "}\r\n",
        "chineseDict = {\r\n",
        "    \"A011-1\":0.2,\r\n",
        "    \"A014\":0.1\r\n",
        "}\r\n",
        "babyDict = {\r\n",
        "    \"A012-1\":0.14\r\n",
        "}"
      ],
      "execution_count": null,
      "outputs": []
    },
    {
      "cell_type": "code",
      "metadata": {
        "id": "uUEW7jIvXyCc"
      },
      "source": [
        "salesDf_A['A001'] = salesDf_A['SKU'].apply(lambda x: '0' if (x!=\"A001-1\" and x!=\"A001-2\" and x!=\"A013\") else enokiDict.get(x))\r\n",
        "salesDf_A['A002'] = salesDf_A['SKU'].apply(lambda x: '0' if (x!=\"A002-1\" and x!=\"A002-2\" and x!=\"A013\") else oysterDict.get(x))\r\n",
        "salesDf_A['A003'] = salesDf_A['SKU'].apply(lambda x: '0' if (x!=\"A003-1\" and x!=\"A003-2\" and x!=\"A013\") else shiitakeDict.get(x))\r\n",
        "salesDf_A['A004'] = salesDf_A['SKU'].apply(lambda x: '0' if (x!=\"A004-1\" and x!=\"A004-2\" and x!=\"A013\") else pleurotusDict.get(x))\r\n",
        "salesDf_A['A005'] = salesDf_A['SKU'].apply(lambda x: '0' if (x!=\"A005-1\" and x!=\"A005-2\" and x!=\"A013\") else crabDict.get(x))\r\n",
        "salesDf_A['A006'] = salesDf_A['SKU'].apply(lambda x: '0' if (x!=\"A006-1\" and x!=\"A006-2\") else bambooDict.get(x))\r\n",
        "salesDf_A['A007'] = salesDf_A['SKU'].apply(lambda x: '0' if (x!=\"A007-1\" and x!=\"A014\") else spinachDict.get(x))\r\n",
        "salesDf_A['A008'] = salesDf_A['SKU'].apply(lambda x: '0' if (x!=\"A008-1\" and x!=\"A014\") else crownDict.get(x))\r\n",
        "salesDf_A['A009'] = salesDf_A['SKU'].apply(lambda x: '0' if (x!=\"A009-1\" and x!=\"A014\") else indianDict.get(x))\r\n",
        "salesDf_A['A010'] = salesDf_A['SKU'].apply(lambda x: '0' if (x!=\"A010-1\" and x!=\"A014\") else freshDict.get(x))\r\n",
        "salesDf_A['A011'] = salesDf_A['SKU'].apply(lambda x: '0' if (x!=\"A011-1\" and x!=\"A014\") else chineseDict.get(x))\r\n",
        "salesDf_A['A012'] = salesDf_A['SKU'].apply(lambda x: '0' if (x!=\"A012-1\" and x!=\"A014\") else babyDict.get(x))"
      ],
      "execution_count": null,
      "outputs": []
    },
    {
      "cell_type": "code",
      "metadata": {
        "colab": {
          "base_uri": "https://localhost:8080/",
          "height": 204
        },
        "id": "PjAUTSImZuhh",
        "outputId": "465ff8d0-079e-437a-ef55-5be3f4474202"
      },
      "source": [
        "salesDf_A.tail()"
      ],
      "execution_count": null,
      "outputs": [
        {
          "output_type": "execute_result",
          "data": {
            "text/html": [
              "<div>\n",
              "<style scoped>\n",
              "    .dataframe tbody tr th:only-of-type {\n",
              "        vertical-align: middle;\n",
              "    }\n",
              "\n",
              "    .dataframe tbody tr th {\n",
              "        vertical-align: top;\n",
              "    }\n",
              "\n",
              "    .dataframe thead th {\n",
              "        text-align: right;\n",
              "    }\n",
              "</style>\n",
              "<table border=\"1\" class=\"dataframe\">\n",
              "  <thead>\n",
              "    <tr style=\"text-align: right;\">\n",
              "      <th></th>\n",
              "      <th>SKU</th>\n",
              "      <th>Product - English Name</th>\n",
              "      <th>Product - Chinese Name</th>\n",
              "      <th>Date of Sale</th>\n",
              "      <th>Amount Sold</th>\n",
              "      <th>A001</th>\n",
              "      <th>A002</th>\n",
              "      <th>A003</th>\n",
              "      <th>A004</th>\n",
              "      <th>A005</th>\n",
              "      <th>A006</th>\n",
              "      <th>A007</th>\n",
              "      <th>A008</th>\n",
              "      <th>A009</th>\n",
              "      <th>A010</th>\n",
              "      <th>A011</th>\n",
              "      <th>A012</th>\n",
              "    </tr>\n",
              "  </thead>\n",
              "  <tbody>\n",
              "    <tr>\n",
              "      <th>14287</th>\n",
              "      <td>A006-2</td>\n",
              "      <td>Bamboo Shoot (Half)</td>\n",
              "      <td>笋片（半份）</td>\n",
              "      <td>2020/12/27</td>\n",
              "      <td>2</td>\n",
              "      <td>0</td>\n",
              "      <td>0</td>\n",
              "      <td>0</td>\n",
              "      <td>0</td>\n",
              "      <td>0</td>\n",
              "      <td>0.5</td>\n",
              "      <td>0</td>\n",
              "      <td>0</td>\n",
              "      <td>0</td>\n",
              "      <td>0</td>\n",
              "      <td>0</td>\n",
              "      <td>0</td>\n",
              "    </tr>\n",
              "    <tr>\n",
              "      <th>14288</th>\n",
              "      <td>A006-2</td>\n",
              "      <td>Bamboo Shoot (Half)</td>\n",
              "      <td>笋片（半份）</td>\n",
              "      <td>2020/12/28</td>\n",
              "      <td>1</td>\n",
              "      <td>0</td>\n",
              "      <td>0</td>\n",
              "      <td>0</td>\n",
              "      <td>0</td>\n",
              "      <td>0</td>\n",
              "      <td>0.5</td>\n",
              "      <td>0</td>\n",
              "      <td>0</td>\n",
              "      <td>0</td>\n",
              "      <td>0</td>\n",
              "      <td>0</td>\n",
              "      <td>0</td>\n",
              "    </tr>\n",
              "    <tr>\n",
              "      <th>14289</th>\n",
              "      <td>A006-2</td>\n",
              "      <td>Bamboo Shoot (Half)</td>\n",
              "      <td>笋片（半份）</td>\n",
              "      <td>2020/12/29</td>\n",
              "      <td>1</td>\n",
              "      <td>0</td>\n",
              "      <td>0</td>\n",
              "      <td>0</td>\n",
              "      <td>0</td>\n",
              "      <td>0</td>\n",
              "      <td>0.5</td>\n",
              "      <td>0</td>\n",
              "      <td>0</td>\n",
              "      <td>0</td>\n",
              "      <td>0</td>\n",
              "      <td>0</td>\n",
              "      <td>0</td>\n",
              "    </tr>\n",
              "    <tr>\n",
              "      <th>14290</th>\n",
              "      <td>A006-2</td>\n",
              "      <td>Bamboo Shoot (Half)</td>\n",
              "      <td>笋片（半份）</td>\n",
              "      <td>2020/12/30</td>\n",
              "      <td>1</td>\n",
              "      <td>0</td>\n",
              "      <td>0</td>\n",
              "      <td>0</td>\n",
              "      <td>0</td>\n",
              "      <td>0</td>\n",
              "      <td>0.5</td>\n",
              "      <td>0</td>\n",
              "      <td>0</td>\n",
              "      <td>0</td>\n",
              "      <td>0</td>\n",
              "      <td>0</td>\n",
              "      <td>0</td>\n",
              "    </tr>\n",
              "    <tr>\n",
              "      <th>14291</th>\n",
              "      <td>A006-2</td>\n",
              "      <td>Bamboo Shoot (Half)</td>\n",
              "      <td>笋片（半份）</td>\n",
              "      <td>2020/12/31</td>\n",
              "      <td>5</td>\n",
              "      <td>0</td>\n",
              "      <td>0</td>\n",
              "      <td>0</td>\n",
              "      <td>0</td>\n",
              "      <td>0</td>\n",
              "      <td>0.5</td>\n",
              "      <td>0</td>\n",
              "      <td>0</td>\n",
              "      <td>0</td>\n",
              "      <td>0</td>\n",
              "      <td>0</td>\n",
              "      <td>0</td>\n",
              "    </tr>\n",
              "  </tbody>\n",
              "</table>\n",
              "</div>"
            ],
            "text/plain": [
              "          SKU Product - English Name Product - Chinese Name  ... A010  A011 A012\n",
              "14287  A006-2    Bamboo Shoot (Half)                 笋片（半份）  ...    0     0    0\n",
              "14288  A006-2    Bamboo Shoot (Half)                 笋片（半份）  ...    0     0    0\n",
              "14289  A006-2    Bamboo Shoot (Half)                 笋片（半份）  ...    0     0    0\n",
              "14290  A006-2    Bamboo Shoot (Half)                 笋片（半份）  ...    0     0    0\n",
              "14291  A006-2    Bamboo Shoot (Half)                 笋片（半份）  ...    0     0    0\n",
              "\n",
              "[5 rows x 17 columns]"
            ]
          },
          "metadata": {
            "tags": []
          },
          "execution_count": 12
        }
      ]
    },
    {
      "cell_type": "code",
      "metadata": {
        "colab": {
          "base_uri": "https://localhost:8080/"
        },
        "id": "5VwoKUKxZ2w9",
        "outputId": "70e7059d-54f9-4d1b-d24f-1cb15096cae2"
      },
      "source": [
        "(salesDf_A[salesDf_A[\"Date of Sale\"] == \"2018/01/01\"][\"A001\"]).astype(float).sum()"
      ],
      "execution_count": null,
      "outputs": [
        {
          "output_type": "execute_result",
          "data": {
            "text/plain": [
              "3.0"
            ]
          },
          "metadata": {
            "tags": []
          },
          "execution_count": 13
        }
      ]
    },
    {
      "cell_type": "code",
      "metadata": {
        "colab": {
          "base_uri": "https://localhost:8080/",
          "height": 35
        },
        "id": "O5TqoLzzct-R",
        "outputId": "237c1a28-47d4-4b28-9b4e-450936dc4132"
      },
      "source": [
        "salesDf_A[\"Date of Sale\"].unique()[1]"
      ],
      "execution_count": null,
      "outputs": [
        {
          "output_type": "execute_result",
          "data": {
            "application/vnd.google.colaboratory.intrinsic+json": {
              "type": "string"
            },
            "text/plain": [
              "'2018/01/02'"
            ]
          },
          "metadata": {
            "tags": []
          },
          "execution_count": 14
        }
      ]
    },
    {
      "cell_type": "code",
      "metadata": {
        "id": "O23LYdIFfJGc"
      },
      "source": [
        "salesDf_A[\"A001\"]=salesDf_A[\"A001\"].astype(float)*salesDf_A[\"Amount Sold\"]\r\n",
        "salesDf_A[\"A002\"]=salesDf_A[\"A002\"].astype(float)*salesDf_A[\"Amount Sold\"]\r\n",
        "salesDf_A[\"A003\"]=salesDf_A[\"A003\"].astype(float)*salesDf_A[\"Amount Sold\"]\r\n",
        "salesDf_A[\"A004\"]=salesDf_A[\"A004\"].astype(float)*salesDf_A[\"Amount Sold\"]\r\n",
        "salesDf_A[\"A005\"]=salesDf_A[\"A005\"].astype(float)*salesDf_A[\"Amount Sold\"]\r\n",
        "salesDf_A[\"A006\"]=salesDf_A[\"A006\"].astype(float)*salesDf_A[\"Amount Sold\"]\r\n",
        "salesDf_A[\"A007\"]=salesDf_A[\"A007\"].astype(float)*salesDf_A[\"Amount Sold\"]\r\n",
        "salesDf_A[\"A008\"]=salesDf_A[\"A008\"].astype(float)*salesDf_A[\"Amount Sold\"]\r\n",
        "salesDf_A[\"A009\"]=salesDf_A[\"A009\"].astype(float)*salesDf_A[\"Amount Sold\"]\r\n",
        "salesDf_A[\"A010\"]=salesDf_A[\"A010\"].astype(float)*salesDf_A[\"Amount Sold\"]\r\n",
        "salesDf_A[\"A011\"]=salesDf_A[\"A011\"].astype(float)*salesDf_A[\"Amount Sold\"]\r\n",
        "salesDf_A[\"A012\"]=salesDf_A[\"A012\"].astype(float)*salesDf_A[\"Amount Sold\"]\r\n"
      ],
      "execution_count": null,
      "outputs": []
    },
    {
      "cell_type": "code",
      "metadata": {
        "colab": {
          "base_uri": "https://localhost:8080/",
          "height": 204
        },
        "id": "OBArYrBkhtaa",
        "outputId": "a109701f-842f-4e9d-aab1-3122ee796270"
      },
      "source": [
        "salesDf_A.head()"
      ],
      "execution_count": null,
      "outputs": [
        {
          "output_type": "execute_result",
          "data": {
            "text/html": [
              "<div>\n",
              "<style scoped>\n",
              "    .dataframe tbody tr th:only-of-type {\n",
              "        vertical-align: middle;\n",
              "    }\n",
              "\n",
              "    .dataframe tbody tr th {\n",
              "        vertical-align: top;\n",
              "    }\n",
              "\n",
              "    .dataframe thead th {\n",
              "        text-align: right;\n",
              "    }\n",
              "</style>\n",
              "<table border=\"1\" class=\"dataframe\">\n",
              "  <thead>\n",
              "    <tr style=\"text-align: right;\">\n",
              "      <th></th>\n",
              "      <th>SKU</th>\n",
              "      <th>Product - English Name</th>\n",
              "      <th>Product - Chinese Name</th>\n",
              "      <th>Date of Sale</th>\n",
              "      <th>Amount Sold</th>\n",
              "      <th>A001</th>\n",
              "      <th>A002</th>\n",
              "      <th>A003</th>\n",
              "      <th>A004</th>\n",
              "      <th>A005</th>\n",
              "      <th>A006</th>\n",
              "      <th>A007</th>\n",
              "      <th>A008</th>\n",
              "      <th>A009</th>\n",
              "      <th>A010</th>\n",
              "      <th>A011</th>\n",
              "      <th>A012</th>\n",
              "    </tr>\n",
              "  </thead>\n",
              "  <tbody>\n",
              "    <tr>\n",
              "      <th>0</th>\n",
              "      <td>A013</td>\n",
              "      <td>Mushroom Combo</td>\n",
              "      <td>菌类拼盘</td>\n",
              "      <td>2018/01/01</td>\n",
              "      <td>14</td>\n",
              "      <td>14.0</td>\n",
              "      <td>7.0</td>\n",
              "      <td>0.602</td>\n",
              "      <td>1.050</td>\n",
              "      <td>7.0</td>\n",
              "      <td>0.0</td>\n",
              "      <td>0.0</td>\n",
              "      <td>0.0</td>\n",
              "      <td>0.0</td>\n",
              "      <td>0.0</td>\n",
              "      <td>0.0</td>\n",
              "      <td>0.0</td>\n",
              "    </tr>\n",
              "    <tr>\n",
              "      <th>1</th>\n",
              "      <td>A013</td>\n",
              "      <td>Mushroom Combo</td>\n",
              "      <td>菌类拼盘</td>\n",
              "      <td>2018/01/02</td>\n",
              "      <td>7</td>\n",
              "      <td>7.0</td>\n",
              "      <td>3.5</td>\n",
              "      <td>0.301</td>\n",
              "      <td>0.525</td>\n",
              "      <td>3.5</td>\n",
              "      <td>0.0</td>\n",
              "      <td>0.0</td>\n",
              "      <td>0.0</td>\n",
              "      <td>0.0</td>\n",
              "      <td>0.0</td>\n",
              "      <td>0.0</td>\n",
              "      <td>0.0</td>\n",
              "    </tr>\n",
              "    <tr>\n",
              "      <th>2</th>\n",
              "      <td>A013</td>\n",
              "      <td>Mushroom Combo</td>\n",
              "      <td>菌类拼盘</td>\n",
              "      <td>2018/01/03</td>\n",
              "      <td>7</td>\n",
              "      <td>7.0</td>\n",
              "      <td>3.5</td>\n",
              "      <td>0.301</td>\n",
              "      <td>0.525</td>\n",
              "      <td>3.5</td>\n",
              "      <td>0.0</td>\n",
              "      <td>0.0</td>\n",
              "      <td>0.0</td>\n",
              "      <td>0.0</td>\n",
              "      <td>0.0</td>\n",
              "      <td>0.0</td>\n",
              "      <td>0.0</td>\n",
              "    </tr>\n",
              "    <tr>\n",
              "      <th>3</th>\n",
              "      <td>A013</td>\n",
              "      <td>Mushroom Combo</td>\n",
              "      <td>菌类拼盘</td>\n",
              "      <td>2018/01/04</td>\n",
              "      <td>6</td>\n",
              "      <td>6.0</td>\n",
              "      <td>3.0</td>\n",
              "      <td>0.258</td>\n",
              "      <td>0.450</td>\n",
              "      <td>3.0</td>\n",
              "      <td>0.0</td>\n",
              "      <td>0.0</td>\n",
              "      <td>0.0</td>\n",
              "      <td>0.0</td>\n",
              "      <td>0.0</td>\n",
              "      <td>0.0</td>\n",
              "      <td>0.0</td>\n",
              "    </tr>\n",
              "    <tr>\n",
              "      <th>4</th>\n",
              "      <td>A013</td>\n",
              "      <td>Mushroom Combo</td>\n",
              "      <td>菌类拼盘</td>\n",
              "      <td>2018/01/05</td>\n",
              "      <td>15</td>\n",
              "      <td>15.0</td>\n",
              "      <td>7.5</td>\n",
              "      <td>0.645</td>\n",
              "      <td>1.125</td>\n",
              "      <td>7.5</td>\n",
              "      <td>0.0</td>\n",
              "      <td>0.0</td>\n",
              "      <td>0.0</td>\n",
              "      <td>0.0</td>\n",
              "      <td>0.0</td>\n",
              "      <td>0.0</td>\n",
              "      <td>0.0</td>\n",
              "    </tr>\n",
              "  </tbody>\n",
              "</table>\n",
              "</div>"
            ],
            "text/plain": [
              "    SKU Product - English Name Product - Chinese Name  ... A010  A011  A012\n",
              "0  A013         Mushroom Combo                   菌类拼盘  ...  0.0   0.0   0.0\n",
              "1  A013         Mushroom Combo                   菌类拼盘  ...  0.0   0.0   0.0\n",
              "2  A013         Mushroom Combo                   菌类拼盘  ...  0.0   0.0   0.0\n",
              "3  A013         Mushroom Combo                   菌类拼盘  ...  0.0   0.0   0.0\n",
              "4  A013         Mushroom Combo                   菌类拼盘  ...  0.0   0.0   0.0\n",
              "\n",
              "[5 rows x 17 columns]"
            ]
          },
          "metadata": {
            "tags": []
          },
          "execution_count": 16
        }
      ]
    },
    {
      "cell_type": "code",
      "metadata": {
        "id": "lYUHk14IiO9_"
      },
      "source": [
        "salesDf_A['A001'] = salesDf_A.groupby(['Date of Sale'])['A001'].transform('sum')\r\n",
        "salesDf_A['A002'] = salesDf_A.groupby(['Date of Sale'])['A002'].transform('sum')\r\n",
        "salesDf_A['A003'] = salesDf_A.groupby(['Date of Sale'])['A003'].transform('sum')\r\n",
        "salesDf_A['A004'] = salesDf_A.groupby(['Date of Sale'])['A004'].transform('sum')\r\n",
        "salesDf_A['A005'] = salesDf_A.groupby(['Date of Sale'])['A005'].transform('sum')\r\n",
        "salesDf_A['A006'] = salesDf_A.groupby(['Date of Sale'])['A006'].transform('sum')\r\n",
        "salesDf_A['A007'] = salesDf_A.groupby(['Date of Sale'])['A007'].transform('sum')\r\n",
        "salesDf_A['A008'] = salesDf_A.groupby(['Date of Sale'])['A008'].transform('sum')\r\n",
        "salesDf_A['A009'] = salesDf_A.groupby(['Date of Sale'])['A009'].transform('sum')\r\n",
        "salesDf_A['A010'] = salesDf_A.groupby(['Date of Sale'])['A010'].transform('sum')\r\n",
        "salesDf_A['A011'] = salesDf_A.groupby(['Date of Sale'])['A011'].transform('sum')\r\n",
        "salesDf_A['A012'] = salesDf_A.groupby(['Date of Sale'])['A012'].transform('sum')"
      ],
      "execution_count": null,
      "outputs": []
    },
    {
      "cell_type": "code",
      "metadata": {
        "colab": {
          "base_uri": "https://localhost:8080/",
          "height": 204
        },
        "id": "qyQGUDPfi-Ov",
        "outputId": "d6d71eb2-1873-4ccd-a1d4-1449f8ddd762"
      },
      "source": [
        "salesDf_A.tail()"
      ],
      "execution_count": null,
      "outputs": [
        {
          "output_type": "execute_result",
          "data": {
            "text/html": [
              "<div>\n",
              "<style scoped>\n",
              "    .dataframe tbody tr th:only-of-type {\n",
              "        vertical-align: middle;\n",
              "    }\n",
              "\n",
              "    .dataframe tbody tr th {\n",
              "        vertical-align: top;\n",
              "    }\n",
              "\n",
              "    .dataframe thead th {\n",
              "        text-align: right;\n",
              "    }\n",
              "</style>\n",
              "<table border=\"1\" class=\"dataframe\">\n",
              "  <thead>\n",
              "    <tr style=\"text-align: right;\">\n",
              "      <th></th>\n",
              "      <th>SKU</th>\n",
              "      <th>Product - English Name</th>\n",
              "      <th>Product - Chinese Name</th>\n",
              "      <th>Date of Sale</th>\n",
              "      <th>Amount Sold</th>\n",
              "      <th>A001</th>\n",
              "      <th>A002</th>\n",
              "      <th>A003</th>\n",
              "      <th>A004</th>\n",
              "      <th>A005</th>\n",
              "      <th>A006</th>\n",
              "      <th>A007</th>\n",
              "      <th>A008</th>\n",
              "      <th>A009</th>\n",
              "      <th>A010</th>\n",
              "      <th>A011</th>\n",
              "      <th>A012</th>\n",
              "    </tr>\n",
              "  </thead>\n",
              "  <tbody>\n",
              "    <tr>\n",
              "      <th>14287</th>\n",
              "      <td>A006-2</td>\n",
              "      <td>Bamboo Shoot (Half)</td>\n",
              "      <td>笋片（半份）</td>\n",
              "      <td>2020/12/27</td>\n",
              "      <td>2</td>\n",
              "      <td>31.0</td>\n",
              "      <td>3.0</td>\n",
              "      <td>0.342</td>\n",
              "      <td>0.600</td>\n",
              "      <td>1.5</td>\n",
              "      <td>3.0</td>\n",
              "      <td>0.945</td>\n",
              "      <td>1.570</td>\n",
              "      <td>0.825</td>\n",
              "      <td>0.15</td>\n",
              "      <td>1.7</td>\n",
              "      <td>0.98</td>\n",
              "    </tr>\n",
              "    <tr>\n",
              "      <th>14288</th>\n",
              "      <td>A006-2</td>\n",
              "      <td>Bamboo Shoot (Half)</td>\n",
              "      <td>笋片（半份）</td>\n",
              "      <td>2020/12/28</td>\n",
              "      <td>1</td>\n",
              "      <td>49.0</td>\n",
              "      <td>9.0</td>\n",
              "      <td>0.301</td>\n",
              "      <td>0.975</td>\n",
              "      <td>2.5</td>\n",
              "      <td>0.5</td>\n",
              "      <td>1.330</td>\n",
              "      <td>1.705</td>\n",
              "      <td>0.825</td>\n",
              "      <td>0.45</td>\n",
              "      <td>2.7</td>\n",
              "      <td>1.12</td>\n",
              "    </tr>\n",
              "    <tr>\n",
              "      <th>14289</th>\n",
              "      <td>A006-2</td>\n",
              "      <td>Bamboo Shoot (Half)</td>\n",
              "      <td>笋片（半份）</td>\n",
              "      <td>2020/12/29</td>\n",
              "      <td>1</td>\n",
              "      <td>41.0</td>\n",
              "      <td>6.0</td>\n",
              "      <td>0.386</td>\n",
              "      <td>0.600</td>\n",
              "      <td>2.5</td>\n",
              "      <td>2.5</td>\n",
              "      <td>0.830</td>\n",
              "      <td>1.455</td>\n",
              "      <td>0.675</td>\n",
              "      <td>0.45</td>\n",
              "      <td>1.9</td>\n",
              "      <td>1.54</td>\n",
              "    </tr>\n",
              "    <tr>\n",
              "      <th>14290</th>\n",
              "      <td>A006-2</td>\n",
              "      <td>Bamboo Shoot (Half)</td>\n",
              "      <td>笋片（半份）</td>\n",
              "      <td>2020/12/30</td>\n",
              "      <td>1</td>\n",
              "      <td>42.0</td>\n",
              "      <td>8.0</td>\n",
              "      <td>0.687</td>\n",
              "      <td>1.500</td>\n",
              "      <td>6.0</td>\n",
              "      <td>2.5</td>\n",
              "      <td>1.765</td>\n",
              "      <td>1.515</td>\n",
              "      <td>1.200</td>\n",
              "      <td>0.60</td>\n",
              "      <td>3.6</td>\n",
              "      <td>0.98</td>\n",
              "    </tr>\n",
              "    <tr>\n",
              "      <th>14291</th>\n",
              "      <td>A006-2</td>\n",
              "      <td>Bamboo Shoot (Half)</td>\n",
              "      <td>笋片（半份）</td>\n",
              "      <td>2020/12/31</td>\n",
              "      <td>5</td>\n",
              "      <td>97.0</td>\n",
              "      <td>19.5</td>\n",
              "      <td>1.029</td>\n",
              "      <td>1.950</td>\n",
              "      <td>10.5</td>\n",
              "      <td>5.5</td>\n",
              "      <td>3.170</td>\n",
              "      <td>2.545</td>\n",
              "      <td>2.700</td>\n",
              "      <td>1.30</td>\n",
              "      <td>5.0</td>\n",
              "      <td>2.38</td>\n",
              "    </tr>\n",
              "  </tbody>\n",
              "</table>\n",
              "</div>"
            ],
            "text/plain": [
              "          SKU Product - English Name Product - Chinese Name  ...  A010  A011  A012\n",
              "14287  A006-2    Bamboo Shoot (Half)                 笋片（半份）  ...  0.15   1.7  0.98\n",
              "14288  A006-2    Bamboo Shoot (Half)                 笋片（半份）  ...  0.45   2.7  1.12\n",
              "14289  A006-2    Bamboo Shoot (Half)                 笋片（半份）  ...  0.45   1.9  1.54\n",
              "14290  A006-2    Bamboo Shoot (Half)                 笋片（半份）  ...  0.60   3.6  0.98\n",
              "14291  A006-2    Bamboo Shoot (Half)                 笋片（半份）  ...  1.30   5.0  2.38\n",
              "\n",
              "[5 rows x 17 columns]"
            ]
          },
          "metadata": {
            "tags": []
          },
          "execution_count": 18
        }
      ]
    },
    {
      "cell_type": "code",
      "metadata": {
        "colab": {
          "base_uri": "https://localhost:8080/",
          "height": 80
        },
        "id": "3OwlqvW6i_UM",
        "outputId": "10cc3cb4-9541-4855-e795-5679267d3177"
      },
      "source": [
        "salesDf_A[salesDf_A['Date of Sale'] =='2020/05/20']"
      ],
      "execution_count": null,
      "outputs": [
        {
          "output_type": "execute_result",
          "data": {
            "text/html": [
              "<div>\n",
              "<style scoped>\n",
              "    .dataframe tbody tr th:only-of-type {\n",
              "        vertical-align: middle;\n",
              "    }\n",
              "\n",
              "    .dataframe tbody tr th {\n",
              "        vertical-align: top;\n",
              "    }\n",
              "\n",
              "    .dataframe thead th {\n",
              "        text-align: right;\n",
              "    }\n",
              "</style>\n",
              "<table border=\"1\" class=\"dataframe\">\n",
              "  <thead>\n",
              "    <tr style=\"text-align: right;\">\n",
              "      <th></th>\n",
              "      <th>SKU</th>\n",
              "      <th>Product - English Name</th>\n",
              "      <th>Product - Chinese Name</th>\n",
              "      <th>Date of Sale</th>\n",
              "      <th>Amount Sold</th>\n",
              "      <th>A001</th>\n",
              "      <th>A002</th>\n",
              "      <th>A003</th>\n",
              "      <th>A004</th>\n",
              "      <th>A005</th>\n",
              "      <th>A006</th>\n",
              "      <th>A007</th>\n",
              "      <th>A008</th>\n",
              "      <th>A009</th>\n",
              "      <th>A010</th>\n",
              "      <th>A011</th>\n",
              "      <th>A012</th>\n",
              "    </tr>\n",
              "  </thead>\n",
              "  <tbody>\n",
              "    <tr>\n",
              "      <th>11849</th>\n",
              "      <td>A011-1</td>\n",
              "      <td>Chinese Cabbage</td>\n",
              "      <td>大白菜</td>\n",
              "      <td>2020/05/20</td>\n",
              "      <td>2</td>\n",
              "      <td>0.0</td>\n",
              "      <td>0.0</td>\n",
              "      <td>0.0</td>\n",
              "      <td>0.0</td>\n",
              "      <td>0.0</td>\n",
              "      <td>0.0</td>\n",
              "      <td>0.0</td>\n",
              "      <td>0.0</td>\n",
              "      <td>0.0</td>\n",
              "      <td>0.0</td>\n",
              "      <td>0.4</td>\n",
              "      <td>0.0</td>\n",
              "    </tr>\n",
              "  </tbody>\n",
              "</table>\n",
              "</div>"
            ],
            "text/plain": [
              "          SKU Product - English Name Product - Chinese Name  ... A010  A011  A012\n",
              "11849  A011-1        Chinese Cabbage                    大白菜  ...  0.0   0.4   0.0\n",
              "\n",
              "[1 rows x 17 columns]"
            ]
          },
          "metadata": {
            "tags": []
          },
          "execution_count": 19
        }
      ]
    },
    {
      "cell_type": "code",
      "metadata": {
        "id": "_UcYYyUgke5P"
      },
      "source": [
        "constituentDf_A = salesDf_A.drop_duplicates(subset=\"Date of Sale\").drop(columns=[\"SKU\", \"Product - English Name\", \"Product - Chinese Name\", \"Amount Sold\"])"
      ],
      "execution_count": null,
      "outputs": []
    },
    {
      "cell_type": "code",
      "metadata": {
        "id": "qQdyUivxkgBK"
      },
      "source": [
        "constituentDf_A = constituentDf_A.rename(columns={\"Date of Sale\":\"Date\"})\r\n",
        "purchaseDf_A = purchaseDf_A.rename(columns={\"Date of Purchase\":\"Date\"})"
      ],
      "execution_count": null,
      "outputs": []
    },
    {
      "cell_type": "code",
      "metadata": {
        "colab": {
          "base_uri": "https://localhost:8080/",
          "height": 419
        },
        "id": "c69wPHM4nm1D",
        "outputId": "0b27eb94-7a16-40b7-abd8-65a086b38ebe"
      },
      "source": [
        "constituentDf_A"
      ],
      "execution_count": null,
      "outputs": [
        {
          "output_type": "execute_result",
          "data": {
            "text/html": [
              "<div>\n",
              "<style scoped>\n",
              "    .dataframe tbody tr th:only-of-type {\n",
              "        vertical-align: middle;\n",
              "    }\n",
              "\n",
              "    .dataframe tbody tr th {\n",
              "        vertical-align: top;\n",
              "    }\n",
              "\n",
              "    .dataframe thead th {\n",
              "        text-align: right;\n",
              "    }\n",
              "</style>\n",
              "<table border=\"1\" class=\"dataframe\">\n",
              "  <thead>\n",
              "    <tr style=\"text-align: right;\">\n",
              "      <th></th>\n",
              "      <th>Date</th>\n",
              "      <th>A001</th>\n",
              "      <th>A002</th>\n",
              "      <th>A003</th>\n",
              "      <th>A004</th>\n",
              "      <th>A005</th>\n",
              "      <th>A006</th>\n",
              "      <th>A007</th>\n",
              "      <th>A008</th>\n",
              "      <th>A009</th>\n",
              "      <th>A010</th>\n",
              "      <th>A011</th>\n",
              "      <th>A012</th>\n",
              "    </tr>\n",
              "  </thead>\n",
              "  <tbody>\n",
              "    <tr>\n",
              "      <th>0</th>\n",
              "      <td>2018/01/01</td>\n",
              "      <td>98.0</td>\n",
              "      <td>10.0</td>\n",
              "      <td>1.537</td>\n",
              "      <td>3.150</td>\n",
              "      <td>10.0</td>\n",
              "      <td>5.0</td>\n",
              "      <td>2.465</td>\n",
              "      <td>3.965</td>\n",
              "      <td>2.925</td>\n",
              "      <td>1.45</td>\n",
              "      <td>4.7</td>\n",
              "      <td>2.66</td>\n",
              "    </tr>\n",
              "    <tr>\n",
              "      <th>1</th>\n",
              "      <td>2018/01/02</td>\n",
              "      <td>43.0</td>\n",
              "      <td>6.5</td>\n",
              "      <td>0.556</td>\n",
              "      <td>0.825</td>\n",
              "      <td>3.5</td>\n",
              "      <td>1.0</td>\n",
              "      <td>1.070</td>\n",
              "      <td>1.070</td>\n",
              "      <td>0.675</td>\n",
              "      <td>0.55</td>\n",
              "      <td>2.1</td>\n",
              "      <td>0.70</td>\n",
              "    </tr>\n",
              "    <tr>\n",
              "      <th>2</th>\n",
              "      <td>2018/01/03</td>\n",
              "      <td>51.0</td>\n",
              "      <td>12.5</td>\n",
              "      <td>0.471</td>\n",
              "      <td>0.825</td>\n",
              "      <td>5.5</td>\n",
              "      <td>3.0</td>\n",
              "      <td>0.635</td>\n",
              "      <td>1.885</td>\n",
              "      <td>0.750</td>\n",
              "      <td>0.50</td>\n",
              "      <td>2.4</td>\n",
              "      <td>1.96</td>\n",
              "    </tr>\n",
              "    <tr>\n",
              "      <th>3</th>\n",
              "      <td>2018/01/04</td>\n",
              "      <td>40.0</td>\n",
              "      <td>10.0</td>\n",
              "      <td>0.513</td>\n",
              "      <td>0.750</td>\n",
              "      <td>4.0</td>\n",
              "      <td>3.0</td>\n",
              "      <td>1.010</td>\n",
              "      <td>1.385</td>\n",
              "      <td>0.600</td>\n",
              "      <td>0.50</td>\n",
              "      <td>2.0</td>\n",
              "      <td>0.70</td>\n",
              "    </tr>\n",
              "    <tr>\n",
              "      <th>4</th>\n",
              "      <td>2018/01/05</td>\n",
              "      <td>101.0</td>\n",
              "      <td>22.5</td>\n",
              "      <td>1.325</td>\n",
              "      <td>2.175</td>\n",
              "      <td>9.5</td>\n",
              "      <td>4.0</td>\n",
              "      <td>1.770</td>\n",
              "      <td>3.520</td>\n",
              "      <td>1.350</td>\n",
              "      <td>1.00</td>\n",
              "      <td>6.4</td>\n",
              "      <td>1.96</td>\n",
              "    </tr>\n",
              "    <tr>\n",
              "      <th>...</th>\n",
              "      <td>...</td>\n",
              "      <td>...</td>\n",
              "      <td>...</td>\n",
              "      <td>...</td>\n",
              "      <td>...</td>\n",
              "      <td>...</td>\n",
              "      <td>...</td>\n",
              "      <td>...</td>\n",
              "      <td>...</td>\n",
              "      <td>...</td>\n",
              "      <td>...</td>\n",
              "      <td>...</td>\n",
              "      <td>...</td>\n",
              "    </tr>\n",
              "    <tr>\n",
              "      <th>10816</th>\n",
              "      <td>2020/04/21</td>\n",
              "      <td>0.0</td>\n",
              "      <td>0.0</td>\n",
              "      <td>0.000</td>\n",
              "      <td>0.000</td>\n",
              "      <td>0.0</td>\n",
              "      <td>0.0</td>\n",
              "      <td>0.000</td>\n",
              "      <td>0.125</td>\n",
              "      <td>0.000</td>\n",
              "      <td>0.00</td>\n",
              "      <td>0.0</td>\n",
              "      <td>0.00</td>\n",
              "    </tr>\n",
              "    <tr>\n",
              "      <th>10823</th>\n",
              "      <td>2020/05/07</td>\n",
              "      <td>0.0</td>\n",
              "      <td>0.0</td>\n",
              "      <td>0.000</td>\n",
              "      <td>0.000</td>\n",
              "      <td>0.0</td>\n",
              "      <td>0.0</td>\n",
              "      <td>0.000</td>\n",
              "      <td>0.125</td>\n",
              "      <td>0.000</td>\n",
              "      <td>0.00</td>\n",
              "      <td>0.0</td>\n",
              "      <td>0.00</td>\n",
              "    </tr>\n",
              "    <tr>\n",
              "      <th>10835</th>\n",
              "      <td>2020/06/08</td>\n",
              "      <td>0.0</td>\n",
              "      <td>0.0</td>\n",
              "      <td>0.000</td>\n",
              "      <td>0.000</td>\n",
              "      <td>0.0</td>\n",
              "      <td>0.0</td>\n",
              "      <td>0.000</td>\n",
              "      <td>0.250</td>\n",
              "      <td>0.000</td>\n",
              "      <td>0.00</td>\n",
              "      <td>0.0</td>\n",
              "      <td>0.00</td>\n",
              "    </tr>\n",
              "    <tr>\n",
              "      <th>10837</th>\n",
              "      <td>2020/06/12</td>\n",
              "      <td>0.0</td>\n",
              "      <td>0.0</td>\n",
              "      <td>0.000</td>\n",
              "      <td>0.000</td>\n",
              "      <td>0.0</td>\n",
              "      <td>0.0</td>\n",
              "      <td>0.000</td>\n",
              "      <td>0.250</td>\n",
              "      <td>0.000</td>\n",
              "      <td>0.00</td>\n",
              "      <td>0.0</td>\n",
              "      <td>0.00</td>\n",
              "    </tr>\n",
              "    <tr>\n",
              "      <th>11849</th>\n",
              "      <td>2020/05/20</td>\n",
              "      <td>0.0</td>\n",
              "      <td>0.0</td>\n",
              "      <td>0.000</td>\n",
              "      <td>0.000</td>\n",
              "      <td>0.0</td>\n",
              "      <td>0.0</td>\n",
              "      <td>0.000</td>\n",
              "      <td>0.000</td>\n",
              "      <td>0.000</td>\n",
              "      <td>0.00</td>\n",
              "      <td>0.4</td>\n",
              "      <td>0.00</td>\n",
              "    </tr>\n",
              "  </tbody>\n",
              "</table>\n",
              "<p>1072 rows × 13 columns</p>\n",
              "</div>"
            ],
            "text/plain": [
              "             Date   A001  A002   A003   A004  ...   A008   A009  A010  A011  A012\n",
              "0      2018/01/01   98.0  10.0  1.537  3.150  ...  3.965  2.925  1.45   4.7  2.66\n",
              "1      2018/01/02   43.0   6.5  0.556  0.825  ...  1.070  0.675  0.55   2.1  0.70\n",
              "2      2018/01/03   51.0  12.5  0.471  0.825  ...  1.885  0.750  0.50   2.4  1.96\n",
              "3      2018/01/04   40.0  10.0  0.513  0.750  ...  1.385  0.600  0.50   2.0  0.70\n",
              "4      2018/01/05  101.0  22.5  1.325  2.175  ...  3.520  1.350  1.00   6.4  1.96\n",
              "...           ...    ...   ...    ...    ...  ...    ...    ...   ...   ...   ...\n",
              "10816  2020/04/21    0.0   0.0  0.000  0.000  ...  0.125  0.000  0.00   0.0  0.00\n",
              "10823  2020/05/07    0.0   0.0  0.000  0.000  ...  0.125  0.000  0.00   0.0  0.00\n",
              "10835  2020/06/08    0.0   0.0  0.000  0.000  ...  0.250  0.000  0.00   0.0  0.00\n",
              "10837  2020/06/12    0.0   0.0  0.000  0.000  ...  0.250  0.000  0.00   0.0  0.00\n",
              "11849  2020/05/20    0.0   0.0  0.000  0.000  ...  0.000  0.000  0.00   0.4  0.00\n",
              "\n",
              "[1072 rows x 13 columns]"
            ]
          },
          "metadata": {
            "tags": []
          },
          "execution_count": 22
        }
      ]
    },
    {
      "cell_type": "markdown",
      "metadata": {
        "id": "tFutS0HsESI1"
      },
      "source": [
        "# Merge to Purchase Data for close-referencing (Removing Dec 2020 Data)"
      ]
    },
    {
      "cell_type": "code",
      "metadata": {
        "id": "2uoX_v7OsjpS"
      },
      "source": [
        "meltDf_A = pd.melt(constituentDf_A, id_vars=\"Date\", var_name=\"SKU\", value_name=\"Sold\")"
      ],
      "execution_count": null,
      "outputs": []
    },
    {
      "cell_type": "code",
      "metadata": {
        "colab": {
          "base_uri": "https://localhost:8080/",
          "height": 419
        },
        "id": "LVqu6GTis5mG",
        "outputId": "6bff215f-b358-4daa-ed21-4780aa9642fc"
      },
      "source": [
        "meltDf_A"
      ],
      "execution_count": null,
      "outputs": [
        {
          "output_type": "execute_result",
          "data": {
            "text/html": [
              "<div>\n",
              "<style scoped>\n",
              "    .dataframe tbody tr th:only-of-type {\n",
              "        vertical-align: middle;\n",
              "    }\n",
              "\n",
              "    .dataframe tbody tr th {\n",
              "        vertical-align: top;\n",
              "    }\n",
              "\n",
              "    .dataframe thead th {\n",
              "        text-align: right;\n",
              "    }\n",
              "</style>\n",
              "<table border=\"1\" class=\"dataframe\">\n",
              "  <thead>\n",
              "    <tr style=\"text-align: right;\">\n",
              "      <th></th>\n",
              "      <th>Date</th>\n",
              "      <th>SKU</th>\n",
              "      <th>Sold</th>\n",
              "    </tr>\n",
              "  </thead>\n",
              "  <tbody>\n",
              "    <tr>\n",
              "      <th>0</th>\n",
              "      <td>2018/01/01</td>\n",
              "      <td>A001</td>\n",
              "      <td>98.0</td>\n",
              "    </tr>\n",
              "    <tr>\n",
              "      <th>1</th>\n",
              "      <td>2018/01/02</td>\n",
              "      <td>A001</td>\n",
              "      <td>43.0</td>\n",
              "    </tr>\n",
              "    <tr>\n",
              "      <th>2</th>\n",
              "      <td>2018/01/03</td>\n",
              "      <td>A001</td>\n",
              "      <td>51.0</td>\n",
              "    </tr>\n",
              "    <tr>\n",
              "      <th>3</th>\n",
              "      <td>2018/01/04</td>\n",
              "      <td>A001</td>\n",
              "      <td>40.0</td>\n",
              "    </tr>\n",
              "    <tr>\n",
              "      <th>4</th>\n",
              "      <td>2018/01/05</td>\n",
              "      <td>A001</td>\n",
              "      <td>101.0</td>\n",
              "    </tr>\n",
              "    <tr>\n",
              "      <th>...</th>\n",
              "      <td>...</td>\n",
              "      <td>...</td>\n",
              "      <td>...</td>\n",
              "    </tr>\n",
              "    <tr>\n",
              "      <th>12859</th>\n",
              "      <td>2020/04/21</td>\n",
              "      <td>A012</td>\n",
              "      <td>0.0</td>\n",
              "    </tr>\n",
              "    <tr>\n",
              "      <th>12860</th>\n",
              "      <td>2020/05/07</td>\n",
              "      <td>A012</td>\n",
              "      <td>0.0</td>\n",
              "    </tr>\n",
              "    <tr>\n",
              "      <th>12861</th>\n",
              "      <td>2020/06/08</td>\n",
              "      <td>A012</td>\n",
              "      <td>0.0</td>\n",
              "    </tr>\n",
              "    <tr>\n",
              "      <th>12862</th>\n",
              "      <td>2020/06/12</td>\n",
              "      <td>A012</td>\n",
              "      <td>0.0</td>\n",
              "    </tr>\n",
              "    <tr>\n",
              "      <th>12863</th>\n",
              "      <td>2020/05/20</td>\n",
              "      <td>A012</td>\n",
              "      <td>0.0</td>\n",
              "    </tr>\n",
              "  </tbody>\n",
              "</table>\n",
              "<p>12864 rows × 3 columns</p>\n",
              "</div>"
            ],
            "text/plain": [
              "             Date   SKU   Sold\n",
              "0      2018/01/01  A001   98.0\n",
              "1      2018/01/02  A001   43.0\n",
              "2      2018/01/03  A001   51.0\n",
              "3      2018/01/04  A001   40.0\n",
              "4      2018/01/05  A001  101.0\n",
              "...           ...   ...    ...\n",
              "12859  2020/04/21  A012    0.0\n",
              "12860  2020/05/07  A012    0.0\n",
              "12861  2020/06/08  A012    0.0\n",
              "12862  2020/06/12  A012    0.0\n",
              "12863  2020/05/20  A012    0.0\n",
              "\n",
              "[12864 rows x 3 columns]"
            ]
          },
          "metadata": {
            "tags": []
          },
          "execution_count": 24
        }
      ]
    },
    {
      "cell_type": "code",
      "metadata": {
        "colab": {
          "base_uri": "https://localhost:8080/",
          "height": 419
        },
        "id": "wcZmFtQ2qrW3",
        "outputId": "dc32452a-8f66-47b7-c840-15c6f93706af"
      },
      "source": [
        "joinedDf_A = meltDf_A.merge(purchaseDf_A, on=[\"Date\",\"SKU\"]).sort_values(\"Date\")\r\n",
        "joinedDf_A"
      ],
      "execution_count": null,
      "outputs": [
        {
          "output_type": "execute_result",
          "data": {
            "text/html": [
              "<div>\n",
              "<style scoped>\n",
              "    .dataframe tbody tr th:only-of-type {\n",
              "        vertical-align: middle;\n",
              "    }\n",
              "\n",
              "    .dataframe tbody tr th {\n",
              "        vertical-align: top;\n",
              "    }\n",
              "\n",
              "    .dataframe thead th {\n",
              "        text-align: right;\n",
              "    }\n",
              "</style>\n",
              "<table border=\"1\" class=\"dataframe\">\n",
              "  <thead>\n",
              "    <tr style=\"text-align: right;\">\n",
              "      <th></th>\n",
              "      <th>Date</th>\n",
              "      <th>SKU</th>\n",
              "      <th>Sold</th>\n",
              "      <th>Product Name - English</th>\n",
              "      <th>Product Name - Chinese</th>\n",
              "      <th>Quantity of Order Placed</th>\n",
              "      <th>Quantity of Order Received</th>\n",
              "      <th>Difference</th>\n",
              "    </tr>\n",
              "  </thead>\n",
              "  <tbody>\n",
              "    <tr>\n",
              "      <th>0</th>\n",
              "      <td>2018/01/01</td>\n",
              "      <td>A001</td>\n",
              "      <td>98.000</td>\n",
              "      <td>Enoki Mushroom</td>\n",
              "      <td>金针菇</td>\n",
              "      <td>120.0</td>\n",
              "      <td>120.0</td>\n",
              "      <td>0.0</td>\n",
              "    </tr>\n",
              "    <tr>\n",
              "      <th>1780</th>\n",
              "      <td>2018/01/01</td>\n",
              "      <td>A003</td>\n",
              "      <td>1.537</td>\n",
              "      <td>Shiitake Mushroom</td>\n",
              "      <td>香菇</td>\n",
              "      <td>1.5</td>\n",
              "      <td>2.0</td>\n",
              "      <td>-0.5</td>\n",
              "    </tr>\n",
              "    <tr>\n",
              "      <th>9121</th>\n",
              "      <td>2018/01/01</td>\n",
              "      <td>A012</td>\n",
              "      <td>2.660</td>\n",
              "      <td>Baby Cabbage</td>\n",
              "      <td>娃娃菜</td>\n",
              "      <td>10.0</td>\n",
              "      <td>10.0</td>\n",
              "      <td>0.0</td>\n",
              "    </tr>\n",
              "    <tr>\n",
              "      <th>8404</th>\n",
              "      <td>2018/01/01</td>\n",
              "      <td>A011</td>\n",
              "      <td>4.700</td>\n",
              "      <td>Chinese Cabbage</td>\n",
              "      <td>大白菜</td>\n",
              "      <td>6.0</td>\n",
              "      <td>6.1</td>\n",
              "      <td>-0.1</td>\n",
              "    </tr>\n",
              "    <tr>\n",
              "      <th>3369</th>\n",
              "      <td>2018/01/01</td>\n",
              "      <td>A005</td>\n",
              "      <td>10.000</td>\n",
              "      <td>Buna Shimeiji</td>\n",
              "      <td>蟹味菇</td>\n",
              "      <td>8.0</td>\n",
              "      <td>8.0</td>\n",
              "      <td>0.0</td>\n",
              "    </tr>\n",
              "    <tr>\n",
              "      <th>...</th>\n",
              "      <td>...</td>\n",
              "      <td>...</td>\n",
              "      <td>...</td>\n",
              "      <td>...</td>\n",
              "      <td>...</td>\n",
              "      <td>...</td>\n",
              "      <td>...</td>\n",
              "      <td>...</td>\n",
              "    </tr>\n",
              "    <tr>\n",
              "      <th>1747</th>\n",
              "      <td>2020/11/30</td>\n",
              "      <td>A002</td>\n",
              "      <td>3.500</td>\n",
              "      <td>Oyster Mushroom</td>\n",
              "      <td>平菇</td>\n",
              "      <td>10.0</td>\n",
              "      <td>10.0</td>\n",
              "      <td>0.0</td>\n",
              "    </tr>\n",
              "    <tr>\n",
              "      <th>4748</th>\n",
              "      <td>2020/11/30</td>\n",
              "      <td>A006</td>\n",
              "      <td>1.000</td>\n",
              "      <td>Bamboo Shoot</td>\n",
              "      <td>笋片</td>\n",
              "      <td>5.0</td>\n",
              "      <td>5.0</td>\n",
              "      <td>0.0</td>\n",
              "    </tr>\n",
              "    <tr>\n",
              "      <th>4179</th>\n",
              "      <td>2020/11/30</td>\n",
              "      <td>A005</td>\n",
              "      <td>1.000</td>\n",
              "      <td>Buna Shimeiji</td>\n",
              "      <td>蟹味菇</td>\n",
              "      <td>5.0</td>\n",
              "      <td>5.0</td>\n",
              "      <td>0.0</td>\n",
              "    </tr>\n",
              "    <tr>\n",
              "      <th>6552</th>\n",
              "      <td>2020/11/30</td>\n",
              "      <td>A008</td>\n",
              "      <td>0.635</td>\n",
              "      <td>Tung Oh</td>\n",
              "      <td>茼蒿</td>\n",
              "      <td>1.5</td>\n",
              "      <td>1.5</td>\n",
              "      <td>0.0</td>\n",
              "    </tr>\n",
              "    <tr>\n",
              "      <th>2666</th>\n",
              "      <td>2020/11/30</td>\n",
              "      <td>A003</td>\n",
              "      <td>0.171</td>\n",
              "      <td>Shiitake Mushroom</td>\n",
              "      <td>香菇</td>\n",
              "      <td>0.5</td>\n",
              "      <td>0.5</td>\n",
              "      <td>0.0</td>\n",
              "    </tr>\n",
              "  </tbody>\n",
              "</table>\n",
              "<p>9970 rows × 8 columns</p>\n",
              "</div>"
            ],
            "text/plain": [
              "            Date   SKU  ...  Quantity of Order Received Difference\n",
              "0     2018/01/01  A001  ...                       120.0        0.0\n",
              "1780  2018/01/01  A003  ...                         2.0       -0.5\n",
              "9121  2018/01/01  A012  ...                        10.0        0.0\n",
              "8404  2018/01/01  A011  ...                         6.1       -0.1\n",
              "3369  2018/01/01  A005  ...                         8.0        0.0\n",
              "...          ...   ...  ...                         ...        ...\n",
              "1747  2020/11/30  A002  ...                        10.0        0.0\n",
              "4748  2020/11/30  A006  ...                         5.0        0.0\n",
              "4179  2020/11/30  A005  ...                         5.0        0.0\n",
              "6552  2020/11/30  A008  ...                         1.5        0.0\n",
              "2666  2020/11/30  A003  ...                         0.5        0.0\n",
              "\n",
              "[9970 rows x 8 columns]"
            ]
          },
          "metadata": {
            "tags": []
          },
          "execution_count": 25
        }
      ]
    },
    {
      "cell_type": "code",
      "metadata": {
        "id": "kuFLRuHYr0_x"
      },
      "source": [
        "joinedDf_A[\"Date\"]=pd.to_datetime(joinedDf_A[\"Date\"]).dt.date"
      ],
      "execution_count": null,
      "outputs": []
    },
    {
      "cell_type": "markdown",
      "metadata": {
        "id": "m_0fOnU5Ed0P"
      },
      "source": [
        "# Visualising Data"
      ]
    },
    {
      "cell_type": "code",
      "metadata": {
        "id": "nqoYhgZNIj_B"
      },
      "source": [
        "import matplotlib.pyplot as plt\r\n",
        "import matplotlib"
      ],
      "execution_count": null,
      "outputs": []
    },
    {
      "cell_type": "code",
      "metadata": {
        "colab": {
          "base_uri": "https://localhost:8080/",
          "height": 419
        },
        "id": "A9HpEuZduOXf",
        "outputId": "0d1bd35d-c552-4d76-9a42-3dbd350f51f1"
      },
      "source": [
        "constituentDf_A[\"Date\"]=pd.to_datetime(constituentDf_A[\"Date\"])\r\n",
        "constituentDf_A = constituentDf_A.sort_values(\"Date\")\r\n",
        "constituentDf_A"
      ],
      "execution_count": null,
      "outputs": [
        {
          "output_type": "execute_result",
          "data": {
            "text/html": [
              "<div>\n",
              "<style scoped>\n",
              "    .dataframe tbody tr th:only-of-type {\n",
              "        vertical-align: middle;\n",
              "    }\n",
              "\n",
              "    .dataframe tbody tr th {\n",
              "        vertical-align: top;\n",
              "    }\n",
              "\n",
              "    .dataframe thead th {\n",
              "        text-align: right;\n",
              "    }\n",
              "</style>\n",
              "<table border=\"1\" class=\"dataframe\">\n",
              "  <thead>\n",
              "    <tr style=\"text-align: right;\">\n",
              "      <th></th>\n",
              "      <th>Date</th>\n",
              "      <th>A001</th>\n",
              "      <th>A002</th>\n",
              "      <th>A003</th>\n",
              "      <th>A004</th>\n",
              "      <th>A005</th>\n",
              "      <th>A006</th>\n",
              "      <th>A007</th>\n",
              "      <th>A008</th>\n",
              "      <th>A009</th>\n",
              "      <th>A010</th>\n",
              "      <th>A011</th>\n",
              "      <th>A012</th>\n",
              "    </tr>\n",
              "  </thead>\n",
              "  <tbody>\n",
              "    <tr>\n",
              "      <th>0</th>\n",
              "      <td>2018-01-01</td>\n",
              "      <td>98.0</td>\n",
              "      <td>10.0</td>\n",
              "      <td>1.537</td>\n",
              "      <td>3.150</td>\n",
              "      <td>10.0</td>\n",
              "      <td>5.0</td>\n",
              "      <td>2.465</td>\n",
              "      <td>3.965</td>\n",
              "      <td>2.925</td>\n",
              "      <td>1.45</td>\n",
              "      <td>4.7</td>\n",
              "      <td>2.66</td>\n",
              "    </tr>\n",
              "    <tr>\n",
              "      <th>1</th>\n",
              "      <td>2018-01-02</td>\n",
              "      <td>43.0</td>\n",
              "      <td>6.5</td>\n",
              "      <td>0.556</td>\n",
              "      <td>0.825</td>\n",
              "      <td>3.5</td>\n",
              "      <td>1.0</td>\n",
              "      <td>1.070</td>\n",
              "      <td>1.070</td>\n",
              "      <td>0.675</td>\n",
              "      <td>0.55</td>\n",
              "      <td>2.1</td>\n",
              "      <td>0.70</td>\n",
              "    </tr>\n",
              "    <tr>\n",
              "      <th>2</th>\n",
              "      <td>2018-01-03</td>\n",
              "      <td>51.0</td>\n",
              "      <td>12.5</td>\n",
              "      <td>0.471</td>\n",
              "      <td>0.825</td>\n",
              "      <td>5.5</td>\n",
              "      <td>3.0</td>\n",
              "      <td>0.635</td>\n",
              "      <td>1.885</td>\n",
              "      <td>0.750</td>\n",
              "      <td>0.50</td>\n",
              "      <td>2.4</td>\n",
              "      <td>1.96</td>\n",
              "    </tr>\n",
              "    <tr>\n",
              "      <th>3</th>\n",
              "      <td>2018-01-04</td>\n",
              "      <td>40.0</td>\n",
              "      <td>10.0</td>\n",
              "      <td>0.513</td>\n",
              "      <td>0.750</td>\n",
              "      <td>4.0</td>\n",
              "      <td>3.0</td>\n",
              "      <td>1.010</td>\n",
              "      <td>1.385</td>\n",
              "      <td>0.600</td>\n",
              "      <td>0.50</td>\n",
              "      <td>2.0</td>\n",
              "      <td>0.70</td>\n",
              "    </tr>\n",
              "    <tr>\n",
              "      <th>4</th>\n",
              "      <td>2018-01-05</td>\n",
              "      <td>101.0</td>\n",
              "      <td>22.5</td>\n",
              "      <td>1.325</td>\n",
              "      <td>2.175</td>\n",
              "      <td>9.5</td>\n",
              "      <td>4.0</td>\n",
              "      <td>1.770</td>\n",
              "      <td>3.520</td>\n",
              "      <td>1.350</td>\n",
              "      <td>1.00</td>\n",
              "      <td>6.4</td>\n",
              "      <td>1.96</td>\n",
              "    </tr>\n",
              "    <tr>\n",
              "      <th>...</th>\n",
              "      <td>...</td>\n",
              "      <td>...</td>\n",
              "      <td>...</td>\n",
              "      <td>...</td>\n",
              "      <td>...</td>\n",
              "      <td>...</td>\n",
              "      <td>...</td>\n",
              "      <td>...</td>\n",
              "      <td>...</td>\n",
              "      <td>...</td>\n",
              "      <td>...</td>\n",
              "      <td>...</td>\n",
              "      <td>...</td>\n",
              "    </tr>\n",
              "    <tr>\n",
              "      <th>995</th>\n",
              "      <td>2020-12-27</td>\n",
              "      <td>31.0</td>\n",
              "      <td>3.0</td>\n",
              "      <td>0.342</td>\n",
              "      <td>0.600</td>\n",
              "      <td>1.5</td>\n",
              "      <td>3.0</td>\n",
              "      <td>0.945</td>\n",
              "      <td>1.570</td>\n",
              "      <td>0.825</td>\n",
              "      <td>0.15</td>\n",
              "      <td>1.7</td>\n",
              "      <td>0.98</td>\n",
              "    </tr>\n",
              "    <tr>\n",
              "      <th>996</th>\n",
              "      <td>2020-12-28</td>\n",
              "      <td>49.0</td>\n",
              "      <td>9.0</td>\n",
              "      <td>0.301</td>\n",
              "      <td>0.975</td>\n",
              "      <td>2.5</td>\n",
              "      <td>0.5</td>\n",
              "      <td>1.330</td>\n",
              "      <td>1.705</td>\n",
              "      <td>0.825</td>\n",
              "      <td>0.45</td>\n",
              "      <td>2.7</td>\n",
              "      <td>1.12</td>\n",
              "    </tr>\n",
              "    <tr>\n",
              "      <th>997</th>\n",
              "      <td>2020-12-29</td>\n",
              "      <td>41.0</td>\n",
              "      <td>6.0</td>\n",
              "      <td>0.386</td>\n",
              "      <td>0.600</td>\n",
              "      <td>2.5</td>\n",
              "      <td>2.5</td>\n",
              "      <td>0.830</td>\n",
              "      <td>1.455</td>\n",
              "      <td>0.675</td>\n",
              "      <td>0.45</td>\n",
              "      <td>1.9</td>\n",
              "      <td>1.54</td>\n",
              "    </tr>\n",
              "    <tr>\n",
              "      <th>998</th>\n",
              "      <td>2020-12-30</td>\n",
              "      <td>42.0</td>\n",
              "      <td>8.0</td>\n",
              "      <td>0.687</td>\n",
              "      <td>1.500</td>\n",
              "      <td>6.0</td>\n",
              "      <td>2.5</td>\n",
              "      <td>1.765</td>\n",
              "      <td>1.515</td>\n",
              "      <td>1.200</td>\n",
              "      <td>0.60</td>\n",
              "      <td>3.6</td>\n",
              "      <td>0.98</td>\n",
              "    </tr>\n",
              "    <tr>\n",
              "      <th>999</th>\n",
              "      <td>2020-12-31</td>\n",
              "      <td>97.0</td>\n",
              "      <td>19.5</td>\n",
              "      <td>1.029</td>\n",
              "      <td>1.950</td>\n",
              "      <td>10.5</td>\n",
              "      <td>5.5</td>\n",
              "      <td>3.170</td>\n",
              "      <td>2.545</td>\n",
              "      <td>2.700</td>\n",
              "      <td>1.30</td>\n",
              "      <td>5.0</td>\n",
              "      <td>2.38</td>\n",
              "    </tr>\n",
              "  </tbody>\n",
              "</table>\n",
              "<p>1072 rows × 13 columns</p>\n",
              "</div>"
            ],
            "text/plain": [
              "          Date   A001  A002   A003   A004  ...   A008   A009  A010  A011  A012\n",
              "0   2018-01-01   98.0  10.0  1.537  3.150  ...  3.965  2.925  1.45   4.7  2.66\n",
              "1   2018-01-02   43.0   6.5  0.556  0.825  ...  1.070  0.675  0.55   2.1  0.70\n",
              "2   2018-01-03   51.0  12.5  0.471  0.825  ...  1.885  0.750  0.50   2.4  1.96\n",
              "3   2018-01-04   40.0  10.0  0.513  0.750  ...  1.385  0.600  0.50   2.0  0.70\n",
              "4   2018-01-05  101.0  22.5  1.325  2.175  ...  3.520  1.350  1.00   6.4  1.96\n",
              "..         ...    ...   ...    ...    ...  ...    ...    ...   ...   ...   ...\n",
              "995 2020-12-27   31.0   3.0  0.342  0.600  ...  1.570  0.825  0.15   1.7  0.98\n",
              "996 2020-12-28   49.0   9.0  0.301  0.975  ...  1.705  0.825  0.45   2.7  1.12\n",
              "997 2020-12-29   41.0   6.0  0.386  0.600  ...  1.455  0.675  0.45   1.9  1.54\n",
              "998 2020-12-30   42.0   8.0  0.687  1.500  ...  1.515  1.200  0.60   3.6  0.98\n",
              "999 2020-12-31   97.0  19.5  1.029  1.950  ...  2.545  2.700  1.30   5.0  2.38\n",
              "\n",
              "[1072 rows x 13 columns]"
            ]
          },
          "metadata": {
            "tags": []
          },
          "execution_count": 28
        }
      ]
    },
    {
      "cell_type": "code",
      "metadata": {
        "colab": {
          "base_uri": "https://localhost:8080/",
          "height": 285
        },
        "id": "GTvjn9jRGkIE",
        "outputId": "4636885c-f5db-41e3-ab0f-20a3ef65a311"
      },
      "source": [
        "plt.plot(constituentDf_A[\"Date\"], constituentDf_A[\"A001\"])"
      ],
      "execution_count": null,
      "outputs": [
        {
          "output_type": "execute_result",
          "data": {
            "text/plain": [
              "[<matplotlib.lines.Line2D at 0x7f8fab2d0c90>]"
            ]
          },
          "metadata": {
            "tags": []
          },
          "execution_count": 29
        },
        {
          "output_type": "display_data",
          "data": {
            "image/png": "[encoded data removed]",
            "text/plain": [
              "<Figure size 432x288 with 1 Axes>"
            ]
          },
          "metadata": {
            "tags": [],
            "needs_background": "light"
          }
        }
      ]
    },
    {
      "cell_type": "code",
      "metadata": {
        "id": "kDrFoGXHkZI7"
      },
      "source": [
        ""
      ],
      "execution_count": null,
      "outputs": []
    },
    {
      "cell_type": "code",
      "metadata": {
        "colab": {
          "base_uri": "https://localhost:8080/",
          "height": 419
        },
        "id": "x1TPJ-_lJRrW",
        "outputId": "1c28ab00-98f1-477f-8008-6e5fc4538d62"
      },
      "source": [
        "purchaseDf_A"
      ],
      "execution_count": null,
      "outputs": [
        {
          "output_type": "execute_result",
          "data": {
            "text/html": [
              "<div>\n",
              "<style scoped>\n",
              "    .dataframe tbody tr th:only-of-type {\n",
              "        vertical-align: middle;\n",
              "    }\n",
              "\n",
              "    .dataframe tbody tr th {\n",
              "        vertical-align: top;\n",
              "    }\n",
              "\n",
              "    .dataframe thead th {\n",
              "        text-align: right;\n",
              "    }\n",
              "</style>\n",
              "<table border=\"1\" class=\"dataframe\">\n",
              "  <thead>\n",
              "    <tr style=\"text-align: right;\">\n",
              "      <th></th>\n",
              "      <th>SKU</th>\n",
              "      <th>Product Name - English</th>\n",
              "      <th>Product Name - Chinese</th>\n",
              "      <th>Date</th>\n",
              "      <th>Quantity of Order Placed</th>\n",
              "      <th>Quantity of Order Received</th>\n",
              "      <th>Difference</th>\n",
              "    </tr>\n",
              "  </thead>\n",
              "  <tbody>\n",
              "    <tr>\n",
              "      <th>0</th>\n",
              "      <td>A001</td>\n",
              "      <td>Enoki Mushroom</td>\n",
              "      <td>金针菇</td>\n",
              "      <td>2018/01/01</td>\n",
              "      <td>120.0</td>\n",
              "      <td>120.0</td>\n",
              "      <td>0.0</td>\n",
              "    </tr>\n",
              "    <tr>\n",
              "      <th>1</th>\n",
              "      <td>A001</td>\n",
              "      <td>Enoki Mushroom</td>\n",
              "      <td>金针菇</td>\n",
              "      <td>2018/01/02</td>\n",
              "      <td>80.0</td>\n",
              "      <td>80.0</td>\n",
              "      <td>0.0</td>\n",
              "    </tr>\n",
              "    <tr>\n",
              "      <th>2</th>\n",
              "      <td>A001</td>\n",
              "      <td>Enoki Mushroom</td>\n",
              "      <td>金针菇</td>\n",
              "      <td>2018/01/03</td>\n",
              "      <td>50.0</td>\n",
              "      <td>50.0</td>\n",
              "      <td>0.0</td>\n",
              "    </tr>\n",
              "    <tr>\n",
              "      <th>3</th>\n",
              "      <td>A001</td>\n",
              "      <td>Enoki Mushroom</td>\n",
              "      <td>金针菇</td>\n",
              "      <td>2018/01/04</td>\n",
              "      <td>30.0</td>\n",
              "      <td>30.0</td>\n",
              "      <td>0.0</td>\n",
              "    </tr>\n",
              "    <tr>\n",
              "      <th>4</th>\n",
              "      <td>A001</td>\n",
              "      <td>Enoki Mushroom</td>\n",
              "      <td>金针菇</td>\n",
              "      <td>2018/01/05</td>\n",
              "      <td>100.0</td>\n",
              "      <td>100.0</td>\n",
              "      <td>0.0</td>\n",
              "    </tr>\n",
              "    <tr>\n",
              "      <th>...</th>\n",
              "      <td>...</td>\n",
              "      <td>...</td>\n",
              "      <td>...</td>\n",
              "      <td>...</td>\n",
              "      <td>...</td>\n",
              "      <td>...</td>\n",
              "      <td>...</td>\n",
              "    </tr>\n",
              "    <tr>\n",
              "      <th>9980</th>\n",
              "      <td>A012</td>\n",
              "      <td>Baby Cabbage</td>\n",
              "      <td>娃娃菜</td>\n",
              "      <td>2020/11/24</td>\n",
              "      <td>5.0</td>\n",
              "      <td>5.0</td>\n",
              "      <td>0.0</td>\n",
              "    </tr>\n",
              "    <tr>\n",
              "      <th>9981</th>\n",
              "      <td>A012</td>\n",
              "      <td>Baby Cabbage</td>\n",
              "      <td>娃娃菜</td>\n",
              "      <td>2020/11/25</td>\n",
              "      <td>3.0</td>\n",
              "      <td>3.0</td>\n",
              "      <td>0.0</td>\n",
              "    </tr>\n",
              "    <tr>\n",
              "      <th>9982</th>\n",
              "      <td>A012</td>\n",
              "      <td>Baby Cabbage</td>\n",
              "      <td>娃娃菜</td>\n",
              "      <td>2020/11/27</td>\n",
              "      <td>8.0</td>\n",
              "      <td>8.0</td>\n",
              "      <td>0.0</td>\n",
              "    </tr>\n",
              "    <tr>\n",
              "      <th>9983</th>\n",
              "      <td>A012</td>\n",
              "      <td>Baby Cabbage</td>\n",
              "      <td>娃娃菜</td>\n",
              "      <td>2020/11/28</td>\n",
              "      <td>5.0</td>\n",
              "      <td>5.0</td>\n",
              "      <td>0.0</td>\n",
              "    </tr>\n",
              "    <tr>\n",
              "      <th>9984</th>\n",
              "      <td>A012</td>\n",
              "      <td>Baby Cabbage</td>\n",
              "      <td>娃娃菜</td>\n",
              "      <td>2020/11/29</td>\n",
              "      <td>5.0</td>\n",
              "      <td>5.0</td>\n",
              "      <td>0.0</td>\n",
              "    </tr>\n",
              "  </tbody>\n",
              "</table>\n",
              "<p>9985 rows × 7 columns</p>\n",
              "</div>"
            ],
            "text/plain": [
              "       SKU Product Name - English  ... Quantity of Order Received Difference\n",
              "0     A001         Enoki Mushroom  ...                      120.0        0.0\n",
              "1     A001         Enoki Mushroom  ...                       80.0        0.0\n",
              "2     A001         Enoki Mushroom  ...                       50.0        0.0\n",
              "3     A001         Enoki Mushroom  ...                       30.0        0.0\n",
              "4     A001         Enoki Mushroom  ...                      100.0        0.0\n",
              "...    ...                    ...  ...                        ...        ...\n",
              "9980  A012           Baby Cabbage  ...                        5.0        0.0\n",
              "9981  A012           Baby Cabbage  ...                        3.0        0.0\n",
              "9982  A012           Baby Cabbage  ...                        8.0        0.0\n",
              "9983  A012           Baby Cabbage  ...                        5.0        0.0\n",
              "9984  A012           Baby Cabbage  ...                        5.0        0.0\n",
              "\n",
              "[9985 rows x 7 columns]"
            ]
          },
          "metadata": {
            "tags": []
          },
          "execution_count": 30
        }
      ]
    },
    {
      "cell_type": "code",
      "metadata": {
        "colab": {
          "base_uri": "https://localhost:8080/",
          "height": 419
        },
        "id": "fQ7qzyH2O7ED",
        "outputId": "9a5b306f-fc84-4069-b63e-d252205db48a"
      },
      "source": [
        "constituentDf_A"
      ],
      "execution_count": null,
      "outputs": [
        {
          "output_type": "execute_result",
          "data": {
            "text/html": [
              "<div>\n",
              "<style scoped>\n",
              "    .dataframe tbody tr th:only-of-type {\n",
              "        vertical-align: middle;\n",
              "    }\n",
              "\n",
              "    .dataframe tbody tr th {\n",
              "        vertical-align: top;\n",
              "    }\n",
              "\n",
              "    .dataframe thead th {\n",
              "        text-align: right;\n",
              "    }\n",
              "</style>\n",
              "<table border=\"1\" class=\"dataframe\">\n",
              "  <thead>\n",
              "    <tr style=\"text-align: right;\">\n",
              "      <th></th>\n",
              "      <th>Date</th>\n",
              "      <th>A001</th>\n",
              "      <th>A002</th>\n",
              "      <th>A003</th>\n",
              "      <th>A004</th>\n",
              "      <th>A005</th>\n",
              "      <th>A006</th>\n",
              "      <th>A007</th>\n",
              "      <th>A008</th>\n",
              "      <th>A009</th>\n",
              "      <th>A010</th>\n",
              "      <th>A011</th>\n",
              "      <th>A012</th>\n",
              "    </tr>\n",
              "  </thead>\n",
              "  <tbody>\n",
              "    <tr>\n",
              "      <th>0</th>\n",
              "      <td>2018-01-01</td>\n",
              "      <td>98.0</td>\n",
              "      <td>10.0</td>\n",
              "      <td>1.537</td>\n",
              "      <td>3.150</td>\n",
              "      <td>10.0</td>\n",
              "      <td>5.0</td>\n",
              "      <td>2.465</td>\n",
              "      <td>3.965</td>\n",
              "      <td>2.925</td>\n",
              "      <td>1.45</td>\n",
              "      <td>4.7</td>\n",
              "      <td>2.66</td>\n",
              "    </tr>\n",
              "    <tr>\n",
              "      <th>1</th>\n",
              "      <td>2018-01-02</td>\n",
              "      <td>43.0</td>\n",
              "      <td>6.5</td>\n",
              "      <td>0.556</td>\n",
              "      <td>0.825</td>\n",
              "      <td>3.5</td>\n",
              "      <td>1.0</td>\n",
              "      <td>1.070</td>\n",
              "      <td>1.070</td>\n",
              "      <td>0.675</td>\n",
              "      <td>0.55</td>\n",
              "      <td>2.1</td>\n",
              "      <td>0.70</td>\n",
              "    </tr>\n",
              "    <tr>\n",
              "      <th>2</th>\n",
              "      <td>2018-01-03</td>\n",
              "      <td>51.0</td>\n",
              "      <td>12.5</td>\n",
              "      <td>0.471</td>\n",
              "      <td>0.825</td>\n",
              "      <td>5.5</td>\n",
              "      <td>3.0</td>\n",
              "      <td>0.635</td>\n",
              "      <td>1.885</td>\n",
              "      <td>0.750</td>\n",
              "      <td>0.50</td>\n",
              "      <td>2.4</td>\n",
              "      <td>1.96</td>\n",
              "    </tr>\n",
              "    <tr>\n",
              "      <th>3</th>\n",
              "      <td>2018-01-04</td>\n",
              "      <td>40.0</td>\n",
              "      <td>10.0</td>\n",
              "      <td>0.513</td>\n",
              "      <td>0.750</td>\n",
              "      <td>4.0</td>\n",
              "      <td>3.0</td>\n",
              "      <td>1.010</td>\n",
              "      <td>1.385</td>\n",
              "      <td>0.600</td>\n",
              "      <td>0.50</td>\n",
              "      <td>2.0</td>\n",
              "      <td>0.70</td>\n",
              "    </tr>\n",
              "    <tr>\n",
              "      <th>4</th>\n",
              "      <td>2018-01-05</td>\n",
              "      <td>101.0</td>\n",
              "      <td>22.5</td>\n",
              "      <td>1.325</td>\n",
              "      <td>2.175</td>\n",
              "      <td>9.5</td>\n",
              "      <td>4.0</td>\n",
              "      <td>1.770</td>\n",
              "      <td>3.520</td>\n",
              "      <td>1.350</td>\n",
              "      <td>1.00</td>\n",
              "      <td>6.4</td>\n",
              "      <td>1.96</td>\n",
              "    </tr>\n",
              "    <tr>\n",
              "      <th>...</th>\n",
              "      <td>...</td>\n",
              "      <td>...</td>\n",
              "      <td>...</td>\n",
              "      <td>...</td>\n",
              "      <td>...</td>\n",
              "      <td>...</td>\n",
              "      <td>...</td>\n",
              "      <td>...</td>\n",
              "      <td>...</td>\n",
              "      <td>...</td>\n",
              "      <td>...</td>\n",
              "      <td>...</td>\n",
              "      <td>...</td>\n",
              "    </tr>\n",
              "    <tr>\n",
              "      <th>995</th>\n",
              "      <td>2020-12-27</td>\n",
              "      <td>31.0</td>\n",
              "      <td>3.0</td>\n",
              "      <td>0.342</td>\n",
              "      <td>0.600</td>\n",
              "      <td>1.5</td>\n",
              "      <td>3.0</td>\n",
              "      <td>0.945</td>\n",
              "      <td>1.570</td>\n",
              "      <td>0.825</td>\n",
              "      <td>0.15</td>\n",
              "      <td>1.7</td>\n",
              "      <td>0.98</td>\n",
              "    </tr>\n",
              "    <tr>\n",
              "      <th>996</th>\n",
              "      <td>2020-12-28</td>\n",
              "      <td>49.0</td>\n",
              "      <td>9.0</td>\n",
              "      <td>0.301</td>\n",
              "      <td>0.975</td>\n",
              "      <td>2.5</td>\n",
              "      <td>0.5</td>\n",
              "      <td>1.330</td>\n",
              "      <td>1.705</td>\n",
              "      <td>0.825</td>\n",
              "      <td>0.45</td>\n",
              "      <td>2.7</td>\n",
              "      <td>1.12</td>\n",
              "    </tr>\n",
              "    <tr>\n",
              "      <th>997</th>\n",
              "      <td>2020-12-29</td>\n",
              "      <td>41.0</td>\n",
              "      <td>6.0</td>\n",
              "      <td>0.386</td>\n",
              "      <td>0.600</td>\n",
              "      <td>2.5</td>\n",
              "      <td>2.5</td>\n",
              "      <td>0.830</td>\n",
              "      <td>1.455</td>\n",
              "      <td>0.675</td>\n",
              "      <td>0.45</td>\n",
              "      <td>1.9</td>\n",
              "      <td>1.54</td>\n",
              "    </tr>\n",
              "    <tr>\n",
              "      <th>998</th>\n",
              "      <td>2020-12-30</td>\n",
              "      <td>42.0</td>\n",
              "      <td>8.0</td>\n",
              "      <td>0.687</td>\n",
              "      <td>1.500</td>\n",
              "      <td>6.0</td>\n",
              "      <td>2.5</td>\n",
              "      <td>1.765</td>\n",
              "      <td>1.515</td>\n",
              "      <td>1.200</td>\n",
              "      <td>0.60</td>\n",
              "      <td>3.6</td>\n",
              "      <td>0.98</td>\n",
              "    </tr>\n",
              "    <tr>\n",
              "      <th>999</th>\n",
              "      <td>2020-12-31</td>\n",
              "      <td>97.0</td>\n",
              "      <td>19.5</td>\n",
              "      <td>1.029</td>\n",
              "      <td>1.950</td>\n",
              "      <td>10.5</td>\n",
              "      <td>5.5</td>\n",
              "      <td>3.170</td>\n",
              "      <td>2.545</td>\n",
              "      <td>2.700</td>\n",
              "      <td>1.30</td>\n",
              "      <td>5.0</td>\n",
              "      <td>2.38</td>\n",
              "    </tr>\n",
              "  </tbody>\n",
              "</table>\n",
              "<p>1072 rows × 13 columns</p>\n",
              "</div>"
            ],
            "text/plain": [
              "          Date   A001  A002   A003   A004  ...   A008   A009  A010  A011  A012\n",
              "0   2018-01-01   98.0  10.0  1.537  3.150  ...  3.965  2.925  1.45   4.7  2.66\n",
              "1   2018-01-02   43.0   6.5  0.556  0.825  ...  1.070  0.675  0.55   2.1  0.70\n",
              "2   2018-01-03   51.0  12.5  0.471  0.825  ...  1.885  0.750  0.50   2.4  1.96\n",
              "3   2018-01-04   40.0  10.0  0.513  0.750  ...  1.385  0.600  0.50   2.0  0.70\n",
              "4   2018-01-05  101.0  22.5  1.325  2.175  ...  3.520  1.350  1.00   6.4  1.96\n",
              "..         ...    ...   ...    ...    ...  ...    ...    ...   ...   ...   ...\n",
              "995 2020-12-27   31.0   3.0  0.342  0.600  ...  1.570  0.825  0.15   1.7  0.98\n",
              "996 2020-12-28   49.0   9.0  0.301  0.975  ...  1.705  0.825  0.45   2.7  1.12\n",
              "997 2020-12-29   41.0   6.0  0.386  0.600  ...  1.455  0.675  0.45   1.9  1.54\n",
              "998 2020-12-30   42.0   8.0  0.687  1.500  ...  1.515  1.200  0.60   3.6  0.98\n",
              "999 2020-12-31   97.0  19.5  1.029  1.950  ...  2.545  2.700  1.30   5.0  2.38\n",
              "\n",
              "[1072 rows x 13 columns]"
            ]
          },
          "metadata": {
            "tags": []
          },
          "execution_count": 31
        }
      ]
    },
    {
      "cell_type": "markdown",
      "metadata": {
        "id": "Yj4jsSeAWbbo"
      },
      "source": [
        "# Train, Validation and Test Data Setup"
      ]
    },
    {
      "cell_type": "code",
      "metadata": {
        "colab": {
          "base_uri": "https://localhost:8080/",
          "height": 419
        },
        "id": "AM3FKfUnWgae",
        "outputId": "fd0c803d-9668-4d17-cc40-9528ccc736a4"
      },
      "source": [
        "enokiData=joinedDf_A[joinedDf_A[\"SKU\"]==\"A001\"]\r\n",
        "enokiData=enokiData.drop(columns=[\"Difference\"])\r\n",
        "enokiData"
      ],
      "execution_count": null,
      "outputs": [
        {
          "output_type": "execute_result",
          "data": {
            "text/html": [
              "<div>\n",
              "<style scoped>\n",
              "    .dataframe tbody tr th:only-of-type {\n",
              "        vertical-align: middle;\n",
              "    }\n",
              "\n",
              "    .dataframe tbody tr th {\n",
              "        vertical-align: top;\n",
              "    }\n",
              "\n",
              "    .dataframe thead th {\n",
              "        text-align: right;\n",
              "    }\n",
              "</style>\n",
              "<table border=\"1\" class=\"dataframe\">\n",
              "  <thead>\n",
              "    <tr style=\"text-align: right;\">\n",
              "      <th></th>\n",
              "      <th>Date</th>\n",
              "      <th>SKU</th>\n",
              "      <th>Sold</th>\n",
              "      <th>Product Name - English</th>\n",
              "      <th>Product Name - Chinese</th>\n",
              "      <th>Quantity of Order Placed</th>\n",
              "      <th>Quantity of Order Received</th>\n",
              "    </tr>\n",
              "  </thead>\n",
              "  <tbody>\n",
              "    <tr>\n",
              "      <th>0</th>\n",
              "      <td>2018-01-01</td>\n",
              "      <td>A001</td>\n",
              "      <td>98.0</td>\n",
              "      <td>Enoki Mushroom</td>\n",
              "      <td>金针菇</td>\n",
              "      <td>120.0</td>\n",
              "      <td>120.0</td>\n",
              "    </tr>\n",
              "    <tr>\n",
              "      <th>1</th>\n",
              "      <td>2018-01-02</td>\n",
              "      <td>A001</td>\n",
              "      <td>43.0</td>\n",
              "      <td>Enoki Mushroom</td>\n",
              "      <td>金针菇</td>\n",
              "      <td>80.0</td>\n",
              "      <td>80.0</td>\n",
              "    </tr>\n",
              "    <tr>\n",
              "      <th>2</th>\n",
              "      <td>2018-01-03</td>\n",
              "      <td>A001</td>\n",
              "      <td>51.0</td>\n",
              "      <td>Enoki Mushroom</td>\n",
              "      <td>金针菇</td>\n",
              "      <td>50.0</td>\n",
              "      <td>50.0</td>\n",
              "    </tr>\n",
              "    <tr>\n",
              "      <th>3</th>\n",
              "      <td>2018-01-04</td>\n",
              "      <td>A001</td>\n",
              "      <td>40.0</td>\n",
              "      <td>Enoki Mushroom</td>\n",
              "      <td>金针菇</td>\n",
              "      <td>30.0</td>\n",
              "      <td>30.0</td>\n",
              "    </tr>\n",
              "    <tr>\n",
              "      <th>4</th>\n",
              "      <td>2018-01-05</td>\n",
              "      <td>A001</td>\n",
              "      <td>101.0</td>\n",
              "      <td>Enoki Mushroom</td>\n",
              "      <td>金针菇</td>\n",
              "      <td>100.0</td>\n",
              "      <td>100.0</td>\n",
              "    </tr>\n",
              "    <tr>\n",
              "      <th>...</th>\n",
              "      <td>...</td>\n",
              "      <td>...</td>\n",
              "      <td>...</td>\n",
              "      <td>...</td>\n",
              "      <td>...</td>\n",
              "      <td>...</td>\n",
              "      <td>...</td>\n",
              "    </tr>\n",
              "    <tr>\n",
              "      <th>818</th>\n",
              "      <td>2020-11-26</td>\n",
              "      <td>A001</td>\n",
              "      <td>30.0</td>\n",
              "      <td>Enoki Mushroom</td>\n",
              "      <td>金针菇</td>\n",
              "      <td>50.0</td>\n",
              "      <td>50.0</td>\n",
              "    </tr>\n",
              "    <tr>\n",
              "      <th>819</th>\n",
              "      <td>2020-11-27</td>\n",
              "      <td>A001</td>\n",
              "      <td>60.0</td>\n",
              "      <td>Enoki Mushroom</td>\n",
              "      <td>金针菇</td>\n",
              "      <td>50.0</td>\n",
              "      <td>50.0</td>\n",
              "    </tr>\n",
              "    <tr>\n",
              "      <th>820</th>\n",
              "      <td>2020-11-28</td>\n",
              "      <td>A001</td>\n",
              "      <td>39.0</td>\n",
              "      <td>Enoki Mushroom</td>\n",
              "      <td>金针菇</td>\n",
              "      <td>70.0</td>\n",
              "      <td>70.0</td>\n",
              "    </tr>\n",
              "    <tr>\n",
              "      <th>821</th>\n",
              "      <td>2020-11-29</td>\n",
              "      <td>A001</td>\n",
              "      <td>28.0</td>\n",
              "      <td>Enoki Mushroom</td>\n",
              "      <td>金针菇</td>\n",
              "      <td>30.0</td>\n",
              "      <td>30.0</td>\n",
              "    </tr>\n",
              "    <tr>\n",
              "      <th>822</th>\n",
              "      <td>2020-11-30</td>\n",
              "      <td>A001</td>\n",
              "      <td>12.0</td>\n",
              "      <td>Enoki Mushroom</td>\n",
              "      <td>金针菇</td>\n",
              "      <td>20.0</td>\n",
              "      <td>20.0</td>\n",
              "    </tr>\n",
              "  </tbody>\n",
              "</table>\n",
              "<p>861 rows × 7 columns</p>\n",
              "</div>"
            ],
            "text/plain": [
              "           Date   SKU  ...  Quantity of Order Placed Quantity of Order Received\n",
              "0    2018-01-01  A001  ...                     120.0                      120.0\n",
              "1    2018-01-02  A001  ...                      80.0                       80.0\n",
              "2    2018-01-03  A001  ...                      50.0                       50.0\n",
              "3    2018-01-04  A001  ...                      30.0                       30.0\n",
              "4    2018-01-05  A001  ...                     100.0                      100.0\n",
              "..          ...   ...  ...                       ...                        ...\n",
              "818  2020-11-26  A001  ...                      50.0                       50.0\n",
              "819  2020-11-27  A001  ...                      50.0                       50.0\n",
              "820  2020-11-28  A001  ...                      70.0                       70.0\n",
              "821  2020-11-29  A001  ...                      30.0                       30.0\n",
              "822  2020-11-30  A001  ...                      20.0                       20.0\n",
              "\n",
              "[861 rows x 7 columns]"
            ]
          },
          "metadata": {
            "tags": []
          },
          "execution_count": 32
        }
      ]
    },
    {
      "cell_type": "code",
      "metadata": {
        "id": "xMN4tXmOWywx"
      },
      "source": [
        "date_before_test = dt.date(2020, 1, 1)\r\n",
        "date_before_valid = dt.date(2019, 6, 1)\r\n",
        "enokiDataTrain = enokiData[enokiData[\"Date\"]<date_before_valid].set_index('Date')\r\n",
        "enokiDataValid = enokiData[enokiData[\"Date\"]>date_before_valid]\r\n",
        "enokiDataValid = enokiDataValid[enokiDataValid[\"Date\"]<date_before_test].set_index('Date')\r\n",
        "enokiDataTest = enokiData[enokiData[\"Date\"]>date_before_test].set_index('Date')"
      ],
      "execution_count": null,
      "outputs": []
    },
    {
      "cell_type": "code",
      "metadata": {
        "id": "SWuTOp62fVq0"
      },
      "source": [
        "columns_titles = [\"Quantity of Order Placed\",\"Sold\"]"
      ],
      "execution_count": null,
      "outputs": []
    },
    {
      "cell_type": "code",
      "metadata": {
        "id": "iQT8Ipfcaf-M"
      },
      "source": [
        "enokiDataValid = enokiDataValid.drop(columns=[\"SKU\", \"Product Name - English\", \"Product Name - Chinese\",\"Quantity of Order Received\"]).reindex(columns=columns_titles)"
      ],
      "execution_count": null,
      "outputs": []
    },
    {
      "cell_type": "code",
      "metadata": {
        "id": "o9UMelZ5XY_L"
      },
      "source": [
        "enokiDataTrain = enokiDataTrain.drop(columns=[\"SKU\", \"Product Name - English\", \"Product Name - Chinese\",\"Quantity of Order Received\"]).reindex(columns=columns_titles)"
      ],
      "execution_count": null,
      "outputs": []
    },
    {
      "cell_type": "code",
      "metadata": {
        "id": "zThvZ4W_fpyu"
      },
      "source": [
        "enokiDataTest = enokiDataTest.drop(columns=[\"SKU\", \"Product Name - English\", \"Product Name - Chinese\",\"Quantity of Order Received\"]).reindex(columns=columns_titles)\r\n"
      ],
      "execution_count": null,
      "outputs": []
    },
    {
      "cell_type": "code",
      "metadata": {
        "colab": {
          "base_uri": "https://localhost:8080/",
          "height": 450
        },
        "id": "k9bVqvRRkAQ8",
        "outputId": "9ef7e468-45ff-4199-f2f3-52fc9cd771f2"
      },
      "source": [
        "enokiDataTrain"
      ],
      "execution_count": null,
      "outputs": [
        {
          "output_type": "execute_result",
          "data": {
            "text/html": [
              "<div>\n",
              "<style scoped>\n",
              "    .dataframe tbody tr th:only-of-type {\n",
              "        vertical-align: middle;\n",
              "    }\n",
              "\n",
              "    .dataframe tbody tr th {\n",
              "        vertical-align: top;\n",
              "    }\n",
              "\n",
              "    .dataframe thead th {\n",
              "        text-align: right;\n",
              "    }\n",
              "</style>\n",
              "<table border=\"1\" class=\"dataframe\">\n",
              "  <thead>\n",
              "    <tr style=\"text-align: right;\">\n",
              "      <th></th>\n",
              "      <th>Quantity of Order Placed</th>\n",
              "      <th>Sold</th>\n",
              "    </tr>\n",
              "    <tr>\n",
              "      <th>Date</th>\n",
              "      <th></th>\n",
              "      <th></th>\n",
              "    </tr>\n",
              "  </thead>\n",
              "  <tbody>\n",
              "    <tr>\n",
              "      <th>2018-01-01</th>\n",
              "      <td>120.0</td>\n",
              "      <td>98.0</td>\n",
              "    </tr>\n",
              "    <tr>\n",
              "      <th>2018-01-02</th>\n",
              "      <td>80.0</td>\n",
              "      <td>43.0</td>\n",
              "    </tr>\n",
              "    <tr>\n",
              "      <th>2018-01-03</th>\n",
              "      <td>50.0</td>\n",
              "      <td>51.0</td>\n",
              "    </tr>\n",
              "    <tr>\n",
              "      <th>2018-01-04</th>\n",
              "      <td>30.0</td>\n",
              "      <td>40.0</td>\n",
              "    </tr>\n",
              "    <tr>\n",
              "      <th>2018-01-05</th>\n",
              "      <td>100.0</td>\n",
              "      <td>101.0</td>\n",
              "    </tr>\n",
              "    <tr>\n",
              "      <th>...</th>\n",
              "      <td>...</td>\n",
              "      <td>...</td>\n",
              "    </tr>\n",
              "    <tr>\n",
              "      <th>2019-04-15</th>\n",
              "      <td>30.0</td>\n",
              "      <td>42.0</td>\n",
              "    </tr>\n",
              "    <tr>\n",
              "      <th>2019-04-16</th>\n",
              "      <td>50.0</td>\n",
              "      <td>44.0</td>\n",
              "    </tr>\n",
              "    <tr>\n",
              "      <th>2019-04-17</th>\n",
              "      <td>80.0</td>\n",
              "      <td>34.0</td>\n",
              "    </tr>\n",
              "    <tr>\n",
              "      <th>2019-04-22</th>\n",
              "      <td>30.0</td>\n",
              "      <td>21.0</td>\n",
              "    </tr>\n",
              "    <tr>\n",
              "      <th>2019-04-26</th>\n",
              "      <td>50.0</td>\n",
              "      <td>64.0</td>\n",
              "    </tr>\n",
              "  </tbody>\n",
              "</table>\n",
              "<p>450 rows × 2 columns</p>\n",
              "</div>"
            ],
            "text/plain": [
              "            Quantity of Order Placed   Sold\n",
              "Date                                       \n",
              "2018-01-01                     120.0   98.0\n",
              "2018-01-02                      80.0   43.0\n",
              "2018-01-03                      50.0   51.0\n",
              "2018-01-04                      30.0   40.0\n",
              "2018-01-05                     100.0  101.0\n",
              "...                              ...    ...\n",
              "2019-04-15                      30.0   42.0\n",
              "2019-04-16                      50.0   44.0\n",
              "2019-04-17                      80.0   34.0\n",
              "2019-04-22                      30.0   21.0\n",
              "2019-04-26                      50.0   64.0\n",
              "\n",
              "[450 rows x 2 columns]"
            ]
          },
          "metadata": {
            "tags": []
          },
          "execution_count": 38
        }
      ]
    },
    {
      "cell_type": "markdown",
      "metadata": {
        "id": "eE0EEa-qcKc9"
      },
      "source": [
        "# Testing with GRU"
      ]
    },
    {
      "cell_type": "code",
      "metadata": {
        "id": "XCIT2VeNYVIi"
      },
      "source": [
        "# Importing dependencies\r\n",
        "import numpy as np\r\n",
        "np.random.seed(1)\r\n",
        "import tensorflow\r\n",
        "tensorflow.random.set_seed(2)\r\n",
        "import pandas as pd\r\n",
        "import matplotlib.pyplot as plt\r\n",
        "from keras.models import Sequential, load_model\r\n",
        "from keras.layers.core import Dense\r\n",
        "from keras.layers.recurrent import GRU\r\n",
        "from keras import optimizers\r\n",
        "from keras.callbacks import EarlyStopping\r\n",
        "from sklearn.preprocessing import MinMaxScaler\r\n",
        "from sklearn.metrics import mean_squared_error, r2_score\r\n",
        "from math import sqrt\r\n",
        "import datetime as dt\r\n",
        "import time\r\n",
        "plt.style.use('ggplot')"
      ],
      "execution_count": null,
      "outputs": []
    },
    {
      "cell_type": "code",
      "metadata": {
        "id": "mvvPYH4UcQd_"
      },
      "source": [
        "# Setting up an early stop\r\n",
        "earlystop = EarlyStopping(monitor='val_loss', min_delta=0.0001, patience=80,  verbose=1, mode='min')\r\n",
        "callbacks_list = [earlystop]"
      ],
      "execution_count": null,
      "outputs": []
    },
    {
      "cell_type": "code",
      "metadata": {
        "colab": {
          "base_uri": "https://localhost:8080/",
          "height": 450
        },
        "id": "uJILCHD5zQWM",
        "outputId": "d4b9f3cc-aa88-4d85-ca90-9323380ccddf"
      },
      "source": [
        "enokiDataTrain"
      ],
      "execution_count": null,
      "outputs": [
        {
          "output_type": "execute_result",
          "data": {
            "text/html": [
              "<div>\n",
              "<style scoped>\n",
              "    .dataframe tbody tr th:only-of-type {\n",
              "        vertical-align: middle;\n",
              "    }\n",
              "\n",
              "    .dataframe tbody tr th {\n",
              "        vertical-align: top;\n",
              "    }\n",
              "\n",
              "    .dataframe thead th {\n",
              "        text-align: right;\n",
              "    }\n",
              "</style>\n",
              "<table border=\"1\" class=\"dataframe\">\n",
              "  <thead>\n",
              "    <tr style=\"text-align: right;\">\n",
              "      <th></th>\n",
              "      <th>Quantity of Order Placed</th>\n",
              "      <th>Sold</th>\n",
              "    </tr>\n",
              "    <tr>\n",
              "      <th>Date</th>\n",
              "      <th></th>\n",
              "      <th></th>\n",
              "    </tr>\n",
              "  </thead>\n",
              "  <tbody>\n",
              "    <tr>\n",
              "      <th>2018-01-01</th>\n",
              "      <td>120.0</td>\n",
              "      <td>98.0</td>\n",
              "    </tr>\n",
              "    <tr>\n",
              "      <th>2018-01-02</th>\n",
              "      <td>80.0</td>\n",
              "      <td>43.0</td>\n",
              "    </tr>\n",
              "    <tr>\n",
              "      <th>2018-01-03</th>\n",
              "      <td>50.0</td>\n",
              "      <td>51.0</td>\n",
              "    </tr>\n",
              "    <tr>\n",
              "      <th>2018-01-04</th>\n",
              "      <td>30.0</td>\n",
              "      <td>40.0</td>\n",
              "    </tr>\n",
              "    <tr>\n",
              "      <th>2018-01-05</th>\n",
              "      <td>100.0</td>\n",
              "      <td>101.0</td>\n",
              "    </tr>\n",
              "    <tr>\n",
              "      <th>...</th>\n",
              "      <td>...</td>\n",
              "      <td>...</td>\n",
              "    </tr>\n",
              "    <tr>\n",
              "      <th>2019-04-15</th>\n",
              "      <td>30.0</td>\n",
              "      <td>42.0</td>\n",
              "    </tr>\n",
              "    <tr>\n",
              "      <th>2019-04-16</th>\n",
              "      <td>50.0</td>\n",
              "      <td>44.0</td>\n",
              "    </tr>\n",
              "    <tr>\n",
              "      <th>2019-04-17</th>\n",
              "      <td>80.0</td>\n",
              "      <td>34.0</td>\n",
              "    </tr>\n",
              "    <tr>\n",
              "      <th>2019-04-22</th>\n",
              "      <td>30.0</td>\n",
              "      <td>21.0</td>\n",
              "    </tr>\n",
              "    <tr>\n",
              "      <th>2019-04-26</th>\n",
              "      <td>50.0</td>\n",
              "      <td>64.0</td>\n",
              "    </tr>\n",
              "  </tbody>\n",
              "</table>\n",
              "<p>450 rows × 2 columns</p>\n",
              "</div>"
            ],
            "text/plain": [
              "            Quantity of Order Placed   Sold\n",
              "Date                                       \n",
              "2018-01-01                     120.0   98.0\n",
              "2018-01-02                      80.0   43.0\n",
              "2018-01-03                      50.0   51.0\n",
              "2018-01-04                      30.0   40.0\n",
              "2018-01-05                     100.0  101.0\n",
              "...                              ...    ...\n",
              "2019-04-15                      30.0   42.0\n",
              "2019-04-16                      50.0   44.0\n",
              "2019-04-17                      80.0   34.0\n",
              "2019-04-22                      30.0   21.0\n",
              "2019-04-26                      50.0   64.0\n",
              "\n",
              "[450 rows x 2 columns]"
            ]
          },
          "metadata": {
            "tags": []
          },
          "execution_count": 41
        }
      ]
    },
    {
      "cell_type": "code",
      "metadata": {
        "id": "JKI4dnV_c_n2"
      },
      "source": [
        "#Build and train the model\r\n",
        "def fit_model(train,val,timesteps,hl,lr,batch,epochs):\r\n",
        "    X_train = []\r\n",
        "    Y_train = []\r\n",
        "    X_val = []\r\n",
        "    Y_val = []\r\n",
        "  \r\n",
        "    # Loop for training data\r\n",
        "    for i in range(timesteps,train.shape[0]):\r\n",
        "        X_train.append(train[i-timesteps:i])\r\n",
        "        Y_train.append(train[i][0])\r\n",
        "    X_train,Y_train = np.array(X_train),np.array(Y_train)\r\n",
        "  \r\n",
        "    # Loop for val data\r\n",
        "    for i in range(timesteps,val.shape[0]):\r\n",
        "        X_val.append(val[i-timesteps:i])\r\n",
        "        Y_val.append(val[i][0])\r\n",
        "    X_val,Y_val = np.array(X_val),np.array(Y_val)\r\n",
        "  \r\n",
        "    # Adding Layers to the model\r\n",
        "    model = Sequential()\r\n",
        "    model.add(GRU(X_train.shape[2],input_shape = (X_train.shape[1],X_train.shape[2]),return_sequences = True,\r\n",
        "                  activation = 'relu'))\r\n",
        "    for i in range(len(hl)-1):        \r\n",
        "        model.add(GRU(hl[i],activation = 'relu',return_sequences = True))\r\n",
        "    model.add(GRU(hl[-1],activation = 'relu'))\r\n",
        "    model.add(Dense(1))\r\n",
        "    model.compile(optimizer = optimizers.Adam(lr = lr), loss = 'mean_squared_error')\r\n",
        "  \r\n",
        "    # Training the data\r\n",
        "    history = model.fit(X_train,Y_train,epochs = epochs,batch_size = batch,validation_data = (X_val, Y_val),verbose = 0,\r\n",
        "                        shuffle = False, callbacks=callbacks_list)\r\n",
        "    model.reset_states()\r\n",
        "    return model, history.history['loss'], history.history['val_loss']"
      ],
      "execution_count": null,
      "outputs": []
    },
    {
      "cell_type": "code",
      "metadata": {
        "id": "H0cmj01OdD6U"
      },
      "source": [
        "# Evaluating the model\r\n",
        "def evaluate_model(model,test,timesteps):\r\n",
        "    X_test = []\r\n",
        "    Y_test = []\r\n",
        "\r\n",
        "    # Loop for testing data\r\n",
        "    for i in range(timesteps,test.shape[0]):\r\n",
        "        X_test.append(test[i-timesteps:i])\r\n",
        "        Y_test.append(test[i][0])\r\n",
        "    X_test,Y_test = np.array(X_test),np.array(Y_test)\r\n",
        "  \r\n",
        "    # Prediction Time !!!!\r\n",
        "    Y_hat = model.predict(X_test)\r\n",
        "    mse = mean_squared_error(Y_test,Y_hat)\r\n",
        "    rmse = sqrt(mse)\r\n",
        "    r2 = r2_score(Y_test,Y_hat)\r\n",
        "    return mse,rmse, r2, Y_test, Y_hat"
      ],
      "execution_count": null,
      "outputs": []
    },
    {
      "cell_type": "code",
      "metadata": {
        "id": "bsFQdm0rdHd3"
      },
      "source": [
        "# Plotting the predictions\r\n",
        "def plot_data(Y_test,Y_hat):\r\n",
        "    plt.plot(Y_test,c = 'r')\r\n",
        "    plt.plot(Y_hat,c = 'y')\r\n",
        "    plt.xlabel('Day')\r\n",
        "    plt.ylabel('Order Placed')\r\n",
        "    plt.title(\"Order Placed Predictions Using GRU\")\r\n",
        "    plt.legend(['Actual','Predicted'],loc = 'lower right')\r\n",
        "    plt.show()"
      ],
      "execution_count": null,
      "outputs": []
    },
    {
      "cell_type": "code",
      "metadata": {
        "id": "0nsFu_wOdN7H"
      },
      "source": [
        "# Plotting the training errors\r\n",
        "def plot_error(train_loss,val_loss):\r\n",
        "    plt.plot(train_loss,c = 'r')\r\n",
        "    plt.plot(val_loss,c = 'b')\r\n",
        "    plt.ylabel('Loss')\r\n",
        "    plt.xlabel('Epochs')\r\n",
        "    plt.title('Loss Plot')\r\n",
        "    plt.legend(['train','val'],loc = 'lower right')\r\n",
        "    plt.show()"
      ],
      "execution_count": null,
      "outputs": []
    },
    {
      "cell_type": "code",
      "metadata": {
        "colab": {
          "base_uri": "https://localhost:8080/"
        },
        "id": "0hCNSYGZdTdO",
        "outputId": "0532c03d-c416-4a39-9e0d-099ccce91c9b"
      },
      "source": [
        "# Normalisation\r\n",
        "sc = MinMaxScaler()\r\n",
        "train = sc.fit_transform(enokiDataTrain)\r\n",
        "val = sc.transform(enokiDataValid)\r\n",
        "test = sc.transform(enokiDataTest)\r\n",
        "print(train.shape,val.shape,test.shape)"
      ],
      "execution_count": null,
      "outputs": [
        {
          "output_type": "stream",
          "text": [
            "(450, 2) (165, 2) (245, 2)\n"
          ],
          "name": "stdout"
        }
      ]
    },
    {
      "cell_type": "code",
      "metadata": {
        "id": "hqj-d1I3dcJe"
      },
      "source": [
        "timesteps = 20\r\n",
        "hl = [60,30]\r\n",
        "lr = 1e-4\r\n",
        "batch_size = 2\r\n",
        "num_epochs = 200"
      ],
      "execution_count": 68,
      "outputs": []
    },
    {
      "cell_type": "code",
      "metadata": {
        "colab": {
          "base_uri": "https://localhost:8080/",
          "height": 316
        },
        "id": "Nz8CSVyZgAhx",
        "outputId": "0cedda91-fabc-475d-cbdb-cc76a4a1fc6e"
      },
      "source": [
        "model,train_error,val_error = fit_model(train,val,timesteps,hl,lr,batch_size,num_epochs)\r\n",
        "plot_error(train_error,val_error)"
      ],
      "execution_count": null,
      "outputs": [
        {
          "output_type": "stream",
          "text": [
            "Epoch 00191: early stopping\n"
          ],
          "name": "stdout"
        },
        {
          "output_type": "display_data",
          "data": {
            "image/png": "[encoded data removed]",
            "text/plain": [
              "<Figure size 432x288 with 1 Axes>"
            ]
          },
          "metadata": {
            "tags": []
          }
        }
      ]
    },
    {
      "cell_type": "code",
      "metadata": {
        "colab": {
          "base_uri": "https://localhost:8080/",
          "height": 350
        },
        "id": "DbgWkK1ZgFFr",
        "outputId": "02019921-739d-4613-d0bd-430cc95b92dc"
      },
      "source": [
        "mse,rmse,r2_value,true,predicted = evaluate_model(model,test,40)\r\n",
        "print(\"MSE =\",mse)\r\n",
        "print(\"RMSE =\",rmse)\r\n",
        "print(\"R2-Score =\",r2_value)\r\n",
        "plot_data(true,predicted)\r\n"
      ],
      "execution_count": null,
      "outputs": [
        {
          "output_type": "stream",
          "text": [
            "MSE = 0.029218594550730805\n",
            "RMSE = 0.17093447443605636\n",
            "R2-Score = -1.422572319200392\n"
          ],
          "name": "stdout"
        },
        {
          "output_type": "display_data",
          "data": {
            "image/png": "[encoded data removed]",
            "text/plain": [
              "<Figure size 432x288 with 1 Axes>"
            ]
          },
          "metadata": {
            "tags": []
          }
        }
      ]
    },
    {
      "cell_type": "code",
      "metadata": {
        "colab": {
          "base_uri": "https://localhost:8080/",
          "height": 299
        },
        "id": "x3eI0iSPgZY1",
        "outputId": "525dbb28-c2de-4507-fa72-f37b980def16"
      },
      "source": [
        "plt.plot(enokiDataTest)"
      ],
      "execution_count": null,
      "outputs": [
        {
          "output_type": "execute_result",
          "data": {
            "text/plain": [
              "[<matplotlib.lines.Line2D at 0x7f8f5e53bd10>,\n",
              " <matplotlib.lines.Line2D at 0x7f8f5e4fbb50>]"
            ]
          },
          "metadata": {
            "tags": []
          },
          "execution_count": 50
        },
        {
          "output_type": "display_data",
          "data": {
            "image/png": "[encoded data removed]",
            "text/plain": [
              "<Figure size 432x288 with 1 Axes>"
            ]
          },
          "metadata": {
            "tags": []
          }
        }
      ]
    },
    {
      "cell_type": "markdown",
      "metadata": {
        "id": "N3sRIRNZt17S"
      },
      "source": [
        "# Testing with CNN"
      ]
    },
    {
      "cell_type": "code",
      "metadata": {
        "id": "5wwf63tuuNu9"
      },
      "source": [
        "from keras.layers.convolutional import Conv1D\r\n",
        "from keras.layers.convolutional import MaxPooling1D\r\n",
        "from keras.layers import Flatten\r\n",
        "#Build and train the model\r\n",
        "def fit_modelCNN(train,val,timesteps,hl,lr,batch,epochs):\r\n",
        "    X_train = []\r\n",
        "    Y_train = []\r\n",
        "    X_val = []\r\n",
        "    Y_val = []\r\n",
        "  \r\n",
        "    # Loop for training data\r\n",
        "    for i in range(timesteps,train.shape[0]):\r\n",
        "        X_train.append(train[i-timesteps:i])\r\n",
        "        Y_train.append(train[i][0])\r\n",
        "    X_train,Y_train = np.array(X_train),np.array(Y_train)\r\n",
        "  \r\n",
        "    # Loop for val data\r\n",
        "    for i in range(timesteps,val.shape[0]):\r\n",
        "        X_val.append(val[i-timesteps:i])\r\n",
        "        Y_val.append(val[i][0])\r\n",
        "    X_val,Y_val = np.array(X_val),np.array(Y_val)\r\n",
        "  \r\n",
        "    # Adding Layers to the model\r\n",
        "    model = Sequential()\r\n",
        "    model.add(Conv1D(filters=64, kernel_size=4, activation='relu', padding='same', input_shape=(timesteps, X_train.shape[2])))\r\n",
        "    model.add(MaxPooling1D(pool_size=2, padding='same'))\r\n",
        "    model.add(Conv1D(filters=32, kernel_size=2, activation='relu', padding='same', input_shape=(timesteps, X_train.shape[2])))\r\n",
        "    model.add(MaxPooling1D(pool_size=2, padding='same'))\r\n",
        "    model.add(Flatten())\r\n",
        "    model.add(Dense(50, activation='relu'))\r\n",
        "    model.add(Dense(1))\r\n",
        "    model.compile(optimizer = optimizers.Adam(lr = lr), loss = 'mean_squared_error')\r\n",
        "  \r\n",
        "    # Training the data\r\n",
        "    history = model.fit(X_train,Y_train,epochs = epochs,batch_size = batch,validation_data = (X_val, Y_val),verbose = 0,\r\n",
        "                        shuffle = False, callbacks=callbacks_list)\r\n",
        "    model.reset_states()\r\n",
        "    return model, history.history['loss'], history.history['val_loss']"
      ],
      "execution_count": null,
      "outputs": []
    },
    {
      "cell_type": "code",
      "metadata": {
        "id": "qXeL-I8mzwTS"
      },
      "source": [
        "# Plotting the predictions\r\n",
        "def plot_dataCNN(Y_test,Y_hat):\r\n",
        "    plt.plot(Y_test,c = 'r')\r\n",
        "    plt.plot(Y_hat,c = 'y')\r\n",
        "    plt.xlabel('Day')\r\n",
        "    plt.ylabel('Order Placed')\r\n",
        "    plt.title(\"Order Placed Predictions Using CNN\")\r\n",
        "    plt.legend(['Actual','Predicted'],loc = 'lower right')\r\n",
        "    plt.show()"
      ],
      "execution_count": null,
      "outputs": []
    },
    {
      "cell_type": "code",
      "metadata": {
        "colab": {
          "base_uri": "https://localhost:8080/",
          "height": 316
        },
        "id": "XnjHQLxGvYVz",
        "outputId": "e9f427cf-9fc9-47c7-c7df-f5240228e738"
      },
      "source": [
        "model,train_error,val_error = fit_modelCNN(train,val,timesteps,hl,lr,batch_size,num_epochs)\r\n",
        "plot_error(train_error,val_error)"
      ],
      "execution_count": null,
      "outputs": [
        {
          "output_type": "stream",
          "text": [
            "Epoch 00095: early stopping\n"
          ],
          "name": "stdout"
        },
        {
          "output_type": "display_data",
          "data": {
            "image/png": "[encoded data removed]",
            "text/plain": [
              "<Figure size 432x288 with 1 Axes>"
            ]
          },
          "metadata": {
            "tags": []
          }
        }
      ]
    },
    {
      "cell_type": "code",
      "metadata": {
        "colab": {
          "base_uri": "https://localhost:8080/",
          "height": 904
        },
        "id": "dW-2R4Ssz2Ef",
        "outputId": "0133264e-9da0-4db3-ee40-f10fe9af97f5"
      },
      "source": [
        "mse,rmse,r2_value,true,predicted = evaluate_model(model,test,1)\r\n",
        "print(\"MSE =\",mse)\r\n",
        "print(\"RMSE =\",rmse)\r\n",
        "print(\"R2-Score =\",r2_value)\r\n",
        "plot_data(true,predicted)"
      ],
      "execution_count": null,
      "outputs": [
        {
          "output_type": "stream",
          "text": [
            "WARNING:tensorflow:Model was constructed with shape (None, 30, 2) for input KerasTensor(type_spec=TensorSpec(shape=(None, 30, 2), dtype=tf.float32, name='conv1d_input'), name='conv1d_input', description=\"created by layer 'conv1d_input'\"), but it was called on an input with incompatible shape (None, 1, 2).\n"
          ],
          "name": "stdout"
        },
        {
          "output_type": "error",
          "ename": "ValueError",
          "evalue": "ignored",
          "traceback": [
            "\u001b[0;31m---------------------------------------------------------------------------\u001b[0m",
            "\u001b[0;31mValueError\u001b[0m                                Traceback (most recent call last)",
            "\u001b[0;32m<ipython-input-59-7927580fc502>\u001b[0m in \u001b[0;36m<module>\u001b[0;34m()\u001b[0m\n\u001b[0;32m----> 1\u001b[0;31m \u001b[0mmse\u001b[0m\u001b[0;34m,\u001b[0m\u001b[0mrmse\u001b[0m\u001b[0;34m,\u001b[0m\u001b[0mr2_value\u001b[0m\u001b[0;34m,\u001b[0m\u001b[0mtrue\u001b[0m\u001b[0;34m,\u001b[0m\u001b[0mpredicted\u001b[0m \u001b[0;34m=\u001b[0m \u001b[0mevaluate_model\u001b[0m\u001b[0;34m(\u001b[0m\u001b[0mmodel\u001b[0m\u001b[0;34m,\u001b[0m\u001b[0mtest\u001b[0m\u001b[0;34m,\u001b[0m\u001b[0;36m1\u001b[0m\u001b[0;34m)\u001b[0m\u001b[0;34m\u001b[0m\u001b[0;34m\u001b[0m\u001b[0m\n\u001b[0m\u001b[1;32m      2\u001b[0m \u001b[0mprint\u001b[0m\u001b[0;34m(\u001b[0m\u001b[0;34m\"MSE =\"\u001b[0m\u001b[0;34m,\u001b[0m\u001b[0mmse\u001b[0m\u001b[0;34m)\u001b[0m\u001b[0;34m\u001b[0m\u001b[0;34m\u001b[0m\u001b[0m\n\u001b[1;32m      3\u001b[0m \u001b[0mprint\u001b[0m\u001b[0;34m(\u001b[0m\u001b[0;34m\"RMSE =\"\u001b[0m\u001b[0;34m,\u001b[0m\u001b[0mrmse\u001b[0m\u001b[0;34m)\u001b[0m\u001b[0;34m\u001b[0m\u001b[0;34m\u001b[0m\u001b[0m\n\u001b[1;32m      4\u001b[0m \u001b[0mprint\u001b[0m\u001b[0;34m(\u001b[0m\u001b[0;34m\"R2-Score =\"\u001b[0m\u001b[0;34m,\u001b[0m\u001b[0mr2_value\u001b[0m\u001b[0;34m)\u001b[0m\u001b[0;34m\u001b[0m\u001b[0;34m\u001b[0m\u001b[0m\n\u001b[1;32m      5\u001b[0m \u001b[0mplot_data\u001b[0m\u001b[0;34m(\u001b[0m\u001b[0mtrue\u001b[0m\u001b[0;34m,\u001b[0m\u001b[0mpredicted\u001b[0m\u001b[0;34m)\u001b[0m\u001b[0;34m\u001b[0m\u001b[0;34m\u001b[0m\u001b[0m\n",
            "\u001b[0;32m<ipython-input-43-6b3da4ed7e33>\u001b[0m in \u001b[0;36mevaluate_model\u001b[0;34m(model, test, timesteps)\u001b[0m\n\u001b[1;32m     11\u001b[0m \u001b[0;34m\u001b[0m\u001b[0m\n\u001b[1;32m     12\u001b[0m     \u001b[0;31m# Prediction Time !!!!\u001b[0m\u001b[0;34m\u001b[0m\u001b[0;34m\u001b[0m\u001b[0;34m\u001b[0m\u001b[0m\n\u001b[0;32m---> 13\u001b[0;31m     \u001b[0mY_hat\u001b[0m \u001b[0;34m=\u001b[0m \u001b[0mmodel\u001b[0m\u001b[0;34m.\u001b[0m\u001b[0mpredict\u001b[0m\u001b[0;34m(\u001b[0m\u001b[0mX_test\u001b[0m\u001b[0;34m)\u001b[0m\u001b[0;34m\u001b[0m\u001b[0;34m\u001b[0m\u001b[0m\n\u001b[0m\u001b[1;32m     14\u001b[0m     \u001b[0mmse\u001b[0m \u001b[0;34m=\u001b[0m \u001b[0mmean_squared_error\u001b[0m\u001b[0;34m(\u001b[0m\u001b[0mY_test\u001b[0m\u001b[0;34m,\u001b[0m\u001b[0mY_hat\u001b[0m\u001b[0;34m)\u001b[0m\u001b[0;34m\u001b[0m\u001b[0;34m\u001b[0m\u001b[0m\n\u001b[1;32m     15\u001b[0m     \u001b[0mrmse\u001b[0m \u001b[0;34m=\u001b[0m \u001b[0msqrt\u001b[0m\u001b[0;34m(\u001b[0m\u001b[0mmse\u001b[0m\u001b[0;34m)\u001b[0m\u001b[0;34m\u001b[0m\u001b[0;34m\u001b[0m\u001b[0m\n",
            "\u001b[0;32m/usr/local/lib/python3.7/dist-packages/tensorflow/python/keras/engine/training.py\u001b[0m in \u001b[0;36mpredict\u001b[0;34m(self, x, batch_size, verbose, steps, callbacks, max_queue_size, workers, use_multiprocessing)\u001b[0m\n\u001b[1;32m   1627\u001b[0m           \u001b[0;32mfor\u001b[0m \u001b[0mstep\u001b[0m \u001b[0;32min\u001b[0m \u001b[0mdata_handler\u001b[0m\u001b[0;34m.\u001b[0m\u001b[0msteps\u001b[0m\u001b[0;34m(\u001b[0m\u001b[0;34m)\u001b[0m\u001b[0;34m:\u001b[0m\u001b[0;34m\u001b[0m\u001b[0;34m\u001b[0m\u001b[0m\n\u001b[1;32m   1628\u001b[0m             \u001b[0mcallbacks\u001b[0m\u001b[0;34m.\u001b[0m\u001b[0mon_predict_batch_begin\u001b[0m\u001b[0;34m(\u001b[0m\u001b[0mstep\u001b[0m\u001b[0;34m)\u001b[0m\u001b[0;34m\u001b[0m\u001b[0;34m\u001b[0m\u001b[0m\n\u001b[0;32m-> 1629\u001b[0;31m             \u001b[0mtmp_batch_outputs\u001b[0m \u001b[0;34m=\u001b[0m \u001b[0mself\u001b[0m\u001b[0;34m.\u001b[0m\u001b[0mpredict_function\u001b[0m\u001b[0;34m(\u001b[0m\u001b[0miterator\u001b[0m\u001b[0;34m)\u001b[0m\u001b[0;34m\u001b[0m\u001b[0;34m\u001b[0m\u001b[0m\n\u001b[0m\u001b[1;32m   1630\u001b[0m             \u001b[0;32mif\u001b[0m \u001b[0mdata_handler\u001b[0m\u001b[0;34m.\u001b[0m\u001b[0mshould_sync\u001b[0m\u001b[0;34m:\u001b[0m\u001b[0;34m\u001b[0m\u001b[0;34m\u001b[0m\u001b[0m\n\u001b[1;32m   1631\u001b[0m               \u001b[0mcontext\u001b[0m\u001b[0;34m.\u001b[0m\u001b[0masync_wait\u001b[0m\u001b[0;34m(\u001b[0m\u001b[0;34m)\u001b[0m\u001b[0;34m\u001b[0m\u001b[0;34m\u001b[0m\u001b[0m\n",
            "\u001b[0;32m/usr/local/lib/python3.7/dist-packages/tensorflow/python/eager/def_function.py\u001b[0m in \u001b[0;36m__call__\u001b[0;34m(self, *args, **kwds)\u001b[0m\n\u001b[1;32m    826\u001b[0m     \u001b[0mtracing_count\u001b[0m \u001b[0;34m=\u001b[0m \u001b[0mself\u001b[0m\u001b[0;34m.\u001b[0m\u001b[0mexperimental_get_tracing_count\u001b[0m\u001b[0;34m(\u001b[0m\u001b[0;34m)\u001b[0m\u001b[0;34m\u001b[0m\u001b[0;34m\u001b[0m\u001b[0m\n\u001b[1;32m    827\u001b[0m     \u001b[0;32mwith\u001b[0m \u001b[0mtrace\u001b[0m\u001b[0;34m.\u001b[0m\u001b[0mTrace\u001b[0m\u001b[0;34m(\u001b[0m\u001b[0mself\u001b[0m\u001b[0;34m.\u001b[0m\u001b[0m_name\u001b[0m\u001b[0;34m)\u001b[0m \u001b[0;32mas\u001b[0m \u001b[0mtm\u001b[0m\u001b[0;34m:\u001b[0m\u001b[0;34m\u001b[0m\u001b[0;34m\u001b[0m\u001b[0m\n\u001b[0;32m--> 828\u001b[0;31m       \u001b[0mresult\u001b[0m \u001b[0;34m=\u001b[0m \u001b[0mself\u001b[0m\u001b[0;34m.\u001b[0m\u001b[0m_call\u001b[0m\u001b[0;34m(\u001b[0m\u001b[0;34m*\u001b[0m\u001b[0margs\u001b[0m\u001b[0;34m,\u001b[0m \u001b[0;34m**\u001b[0m\u001b[0mkwds\u001b[0m\u001b[0;34m)\u001b[0m\u001b[0;34m\u001b[0m\u001b[0;34m\u001b[0m\u001b[0m\n\u001b[0m\u001b[1;32m    829\u001b[0m       \u001b[0mcompiler\u001b[0m \u001b[0;34m=\u001b[0m \u001b[0;34m\"xla\"\u001b[0m \u001b[0;32mif\u001b[0m \u001b[0mself\u001b[0m\u001b[0;34m.\u001b[0m\u001b[0m_experimental_compile\u001b[0m \u001b[0;32melse\u001b[0m \u001b[0;34m\"nonXla\"\u001b[0m\u001b[0;34m\u001b[0m\u001b[0;34m\u001b[0m\u001b[0m\n\u001b[1;32m    830\u001b[0m       \u001b[0mnew_tracing_count\u001b[0m \u001b[0;34m=\u001b[0m \u001b[0mself\u001b[0m\u001b[0;34m.\u001b[0m\u001b[0mexperimental_get_tracing_count\u001b[0m\u001b[0;34m(\u001b[0m\u001b[0;34m)\u001b[0m\u001b[0;34m\u001b[0m\u001b[0;34m\u001b[0m\u001b[0m\n",
            "\u001b[0;32m/usr/local/lib/python3.7/dist-packages/tensorflow/python/eager/def_function.py\u001b[0m in \u001b[0;36m_call\u001b[0;34m(self, *args, **kwds)\u001b[0m\n\u001b[1;32m    869\u001b[0m       \u001b[0;31m# This is the first call of __call__, so we have to initialize.\u001b[0m\u001b[0;34m\u001b[0m\u001b[0;34m\u001b[0m\u001b[0;34m\u001b[0m\u001b[0m\n\u001b[1;32m    870\u001b[0m       \u001b[0minitializers\u001b[0m \u001b[0;34m=\u001b[0m \u001b[0;34m[\u001b[0m\u001b[0;34m]\u001b[0m\u001b[0;34m\u001b[0m\u001b[0;34m\u001b[0m\u001b[0m\n\u001b[0;32m--> 871\u001b[0;31m       \u001b[0mself\u001b[0m\u001b[0;34m.\u001b[0m\u001b[0m_initialize\u001b[0m\u001b[0;34m(\u001b[0m\u001b[0margs\u001b[0m\u001b[0;34m,\u001b[0m \u001b[0mkwds\u001b[0m\u001b[0;34m,\u001b[0m \u001b[0madd_initializers_to\u001b[0m\u001b[0;34m=\u001b[0m\u001b[0minitializers\u001b[0m\u001b[0;34m)\u001b[0m\u001b[0;34m\u001b[0m\u001b[0;34m\u001b[0m\u001b[0m\n\u001b[0m\u001b[1;32m    872\u001b[0m     \u001b[0;32mfinally\u001b[0m\u001b[0;34m:\u001b[0m\u001b[0;34m\u001b[0m\u001b[0;34m\u001b[0m\u001b[0m\n\u001b[1;32m    873\u001b[0m       \u001b[0;31m# At this point we know that the initialization is complete (or less\u001b[0m\u001b[0;34m\u001b[0m\u001b[0;34m\u001b[0m\u001b[0;34m\u001b[0m\u001b[0m\n",
            "\u001b[0;32m/usr/local/lib/python3.7/dist-packages/tensorflow/python/eager/def_function.py\u001b[0m in \u001b[0;36m_initialize\u001b[0;34m(self, args, kwds, add_initializers_to)\u001b[0m\n\u001b[1;32m    724\u001b[0m     self._concrete_stateful_fn = (\n\u001b[1;32m    725\u001b[0m         self._stateful_fn._get_concrete_function_internal_garbage_collected(  # pylint: disable=protected-access\n\u001b[0;32m--> 726\u001b[0;31m             *args, **kwds))\n\u001b[0m\u001b[1;32m    727\u001b[0m \u001b[0;34m\u001b[0m\u001b[0m\n\u001b[1;32m    728\u001b[0m     \u001b[0;32mdef\u001b[0m \u001b[0minvalid_creator_scope\u001b[0m\u001b[0;34m(\u001b[0m\u001b[0;34m*\u001b[0m\u001b[0munused_args\u001b[0m\u001b[0;34m,\u001b[0m \u001b[0;34m**\u001b[0m\u001b[0munused_kwds\u001b[0m\u001b[0;34m)\u001b[0m\u001b[0;34m:\u001b[0m\u001b[0;34m\u001b[0m\u001b[0;34m\u001b[0m\u001b[0m\n",
            "\u001b[0;32m/usr/local/lib/python3.7/dist-packages/tensorflow/python/eager/function.py\u001b[0m in \u001b[0;36m_get_concrete_function_internal_garbage_collected\u001b[0;34m(self, *args, **kwargs)\u001b[0m\n\u001b[1;32m   2967\u001b[0m       \u001b[0margs\u001b[0m\u001b[0;34m,\u001b[0m \u001b[0mkwargs\u001b[0m \u001b[0;34m=\u001b[0m \u001b[0;32mNone\u001b[0m\u001b[0;34m,\u001b[0m \u001b[0;32mNone\u001b[0m\u001b[0;34m\u001b[0m\u001b[0;34m\u001b[0m\u001b[0m\n\u001b[1;32m   2968\u001b[0m     \u001b[0;32mwith\u001b[0m \u001b[0mself\u001b[0m\u001b[0;34m.\u001b[0m\u001b[0m_lock\u001b[0m\u001b[0;34m:\u001b[0m\u001b[0;34m\u001b[0m\u001b[0;34m\u001b[0m\u001b[0m\n\u001b[0;32m-> 2969\u001b[0;31m       \u001b[0mgraph_function\u001b[0m\u001b[0;34m,\u001b[0m \u001b[0m_\u001b[0m \u001b[0;34m=\u001b[0m \u001b[0mself\u001b[0m\u001b[0;34m.\u001b[0m\u001b[0m_maybe_define_function\u001b[0m\u001b[0;34m(\u001b[0m\u001b[0margs\u001b[0m\u001b[0;34m,\u001b[0m \u001b[0mkwargs\u001b[0m\u001b[0;34m)\u001b[0m\u001b[0;34m\u001b[0m\u001b[0;34m\u001b[0m\u001b[0m\n\u001b[0m\u001b[1;32m   2970\u001b[0m     \u001b[0;32mreturn\u001b[0m \u001b[0mgraph_function\u001b[0m\u001b[0;34m\u001b[0m\u001b[0;34m\u001b[0m\u001b[0m\n\u001b[1;32m   2971\u001b[0m \u001b[0;34m\u001b[0m\u001b[0m\n",
            "\u001b[0;32m/usr/local/lib/python3.7/dist-packages/tensorflow/python/eager/function.py\u001b[0m in \u001b[0;36m_maybe_define_function\u001b[0;34m(self, args, kwargs)\u001b[0m\n\u001b[1;32m   3359\u001b[0m \u001b[0;34m\u001b[0m\u001b[0m\n\u001b[1;32m   3360\u001b[0m           \u001b[0mself\u001b[0m\u001b[0;34m.\u001b[0m\u001b[0m_function_cache\u001b[0m\u001b[0;34m.\u001b[0m\u001b[0mmissed\u001b[0m\u001b[0;34m.\u001b[0m\u001b[0madd\u001b[0m\u001b[0;34m(\u001b[0m\u001b[0mcall_context_key\u001b[0m\u001b[0;34m)\u001b[0m\u001b[0;34m\u001b[0m\u001b[0;34m\u001b[0m\u001b[0m\n\u001b[0;32m-> 3361\u001b[0;31m           \u001b[0mgraph_function\u001b[0m \u001b[0;34m=\u001b[0m \u001b[0mself\u001b[0m\u001b[0;34m.\u001b[0m\u001b[0m_create_graph_function\u001b[0m\u001b[0;34m(\u001b[0m\u001b[0margs\u001b[0m\u001b[0;34m,\u001b[0m \u001b[0mkwargs\u001b[0m\u001b[0;34m)\u001b[0m\u001b[0;34m\u001b[0m\u001b[0;34m\u001b[0m\u001b[0m\n\u001b[0m\u001b[1;32m   3362\u001b[0m           \u001b[0mself\u001b[0m\u001b[0;34m.\u001b[0m\u001b[0m_function_cache\u001b[0m\u001b[0;34m.\u001b[0m\u001b[0mprimary\u001b[0m\u001b[0;34m[\u001b[0m\u001b[0mcache_key\u001b[0m\u001b[0;34m]\u001b[0m \u001b[0;34m=\u001b[0m \u001b[0mgraph_function\u001b[0m\u001b[0;34m\u001b[0m\u001b[0;34m\u001b[0m\u001b[0m\n\u001b[1;32m   3363\u001b[0m \u001b[0;34m\u001b[0m\u001b[0m\n",
            "\u001b[0;32m/usr/local/lib/python3.7/dist-packages/tensorflow/python/eager/function.py\u001b[0m in \u001b[0;36m_create_graph_function\u001b[0;34m(self, args, kwargs, override_flat_arg_shapes)\u001b[0m\n\u001b[1;32m   3204\u001b[0m             \u001b[0marg_names\u001b[0m\u001b[0;34m=\u001b[0m\u001b[0marg_names\u001b[0m\u001b[0;34m,\u001b[0m\u001b[0;34m\u001b[0m\u001b[0;34m\u001b[0m\u001b[0m\n\u001b[1;32m   3205\u001b[0m             \u001b[0moverride_flat_arg_shapes\u001b[0m\u001b[0;34m=\u001b[0m\u001b[0moverride_flat_arg_shapes\u001b[0m\u001b[0;34m,\u001b[0m\u001b[0;34m\u001b[0m\u001b[0;34m\u001b[0m\u001b[0m\n\u001b[0;32m-> 3206\u001b[0;31m             capture_by_value=self._capture_by_value),\n\u001b[0m\u001b[1;32m   3207\u001b[0m         \u001b[0mself\u001b[0m\u001b[0;34m.\u001b[0m\u001b[0m_function_attributes\u001b[0m\u001b[0;34m,\u001b[0m\u001b[0;34m\u001b[0m\u001b[0;34m\u001b[0m\u001b[0m\n\u001b[1;32m   3208\u001b[0m         \u001b[0mfunction_spec\u001b[0m\u001b[0;34m=\u001b[0m\u001b[0mself\u001b[0m\u001b[0;34m.\u001b[0m\u001b[0mfunction_spec\u001b[0m\u001b[0;34m,\u001b[0m\u001b[0;34m\u001b[0m\u001b[0;34m\u001b[0m\u001b[0m\n",
            "\u001b[0;32m/usr/local/lib/python3.7/dist-packages/tensorflow/python/framework/func_graph.py\u001b[0m in \u001b[0;36mfunc_graph_from_py_func\u001b[0;34m(name, python_func, args, kwargs, signature, func_graph, autograph, autograph_options, add_control_dependencies, arg_names, op_return_value, collections, capture_by_value, override_flat_arg_shapes)\u001b[0m\n\u001b[1;32m    988\u001b[0m         \u001b[0m_\u001b[0m\u001b[0;34m,\u001b[0m \u001b[0moriginal_func\u001b[0m \u001b[0;34m=\u001b[0m \u001b[0mtf_decorator\u001b[0m\u001b[0;34m.\u001b[0m\u001b[0munwrap\u001b[0m\u001b[0;34m(\u001b[0m\u001b[0mpython_func\u001b[0m\u001b[0;34m)\u001b[0m\u001b[0;34m\u001b[0m\u001b[0;34m\u001b[0m\u001b[0m\n\u001b[1;32m    989\u001b[0m \u001b[0;34m\u001b[0m\u001b[0m\n\u001b[0;32m--> 990\u001b[0;31m       \u001b[0mfunc_outputs\u001b[0m \u001b[0;34m=\u001b[0m \u001b[0mpython_func\u001b[0m\u001b[0;34m(\u001b[0m\u001b[0;34m*\u001b[0m\u001b[0mfunc_args\u001b[0m\u001b[0;34m,\u001b[0m \u001b[0;34m**\u001b[0m\u001b[0mfunc_kwargs\u001b[0m\u001b[0;34m)\u001b[0m\u001b[0;34m\u001b[0m\u001b[0;34m\u001b[0m\u001b[0m\n\u001b[0m\u001b[1;32m    991\u001b[0m \u001b[0;34m\u001b[0m\u001b[0m\n\u001b[1;32m    992\u001b[0m       \u001b[0;31m# invariant: `func_outputs` contains only Tensors, CompositeTensors,\u001b[0m\u001b[0;34m\u001b[0m\u001b[0;34m\u001b[0m\u001b[0;34m\u001b[0m\u001b[0m\n",
            "\u001b[0;32m/usr/local/lib/python3.7/dist-packages/tensorflow/python/eager/def_function.py\u001b[0m in \u001b[0;36mwrapped_fn\u001b[0;34m(*args, **kwds)\u001b[0m\n\u001b[1;32m    632\u001b[0m             \u001b[0mxla_context\u001b[0m\u001b[0;34m.\u001b[0m\u001b[0mExit\u001b[0m\u001b[0;34m(\u001b[0m\u001b[0;34m)\u001b[0m\u001b[0;34m\u001b[0m\u001b[0;34m\u001b[0m\u001b[0m\n\u001b[1;32m    633\u001b[0m         \u001b[0;32melse\u001b[0m\u001b[0;34m:\u001b[0m\u001b[0;34m\u001b[0m\u001b[0;34m\u001b[0m\u001b[0m\n\u001b[0;32m--> 634\u001b[0;31m           \u001b[0mout\u001b[0m \u001b[0;34m=\u001b[0m \u001b[0mweak_wrapped_fn\u001b[0m\u001b[0;34m(\u001b[0m\u001b[0;34m)\u001b[0m\u001b[0;34m.\u001b[0m\u001b[0m__wrapped__\u001b[0m\u001b[0;34m(\u001b[0m\u001b[0;34m*\u001b[0m\u001b[0margs\u001b[0m\u001b[0;34m,\u001b[0m \u001b[0;34m**\u001b[0m\u001b[0mkwds\u001b[0m\u001b[0;34m)\u001b[0m\u001b[0;34m\u001b[0m\u001b[0;34m\u001b[0m\u001b[0m\n\u001b[0m\u001b[1;32m    635\u001b[0m         \u001b[0;32mreturn\u001b[0m \u001b[0mout\u001b[0m\u001b[0;34m\u001b[0m\u001b[0;34m\u001b[0m\u001b[0m\n\u001b[1;32m    636\u001b[0m \u001b[0;34m\u001b[0m\u001b[0m\n",
            "\u001b[0;32m/usr/local/lib/python3.7/dist-packages/tensorflow/python/framework/func_graph.py\u001b[0m in \u001b[0;36mwrapper\u001b[0;34m(*args, **kwargs)\u001b[0m\n\u001b[1;32m    975\u001b[0m           \u001b[0;32mexcept\u001b[0m \u001b[0mException\u001b[0m \u001b[0;32mas\u001b[0m \u001b[0me\u001b[0m\u001b[0;34m:\u001b[0m  \u001b[0;31m# pylint:disable=broad-except\u001b[0m\u001b[0;34m\u001b[0m\u001b[0;34m\u001b[0m\u001b[0m\n\u001b[1;32m    976\u001b[0m             \u001b[0;32mif\u001b[0m \u001b[0mhasattr\u001b[0m\u001b[0;34m(\u001b[0m\u001b[0me\u001b[0m\u001b[0;34m,\u001b[0m \u001b[0;34m\"ag_error_metadata\"\u001b[0m\u001b[0;34m)\u001b[0m\u001b[0;34m:\u001b[0m\u001b[0;34m\u001b[0m\u001b[0;34m\u001b[0m\u001b[0m\n\u001b[0;32m--> 977\u001b[0;31m               \u001b[0;32mraise\u001b[0m \u001b[0me\u001b[0m\u001b[0;34m.\u001b[0m\u001b[0mag_error_metadata\u001b[0m\u001b[0;34m.\u001b[0m\u001b[0mto_exception\u001b[0m\u001b[0;34m(\u001b[0m\u001b[0me\u001b[0m\u001b[0;34m)\u001b[0m\u001b[0;34m\u001b[0m\u001b[0;34m\u001b[0m\u001b[0m\n\u001b[0m\u001b[1;32m    978\u001b[0m             \u001b[0;32melse\u001b[0m\u001b[0;34m:\u001b[0m\u001b[0;34m\u001b[0m\u001b[0;34m\u001b[0m\u001b[0m\n\u001b[1;32m    979\u001b[0m               \u001b[0;32mraise\u001b[0m\u001b[0;34m\u001b[0m\u001b[0;34m\u001b[0m\u001b[0m\n",
            "\u001b[0;31mValueError\u001b[0m: in user code:\n\n    /usr/local/lib/python3.7/dist-packages/tensorflow/python/keras/engine/training.py:1478 predict_function  *\n        return step_function(self, iterator)\n    /usr/local/lib/python3.7/dist-packages/tensorflow/python/keras/engine/training.py:1468 step_function  **\n        outputs = model.distribute_strategy.run(run_step, args=(data,))\n    /usr/local/lib/python3.7/dist-packages/tensorflow/python/distribute/distribute_lib.py:1259 run\n        return self._extended.call_for_each_replica(fn, args=args, kwargs=kwargs)\n    /usr/local/lib/python3.7/dist-packages/tensorflow/python/distribute/distribute_lib.py:2730 call_for_each_replica\n        return self._call_for_each_replica(fn, args, kwargs)\n    /usr/local/lib/python3.7/dist-packages/tensorflow/python/distribute/distribute_lib.py:3417 _call_for_each_replica\n        return fn(*args, **kwargs)\n    /usr/local/lib/python3.7/dist-packages/tensorflow/python/keras/engine/training.py:1461 run_step  **\n        outputs = model.predict_step(data)\n    /usr/local/lib/python3.7/dist-packages/tensorflow/python/keras/engine/training.py:1434 predict_step\n        return self(x, training=False)\n    /usr/local/lib/python3.7/dist-packages/tensorflow/python/keras/engine/base_layer.py:1012 __call__\n        outputs = call_fn(inputs, *args, **kwargs)\n    /usr/local/lib/python3.7/dist-packages/tensorflow/python/keras/engine/sequential.py:375 call\n        return super(Sequential, self).call(inputs, training=training, mask=mask)\n    /usr/local/lib/python3.7/dist-packages/tensorflow/python/keras/engine/functional.py:425 call\n        inputs, training=training, mask=mask)\n    /usr/local/lib/python3.7/dist-packages/tensorflow/python/keras/engine/functional.py:560 _run_internal_graph\n        outputs = node.layer(*args, **kwargs)\n    /usr/local/lib/python3.7/dist-packages/tensorflow/python/keras/engine/base_layer.py:998 __call__\n        input_spec.assert_input_compatibility(self.input_spec, inputs, self.name)\n    /usr/local/lib/python3.7/dist-packages/tensorflow/python/keras/engine/input_spec.py:259 assert_input_compatibility\n        ' but received input with shape ' + display_shape(x.shape))\n\n    ValueError: Input 0 of layer dense_1 is incompatible with the layer: expected axis -1 of input shape to have value 256 but received input with shape (None, 32)\n"
          ]
        }
      ]
    },
    {
      "cell_type": "code",
      "metadata": {
        "id": "vYU0k01p3Ucd"
      },
      "source": [
        "print(np.min(test))"
      ],
      "execution_count": null,
      "outputs": []
    },
    {
      "cell_type": "markdown",
      "metadata": {
        "id": "X-5bMzpdtcH-"
      },
      "source": [
        "# RNN"
      ]
    },
    {
      "cell_type": "code",
      "metadata": {
        "id": "LDObP5GwRB4I"
      },
      "source": [
        "from keras.models import Sequential, load_model\r\n",
        "from keras.layers.core import Dense\r\n",
        "from keras.layers.recurrent import SimpleRNN\r\n",
        "from keras import optimizers\r\n",
        "from keras.callbacks import EarlyStopping\r\n",
        "from sklearn.preprocessing import MinMaxScaler\r\n",
        "from sklearn.metrics import mean_squared_error, r2_score\r\n",
        "from math import sqrt"
      ],
      "execution_count": null,
      "outputs": []
    },
    {
      "cell_type": "code",
      "metadata": {
        "id": "aYxdRlQa38B1"
      },
      "source": [
        "#Build and train the model\r\n",
        "def fit_model_RNN(train,val,timesteps,hl,lr,batch,epochs):\r\n",
        "    X_train = []\r\n",
        "    Y_train = []\r\n",
        "    X_val = []\r\n",
        "    Y_val = []\r\n",
        "  \r\n",
        "    # Loop for training data\r\n",
        "    for i in range(timesteps,train.shape[0]):\r\n",
        "        X_train.append(train[i-timesteps:i])\r\n",
        "        Y_train.append(train[i][0])\r\n",
        "    X_train,Y_train = np.array(X_train),np.array(Y_train)\r\n",
        "  \r\n",
        "    # Loop for val data\r\n",
        "    for i in range(timesteps,val.shape[0]):\r\n",
        "        X_val.append(val[i-timesteps:i])\r\n",
        "        Y_val.append(val[i][0])\r\n",
        "    X_val,Y_val = np.array(X_val),np.array(Y_val)\r\n",
        "    \r\n",
        "    # Adding Layers to the model\r\n",
        "    model = Sequential()\r\n",
        "    model.add(SimpleRNN(X_train.shape[2],input_shape = (X_train.shape[1],X_train.shape[2]),return_sequences = True,\r\n",
        "                        activation = 'relu'))\r\n",
        "    for i in range(len(hl)-1):        \r\n",
        "        model.add(SimpleRNN(hl[i],activation = 'relu',return_sequences = True))\r\n",
        "    model.add(SimpleRNN(hl[-1],activation = 'relu'))\r\n",
        "    model.add(Dense(1))\r\n",
        "    model.compile(optimizer = optimizers.Adam(lr = lr), loss = 'mean_squared_error')\r\n",
        "    #print(model.summary())\r\n",
        "  \r\n",
        "    # Training the data\r\n",
        "    history = model.fit(X_train,Y_train,epochs = epochs,batch_size = batch,validation_data = (X_val, Y_val),verbose = 0,\r\n",
        "                        shuffle = False, callbacks=callbacks_list)\r\n",
        "    model.reset_states()\r\n",
        "    return model, history.history['loss'], history.history['val_loss']"
      ],
      "execution_count": null,
      "outputs": []
    },
    {
      "cell_type": "code",
      "metadata": {
        "id": "EcWsjLwnz53y"
      },
      "source": [
        "# Plotting the predictions\r\n",
        "def plot_dataRNN(Y_test,Y_hat):\r\n",
        "    plt.plot(Y_test,c = 'r')\r\n",
        "    plt.plot(Y_hat,c = 'y')\r\n",
        "    plt.xlabel('Day')\r\n",
        "    plt.ylabel('Order Placed')\r\n",
        "    plt.title(\"Order Placed Predictions Using RNN\")\r\n",
        "    plt.legend(['Actual','Predicted'],loc = 'lower right')\r\n",
        "    plt.show()"
      ],
      "execution_count": 138,
      "outputs": []
    },
    {
      "cell_type": "code",
      "metadata": {
        "colab": {
          "base_uri": "https://localhost:8080/"
        },
        "id": "oag_NNM-1l5L",
        "outputId": "1ff9b9df-d0f6-47bc-c2cf-b0cd4c67788c"
      },
      "source": [
        "# Normalisation\r\n",
        "sc = MinMaxScaler()\r\n",
        "train = sc.fit_transform(enokiDataTrain)\r\n",
        "val = sc.transform(enokiDataValid)\r\n",
        "test = sc.transform(enokiDataTest)\r\n",
        "print(train.shape,val.shape,test.shape)"
      ],
      "execution_count": null,
      "outputs": [
        {
          "output_type": "stream",
          "text": [
            "(450, 2) (165, 2) (245, 2)\n"
          ],
          "name": "stdout"
        }
      ]
    },
    {
      "cell_type": "code",
      "metadata": {
        "id": "Z2QFm-nBL0WY"
      },
      "source": [
        "timesteps = 10\r\n",
        "hl = [50,45]\r\n",
        "lr = 1e-3\r\n",
        "batch_size = 4\r\n",
        "num_epochs = 200"
      ],
      "execution_count": 135,
      "outputs": []
    },
    {
      "cell_type": "code",
      "metadata": {
        "colab": {
          "base_uri": "https://localhost:8080/",
          "height": 316
        },
        "id": "C8QNVwjftrJR",
        "outputId": "209865ae-d3c8-481c-b008-fbe018ded21e"
      },
      "source": [
        "model,train_error,val_error = fit_model_RNN(train,val,timesteps,hl,lr,batch_size,num_epochs)\r\n",
        "plot_error(train_error,val_error)"
      ],
      "execution_count": 136,
      "outputs": [
        {
          "output_type": "stream",
          "text": [
            "Epoch 00088: early stopping\n"
          ],
          "name": "stdout"
        },
        {
          "output_type": "display_data",
          "data": {
            "image/png": "[encoded data removed]",
            "text/plain": [
              "<Figure size 432x288 with 1 Axes>"
            ]
          },
          "metadata": {
            "tags": []
          }
        }
      ]
    },
    {
      "cell_type": "code",
      "metadata": {
        "colab": {
          "base_uri": "https://localhost:8080/",
          "height": 350
        },
        "id": "R-eFkRv_tkuM",
        "outputId": "734c1a08-bd9a-4242-87c7-4f2cd56a6ebc"
      },
      "source": [
        "mse,rmse,r2_value,true,predicted = evaluate_model(model,test,40)\r\n",
        "print(\"MSE =\",mse)\r\n",
        "print(\"RMSE =\",rmse)\r\n",
        "print(\"R2-Score =\",r2_value)\r\n",
        "plot_dataRNN(true,predicted)"
      ],
      "execution_count": 140,
      "outputs": [
        {
          "output_type": "stream",
          "text": [
            "MSE = 0.03820201622786789\n",
            "RMSE = 0.19545336074846062\n",
            "R2-Score = -2.1674058411875996\n"
          ],
          "name": "stdout"
        },
        {
          "output_type": "display_data",
          "data": {
            "image/png": "[encoded data removed]",
            "text/plain": [
              "<Figure size 432x288 with 1 Axes>"
            ]
          },
          "metadata": {
            "tags": []
          }
        }
      ]
    },
    {
      "cell_type": "markdown",
      "metadata": {
        "id": "lcGQKBSoEorm"
      },
      "source": [
        "# Testing Prophet"
      ]
    },
    {
      "cell_type": "code",
      "metadata": {
        "id": "1lqxt21hum6b"
      },
      "source": [
        "from fbprophet import Prophet\r\n",
        "\r\n",
        "m = Prophet()"
      ],
      "execution_count": 122,
      "outputs": []
    },
    {
      "cell_type": "code",
      "metadata": {
        "colab": {
          "base_uri": "https://localhost:8080/",
          "height": 419
        },
        "id": "u6-dzR0qF8_L",
        "outputId": "5bb1cc93-8eac-423d-9d7b-fc4a10e3dd30"
      },
      "source": [
        "enokiData"
      ],
      "execution_count": 77,
      "outputs": [
        {
          "output_type": "execute_result",
          "data": {
            "text/html": [
              "<div>\n",
              "<style scoped>\n",
              "    .dataframe tbody tr th:only-of-type {\n",
              "        vertical-align: middle;\n",
              "    }\n",
              "\n",
              "    .dataframe tbody tr th {\n",
              "        vertical-align: top;\n",
              "    }\n",
              "\n",
              "    .dataframe thead th {\n",
              "        text-align: right;\n",
              "    }\n",
              "</style>\n",
              "<table border=\"1\" class=\"dataframe\">\n",
              "  <thead>\n",
              "    <tr style=\"text-align: right;\">\n",
              "      <th></th>\n",
              "      <th>Date</th>\n",
              "      <th>SKU</th>\n",
              "      <th>Sold</th>\n",
              "      <th>Product Name - English</th>\n",
              "      <th>Product Name - Chinese</th>\n",
              "      <th>Quantity of Order Placed</th>\n",
              "      <th>Quantity of Order Received</th>\n",
              "    </tr>\n",
              "  </thead>\n",
              "  <tbody>\n",
              "    <tr>\n",
              "      <th>0</th>\n",
              "      <td>2018-01-01</td>\n",
              "      <td>A001</td>\n",
              "      <td>98.0</td>\n",
              "      <td>Enoki Mushroom</td>\n",
              "      <td>金针菇</td>\n",
              "      <td>120.0</td>\n",
              "      <td>120.0</td>\n",
              "    </tr>\n",
              "    <tr>\n",
              "      <th>1</th>\n",
              "      <td>2018-01-02</td>\n",
              "      <td>A001</td>\n",
              "      <td>43.0</td>\n",
              "      <td>Enoki Mushroom</td>\n",
              "      <td>金针菇</td>\n",
              "      <td>80.0</td>\n",
              "      <td>80.0</td>\n",
              "    </tr>\n",
              "    <tr>\n",
              "      <th>2</th>\n",
              "      <td>2018-01-03</td>\n",
              "      <td>A001</td>\n",
              "      <td>51.0</td>\n",
              "      <td>Enoki Mushroom</td>\n",
              "      <td>金针菇</td>\n",
              "      <td>50.0</td>\n",
              "      <td>50.0</td>\n",
              "    </tr>\n",
              "    <tr>\n",
              "      <th>3</th>\n",
              "      <td>2018-01-04</td>\n",
              "      <td>A001</td>\n",
              "      <td>40.0</td>\n",
              "      <td>Enoki Mushroom</td>\n",
              "      <td>金针菇</td>\n",
              "      <td>30.0</td>\n",
              "      <td>30.0</td>\n",
              "    </tr>\n",
              "    <tr>\n",
              "      <th>4</th>\n",
              "      <td>2018-01-05</td>\n",
              "      <td>A001</td>\n",
              "      <td>101.0</td>\n",
              "      <td>Enoki Mushroom</td>\n",
              "      <td>金针菇</td>\n",
              "      <td>100.0</td>\n",
              "      <td>100.0</td>\n",
              "    </tr>\n",
              "    <tr>\n",
              "      <th>...</th>\n",
              "      <td>...</td>\n",
              "      <td>...</td>\n",
              "      <td>...</td>\n",
              "      <td>...</td>\n",
              "      <td>...</td>\n",
              "      <td>...</td>\n",
              "      <td>...</td>\n",
              "    </tr>\n",
              "    <tr>\n",
              "      <th>818</th>\n",
              "      <td>2020-11-26</td>\n",
              "      <td>A001</td>\n",
              "      <td>30.0</td>\n",
              "      <td>Enoki Mushroom</td>\n",
              "      <td>金针菇</td>\n",
              "      <td>50.0</td>\n",
              "      <td>50.0</td>\n",
              "    </tr>\n",
              "    <tr>\n",
              "      <th>819</th>\n",
              "      <td>2020-11-27</td>\n",
              "      <td>A001</td>\n",
              "      <td>60.0</td>\n",
              "      <td>Enoki Mushroom</td>\n",
              "      <td>金针菇</td>\n",
              "      <td>50.0</td>\n",
              "      <td>50.0</td>\n",
              "    </tr>\n",
              "    <tr>\n",
              "      <th>820</th>\n",
              "      <td>2020-11-28</td>\n",
              "      <td>A001</td>\n",
              "      <td>39.0</td>\n",
              "      <td>Enoki Mushroom</td>\n",
              "      <td>金针菇</td>\n",
              "      <td>70.0</td>\n",
              "      <td>70.0</td>\n",
              "    </tr>\n",
              "    <tr>\n",
              "      <th>821</th>\n",
              "      <td>2020-11-29</td>\n",
              "      <td>A001</td>\n",
              "      <td>28.0</td>\n",
              "      <td>Enoki Mushroom</td>\n",
              "      <td>金针菇</td>\n",
              "      <td>30.0</td>\n",
              "      <td>30.0</td>\n",
              "    </tr>\n",
              "    <tr>\n",
              "      <th>822</th>\n",
              "      <td>2020-11-30</td>\n",
              "      <td>A001</td>\n",
              "      <td>12.0</td>\n",
              "      <td>Enoki Mushroom</td>\n",
              "      <td>金针菇</td>\n",
              "      <td>20.0</td>\n",
              "      <td>20.0</td>\n",
              "    </tr>\n",
              "  </tbody>\n",
              "</table>\n",
              "<p>861 rows × 7 columns</p>\n",
              "</div>"
            ],
            "text/plain": [
              "           Date   SKU  ...  Quantity of Order Placed Quantity of Order Received\n",
              "0    2018-01-01  A001  ...                     120.0                      120.0\n",
              "1    2018-01-02  A001  ...                      80.0                       80.0\n",
              "2    2018-01-03  A001  ...                      50.0                       50.0\n",
              "3    2018-01-04  A001  ...                      30.0                       30.0\n",
              "4    2018-01-05  A001  ...                     100.0                      100.0\n",
              "..          ...   ...  ...                       ...                        ...\n",
              "818  2020-11-26  A001  ...                      50.0                       50.0\n",
              "819  2020-11-27  A001  ...                      50.0                       50.0\n",
              "820  2020-11-28  A001  ...                      70.0                       70.0\n",
              "821  2020-11-29  A001  ...                      30.0                       30.0\n",
              "822  2020-11-30  A001  ...                      20.0                       20.0\n",
              "\n",
              "[861 rows x 7 columns]"
            ]
          },
          "metadata": {
            "tags": []
          },
          "execution_count": 77
        }
      ]
    },
    {
      "cell_type": "code",
      "metadata": {
        "id": "0F7soekBFeiX"
      },
      "source": [
        "date_before_test = dt.date(2020, 1, 1)\r\n",
        "date_before_valid = dt.date(2019, 6, 1)\r\n",
        "enokiDataTrainFB = enokiData[enokiData[\"Date\"]<date_before_valid].set_index('Date')\r\n",
        "enokiDataValidFB = enokiData[enokiData[\"Date\"]>date_before_valid]\r\n",
        "enokiDataValidFB = enokiDataValidFB[enokiDataValidFB[\"Date\"]<date_before_test].set_index('Date')\r\n",
        "enokiDataTestFB = enokiData[enokiData[\"Date\"]>date_before_test].set_index('Date')\r\n",
        "enokiDataTrainFB.reset_index(inplace=True)\r\n",
        "enokiDataValidFB.reset_index(inplace=True)\r\n",
        "enokiDataTestFB.reset_index(inplace=True)"
      ],
      "execution_count": 107,
      "outputs": []
    },
    {
      "cell_type": "code",
      "metadata": {
        "id": "_1jdmrMOH61y"
      },
      "source": [
        "columns_titles = [\"Quantity of Order Placed\",\"Sold\"]\r\n",
        "enokiDataTrainFB = enokiDataTrainFB.drop(columns=[\"SKU\", \"Product Name - English\", \"Product Name - Chinese\",\"Quantity of Order Received\"])\r\n",
        "enokiDataValidFB = enokiDataValidFB.drop(columns=[\"SKU\", \"Product Name - English\", \"Product Name - Chinese\",\"Quantity of Order Received\"])\r\n",
        "enokiDataTestFB = enokiDataTestFB.drop(columns=[\"SKU\", \"Product Name - English\", \"Product Name - Chinese\",\"Quantity of Order Received\"])\r\n",
        "enokiDataTrainFB = enokiDataTrainFB.rename(columns={\"Date\": \"ds\", \"Quantity of Order Placed\": \"y\"})\r\n",
        "enokiDataValidFB = enokiDataValidFB.rename(columns={\"Date\": \"ds\", \"Quantity of Order Placed\": \"y\"})\r\n",
        "enokiDataTestFB = enokiDataTestFB.rename(columns={\"Date\": \"ds\", \"Quantity of Order Placed\": \"y\"})"
      ],
      "execution_count": 108,
      "outputs": []
    },
    {
      "cell_type": "code",
      "metadata": {
        "colab": {
          "base_uri": "https://localhost:8080/"
        },
        "id": "E6RM2B6ZFkq3",
        "outputId": "e47fd56b-16a8-44f3-86d0-8fe8b5a79331"
      },
      "source": [
        "m.add_regressor('Sold', mode = \"multiplicative\")\r\n",
        "m.fit(enokiDataTrainFB)"
      ],
      "execution_count": 123,
      "outputs": [
        {
          "output_type": "stream",
          "text": [
            "INFO:fbprophet:Disabling yearly seasonality. Run prophet with yearly_seasonality=True to override this.\n",
            "INFO:fbprophet:Disabling daily seasonality. Run prophet with daily_seasonality=True to override this.\n"
          ],
          "name": "stderr"
        },
        {
          "output_type": "execute_result",
          "data": {
            "text/plain": [
              "<fbprophet.forecaster.Prophet at 0x7f8f520f0110>"
            ]
          },
          "metadata": {
            "tags": []
          },
          "execution_count": 123
        }
      ]
    },
    {
      "cell_type": "code",
      "metadata": {
        "id": "L74bafkIJ0Tr"
      },
      "source": [
        "forecast = m.predict(enokiDataTestFB.drop(columns=\"y\"))"
      ],
      "execution_count": 124,
      "outputs": []
    },
    {
      "cell_type": "code",
      "metadata": {
        "colab": {
          "base_uri": "https://localhost:8080/",
          "height": 609
        },
        "id": "9kRp2KJfKE5f",
        "outputId": "92089552-a63a-4b9e-a096-aa222b8900c1"
      },
      "source": [
        "forecast"
      ],
      "execution_count": 125,
      "outputs": [
        {
          "output_type": "execute_result",
          "data": {
            "text/html": [
              "<div>\n",
              "<style scoped>\n",
              "    .dataframe tbody tr th:only-of-type {\n",
              "        vertical-align: middle;\n",
              "    }\n",
              "\n",
              "    .dataframe tbody tr th {\n",
              "        vertical-align: top;\n",
              "    }\n",
              "\n",
              "    .dataframe thead th {\n",
              "        text-align: right;\n",
              "    }\n",
              "</style>\n",
              "<table border=\"1\" class=\"dataframe\">\n",
              "  <thead>\n",
              "    <tr style=\"text-align: right;\">\n",
              "      <th></th>\n",
              "      <th>ds</th>\n",
              "      <th>trend</th>\n",
              "      <th>yhat_lower</th>\n",
              "      <th>yhat_upper</th>\n",
              "      <th>trend_lower</th>\n",
              "      <th>trend_upper</th>\n",
              "      <th>Sold</th>\n",
              "      <th>Sold_lower</th>\n",
              "      <th>Sold_upper</th>\n",
              "      <th>additive_terms</th>\n",
              "      <th>additive_terms_lower</th>\n",
              "      <th>additive_terms_upper</th>\n",
              "      <th>extra_regressors_multiplicative</th>\n",
              "      <th>extra_regressors_multiplicative_lower</th>\n",
              "      <th>extra_regressors_multiplicative_upper</th>\n",
              "      <th>multiplicative_terms</th>\n",
              "      <th>multiplicative_terms_lower</th>\n",
              "      <th>multiplicative_terms_upper</th>\n",
              "      <th>weekly</th>\n",
              "      <th>weekly_lower</th>\n",
              "      <th>weekly_upper</th>\n",
              "      <th>yhat</th>\n",
              "    </tr>\n",
              "  </thead>\n",
              "  <tbody>\n",
              "    <tr>\n",
              "      <th>0</th>\n",
              "      <td>2020-01-02</td>\n",
              "      <td>81.079202</td>\n",
              "      <td>30.729304</td>\n",
              "      <td>87.058415</td>\n",
              "      <td>78.707669</td>\n",
              "      <td>83.190652</td>\n",
              "      <td>-0.217420</td>\n",
              "      <td>-0.217420</td>\n",
              "      <td>-0.217420</td>\n",
              "      <td>-4.795769</td>\n",
              "      <td>-4.795769</td>\n",
              "      <td>-4.795769</td>\n",
              "      <td>-0.217420</td>\n",
              "      <td>-0.217420</td>\n",
              "      <td>-0.217420</td>\n",
              "      <td>-0.217420</td>\n",
              "      <td>-0.217420</td>\n",
              "      <td>-0.217420</td>\n",
              "      <td>-4.795769</td>\n",
              "      <td>-4.795769</td>\n",
              "      <td>-4.795769</td>\n",
              "      <td>58.655177</td>\n",
              "    </tr>\n",
              "    <tr>\n",
              "      <th>1</th>\n",
              "      <td>2020-01-03</td>\n",
              "      <td>81.100041</td>\n",
              "      <td>74.150827</td>\n",
              "      <td>128.019860</td>\n",
              "      <td>78.716680</td>\n",
              "      <td>83.232835</td>\n",
              "      <td>-0.007802</td>\n",
              "      <td>-0.007802</td>\n",
              "      <td>-0.007802</td>\n",
              "      <td>20.204976</td>\n",
              "      <td>20.204976</td>\n",
              "      <td>20.204976</td>\n",
              "      <td>-0.007802</td>\n",
              "      <td>-0.007802</td>\n",
              "      <td>-0.007802</td>\n",
              "      <td>-0.007802</td>\n",
              "      <td>-0.007802</td>\n",
              "      <td>-0.007802</td>\n",
              "      <td>20.204976</td>\n",
              "      <td>20.204976</td>\n",
              "      <td>20.204976</td>\n",
              "      <td>100.672240</td>\n",
              "    </tr>\n",
              "    <tr>\n",
              "      <th>2</th>\n",
              "      <td>2020-01-04</td>\n",
              "      <td>81.120881</td>\n",
              "      <td>62.682730</td>\n",
              "      <td>114.599282</td>\n",
              "      <td>78.725691</td>\n",
              "      <td>83.276173</td>\n",
              "      <td>-0.135070</td>\n",
              "      <td>-0.135070</td>\n",
              "      <td>-0.135070</td>\n",
              "      <td>17.332192</td>\n",
              "      <td>17.332192</td>\n",
              "      <td>17.332192</td>\n",
              "      <td>-0.135070</td>\n",
              "      <td>-0.135070</td>\n",
              "      <td>-0.135070</td>\n",
              "      <td>-0.135070</td>\n",
              "      <td>-0.135070</td>\n",
              "      <td>-0.135070</td>\n",
              "      <td>17.332192</td>\n",
              "      <td>17.332192</td>\n",
              "      <td>17.332192</td>\n",
              "      <td>87.496046</td>\n",
              "    </tr>\n",
              "    <tr>\n",
              "      <th>3</th>\n",
              "      <td>2020-01-05</td>\n",
              "      <td>81.141720</td>\n",
              "      <td>42.474042</td>\n",
              "      <td>96.785577</td>\n",
              "      <td>78.735309</td>\n",
              "      <td>83.308790</td>\n",
              "      <td>-0.082666</td>\n",
              "      <td>-0.082666</td>\n",
              "      <td>-0.082666</td>\n",
              "      <td>-4.851392</td>\n",
              "      <td>-4.851392</td>\n",
              "      <td>-4.851392</td>\n",
              "      <td>-0.082666</td>\n",
              "      <td>-0.082666</td>\n",
              "      <td>-0.082666</td>\n",
              "      <td>-0.082666</td>\n",
              "      <td>-0.082666</td>\n",
              "      <td>-0.082666</td>\n",
              "      <td>-4.851392</td>\n",
              "      <td>-4.851392</td>\n",
              "      <td>-4.851392</td>\n",
              "      <td>69.582673</td>\n",
              "    </tr>\n",
              "    <tr>\n",
              "      <th>4</th>\n",
              "      <td>2020-01-07</td>\n",
              "      <td>81.183399</td>\n",
              "      <td>18.211409</td>\n",
              "      <td>73.021427</td>\n",
              "      <td>78.735475</td>\n",
              "      <td>83.387156</td>\n",
              "      <td>-0.292284</td>\n",
              "      <td>-0.292284</td>\n",
              "      <td>-0.292284</td>\n",
              "      <td>-11.570405</td>\n",
              "      <td>-11.570405</td>\n",
              "      <td>-11.570405</td>\n",
              "      <td>-0.292284</td>\n",
              "      <td>-0.292284</td>\n",
              "      <td>-0.292284</td>\n",
              "      <td>-0.292284</td>\n",
              "      <td>-0.292284</td>\n",
              "      <td>-0.292284</td>\n",
              "      <td>-11.570405</td>\n",
              "      <td>-11.570405</td>\n",
              "      <td>-11.570405</td>\n",
              "      <td>45.884412</td>\n",
              "    </tr>\n",
              "    <tr>\n",
              "      <th>...</th>\n",
              "      <td>...</td>\n",
              "      <td>...</td>\n",
              "      <td>...</td>\n",
              "      <td>...</td>\n",
              "      <td>...</td>\n",
              "      <td>...</td>\n",
              "      <td>...</td>\n",
              "      <td>...</td>\n",
              "      <td>...</td>\n",
              "      <td>...</td>\n",
              "      <td>...</td>\n",
              "      <td>...</td>\n",
              "      <td>...</td>\n",
              "      <td>...</td>\n",
              "      <td>...</td>\n",
              "      <td>...</td>\n",
              "      <td>...</td>\n",
              "      <td>...</td>\n",
              "      <td>...</td>\n",
              "      <td>...</td>\n",
              "      <td>...</td>\n",
              "      <td>...</td>\n",
              "    </tr>\n",
              "    <tr>\n",
              "      <th>240</th>\n",
              "      <td>2020-11-26</td>\n",
              "      <td>87.935368</td>\n",
              "      <td>39.235989</td>\n",
              "      <td>96.157238</td>\n",
              "      <td>79.702344</td>\n",
              "      <td>95.558791</td>\n",
              "      <td>-0.172502</td>\n",
              "      <td>-0.172502</td>\n",
              "      <td>-0.172502</td>\n",
              "      <td>-4.795769</td>\n",
              "      <td>-4.795769</td>\n",
              "      <td>-4.795769</td>\n",
              "      <td>-0.172502</td>\n",
              "      <td>-0.172502</td>\n",
              "      <td>-0.172502</td>\n",
              "      <td>-0.172502</td>\n",
              "      <td>-0.172502</td>\n",
              "      <td>-0.172502</td>\n",
              "      <td>-4.795769</td>\n",
              "      <td>-4.795769</td>\n",
              "      <td>-4.795769</td>\n",
              "      <td>67.970563</td>\n",
              "    </tr>\n",
              "    <tr>\n",
              "      <th>241</th>\n",
              "      <td>2020-11-27</td>\n",
              "      <td>87.956207</td>\n",
              "      <td>85.244111</td>\n",
              "      <td>140.029035</td>\n",
              "      <td>79.698511</td>\n",
              "      <td>95.605556</td>\n",
              "      <td>0.052088</td>\n",
              "      <td>0.052088</td>\n",
              "      <td>0.052088</td>\n",
              "      <td>20.204976</td>\n",
              "      <td>20.204976</td>\n",
              "      <td>20.204976</td>\n",
              "      <td>0.052088</td>\n",
              "      <td>0.052088</td>\n",
              "      <td>0.052088</td>\n",
              "      <td>0.052088</td>\n",
              "      <td>0.052088</td>\n",
              "      <td>0.052088</td>\n",
              "      <td>20.204976</td>\n",
              "      <td>20.204976</td>\n",
              "      <td>20.204976</td>\n",
              "      <td>112.742677</td>\n",
              "    </tr>\n",
              "    <tr>\n",
              "      <th>242</th>\n",
              "      <td>2020-11-28</td>\n",
              "      <td>87.977047</td>\n",
              "      <td>66.649747</td>\n",
              "      <td>125.316549</td>\n",
              "      <td>79.694677</td>\n",
              "      <td>95.643405</td>\n",
              "      <td>-0.105125</td>\n",
              "      <td>-0.105125</td>\n",
              "      <td>-0.105125</td>\n",
              "      <td>17.332192</td>\n",
              "      <td>17.332192</td>\n",
              "      <td>17.332192</td>\n",
              "      <td>-0.105125</td>\n",
              "      <td>-0.105125</td>\n",
              "      <td>-0.105125</td>\n",
              "      <td>-0.105125</td>\n",
              "      <td>-0.105125</td>\n",
              "      <td>-0.105125</td>\n",
              "      <td>17.332192</td>\n",
              "      <td>17.332192</td>\n",
              "      <td>17.332192</td>\n",
              "      <td>96.060654</td>\n",
              "    </tr>\n",
              "    <tr>\n",
              "      <th>243</th>\n",
              "      <td>2020-11-29</td>\n",
              "      <td>87.997886</td>\n",
              "      <td>37.798804</td>\n",
              "      <td>96.891527</td>\n",
              "      <td>79.698479</td>\n",
              "      <td>95.681255</td>\n",
              "      <td>-0.187475</td>\n",
              "      <td>-0.187475</td>\n",
              "      <td>-0.187475</td>\n",
              "      <td>-4.851392</td>\n",
              "      <td>-4.851392</td>\n",
              "      <td>-4.851392</td>\n",
              "      <td>-0.187475</td>\n",
              "      <td>-0.187475</td>\n",
              "      <td>-0.187475</td>\n",
              "      <td>-0.187475</td>\n",
              "      <td>-0.187475</td>\n",
              "      <td>-0.187475</td>\n",
              "      <td>-4.851392</td>\n",
              "      <td>-4.851392</td>\n",
              "      <td>-4.851392</td>\n",
              "      <td>66.649108</td>\n",
              "    </tr>\n",
              "    <tr>\n",
              "      <th>244</th>\n",
              "      <td>2020-11-30</td>\n",
              "      <td>88.018726</td>\n",
              "      <td>21.658994</td>\n",
              "      <td>78.905434</td>\n",
              "      <td>79.711769</td>\n",
              "      <td>95.719104</td>\n",
              "      <td>-0.307256</td>\n",
              "      <td>-0.307256</td>\n",
              "      <td>-0.307256</td>\n",
              "      <td>-10.348157</td>\n",
              "      <td>-10.348157</td>\n",
              "      <td>-10.348157</td>\n",
              "      <td>-0.307256</td>\n",
              "      <td>-0.307256</td>\n",
              "      <td>-0.307256</td>\n",
              "      <td>-0.307256</td>\n",
              "      <td>-0.307256</td>\n",
              "      <td>-0.307256</td>\n",
              "      <td>-10.348157</td>\n",
              "      <td>-10.348157</td>\n",
              "      <td>-10.348157</td>\n",
              "      <td>50.626255</td>\n",
              "    </tr>\n",
              "  </tbody>\n",
              "</table>\n",
              "<p>245 rows × 22 columns</p>\n",
              "</div>"
            ],
            "text/plain": [
              "            ds      trend  yhat_lower  ...  weekly_lower  weekly_upper        yhat\n",
              "0   2020-01-02  81.079202   30.729304  ...     -4.795769     -4.795769   58.655177\n",
              "1   2020-01-03  81.100041   74.150827  ...     20.204976     20.204976  100.672240\n",
              "2   2020-01-04  81.120881   62.682730  ...     17.332192     17.332192   87.496046\n",
              "3   2020-01-05  81.141720   42.474042  ...     -4.851392     -4.851392   69.582673\n",
              "4   2020-01-07  81.183399   18.211409  ...    -11.570405    -11.570405   45.884412\n",
              "..         ...        ...         ...  ...           ...           ...         ...\n",
              "240 2020-11-26  87.935368   39.235989  ...     -4.795769     -4.795769   67.970563\n",
              "241 2020-11-27  87.956207   85.244111  ...     20.204976     20.204976  112.742677\n",
              "242 2020-11-28  87.977047   66.649747  ...     17.332192     17.332192   96.060654\n",
              "243 2020-11-29  87.997886   37.798804  ...     -4.851392     -4.851392   66.649108\n",
              "244 2020-11-30  88.018726   21.658994  ...    -10.348157    -10.348157   50.626255\n",
              "\n",
              "[245 rows x 22 columns]"
            ]
          },
          "metadata": {
            "tags": []
          },
          "execution_count": 125
        }
      ]
    },
    {
      "cell_type": "code",
      "metadata": {
        "colab": {
          "base_uri": "https://localhost:8080/",
          "height": 441
        },
        "id": "EFqexBUbKIL1",
        "outputId": "21e3dbdd-9586-44e1-d694-ff893dc0f5e2"
      },
      "source": [
        "fig1 = m.plot(forecast)"
      ],
      "execution_count": 126,
      "outputs": [
        {
          "output_type": "display_data",
          "data": {
            "image/png": "[encoded data removed]",
            "text/plain": [
              "<Figure size 720x432 with 1 Axes>"
            ]
          },
          "metadata": {
            "tags": []
          }
        }
      ]
    },
    {
      "cell_type": "code",
      "metadata": {
        "colab": {
          "base_uri": "https://localhost:8080/",
          "height": 657
        },
        "id": "z5bd-inVKaaT",
        "outputId": "dbb13885-761f-479e-cd58-f5e52aa75922"
      },
      "source": [
        "fig2 = m.plot_components(forecast)"
      ],
      "execution_count": 117,
      "outputs": [
        {
          "output_type": "display_data",
          "data": {
            "image/png": "[encoded data removed]",
            "text/plain": [
              "<Figure size 648x648 with 3 Axes>"
            ]
          },
          "metadata": {
            "tags": []
          }
        }
      ]
    }
  ]
}