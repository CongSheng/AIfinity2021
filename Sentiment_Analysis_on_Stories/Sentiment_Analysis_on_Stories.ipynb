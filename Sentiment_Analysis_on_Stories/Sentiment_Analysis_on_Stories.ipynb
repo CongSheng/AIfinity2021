{
  "nbformat": 4,
  "nbformat_minor": 0,
  "metadata": {
    "colab": {
      "name": "Sentiment Analysis on Stories.ipynb",
      "provenance": [],
      "authorship_tag": "ABX9TyPQHmpZoacm/eoSXbCl2uwO",
      "include_colab_link": true
    },
    "kernelspec": {
      "name": "python3",
      "display_name": "Python 3"
    }
  },
  "cells": [
    {
      "cell_type": "markdown",
      "metadata": {
        "id": "view-in-github",
        "colab_type": "text"
      },
      "source": [
        "<a href=\"https://colab.research.google.com/github/CongSheng/AIfinity2021/blob/main/Sentiment_Analysis_on_Stories/Sentiment_Analysis_on_Stories.ipynb\" target=\"_parent\"><img src=\"https://colab.research.google.com/assets/colab-badge.svg\" alt=\"Open In Colab\"/></a>"
      ]
    },
    {
      "cell_type": "markdown",
      "metadata": {
        "id": "UgU-G26cEJLi"
      },
      "source": [
        "# TattleTales\r\n",
        "## - Incorporating sentiment analysis onto stories created"
      ]
    },
    {
      "cell_type": "markdown",
      "metadata": {
        "id": "1ZV1SPydEXrS"
      },
      "source": [
        "### Setup Directories"
      ]
    },
    {
      "cell_type": "code",
      "metadata": {
        "colab": {
          "base_uri": "https://localhost:8080/"
        },
        "id": "gsF_oMop4iY4",
        "outputId": "7a3c0256-1f55-4835-fd2d-3d528c24145b"
      },
      "source": [
        "from google.colab import drive\r\n",
        "drive.mount('/content/drive')"
      ],
      "execution_count": 2,
      "outputs": [
        {
          "output_type": "stream",
          "text": [
            "Mounted at /content/drive\n"
          ],
          "name": "stdout"
        }
      ]
    },
    {
      "cell_type": "code",
      "metadata": {
        "colab": {
          "base_uri": "https://localhost:8080/"
        },
        "id": "jlLECWwQ31tL",
        "outputId": "7d19461a-910a-4073-bbb6-ca2183eed0e5"
      },
      "source": [
        "!git clone https://github.com/linminhtoo/that_one"
      ],
      "execution_count": 1,
      "outputs": [
        {
          "output_type": "stream",
          "text": [
            "Cloning into 'that_one'...\n",
            "remote: Enumerating objects: 141, done.\u001b[K\n",
            "remote: Counting objects: 100% (141/141), done.\u001b[K\n",
            "remote: Compressing objects: 100% (98/98), done.\u001b[K\n",
            "remote: Total 141 (delta 73), reused 92 (delta 36), pack-reused 0\u001b[K\n",
            "Receiving objects: 100% (141/141), 2.96 MiB | 5.59 MiB/s, done.\n",
            "Resolving deltas: 100% (73/73), done.\n"
          ],
          "name": "stdout"
        }
      ]
    },
    {
      "cell_type": "code",
      "metadata": {
        "colab": {
          "base_uri": "https://localhost:8080/"
        },
        "id": "eDyBEes045Wd",
        "outputId": "7b8ee33d-5945-4336-ba77-eecff8a9a895"
      },
      "source": [
        "%cd that_one\r\n",
        "!bash -i setup.sh"
      ],
      "execution_count": 13,
      "outputs": [
        {
          "output_type": "stream",
          "text": [
            "[Errno 2] No such file or directory: 'that_one'\n",
            "/content/that_one\n",
            "bash: cannot set terminal process group (63): Inappropriate ioctl for device\n",
            "bash: no job control in this shell\n",
            "bash: conda: command not found\n",
            "bash: conda: command not found\n",
            "Requirement already satisfied: transformers in /usr/local/lib/python3.7/dist-packages (4.3.3)\n",
            "Requirement already satisfied: torch in /usr/local/lib/python3.7/dist-packages (1.8.0+cu101)\n",
            "Requirement already satisfied: regex!=2019.12.17 in /usr/local/lib/python3.7/dist-packages (from transformers) (2019.12.20)\n",
            "Requirement already satisfied: importlib-metadata; python_version < \"3.8\" in /usr/local/lib/python3.7/dist-packages (from transformers) (3.7.0)\n",
            "Requirement already satisfied: packaging in /usr/local/lib/python3.7/dist-packages (from transformers) (20.9)\n",
            "Requirement already satisfied: requests in /usr/local/lib/python3.7/dist-packages (from transformers) (2.23.0)\n",
            "Requirement already satisfied: numpy>=1.17 in /usr/local/lib/python3.7/dist-packages (from transformers) (1.19.5)\n",
            "Requirement already satisfied: tokenizers<0.11,>=0.10.1 in /usr/local/lib/python3.7/dist-packages (from transformers) (0.10.1)\n",
            "Requirement already satisfied: filelock in /usr/local/lib/python3.7/dist-packages (from transformers) (3.0.12)\n",
            "Requirement already satisfied: sacremoses in /usr/local/lib/python3.7/dist-packages (from transformers) (0.0.43)\n",
            "Requirement already satisfied: tqdm>=4.27 in /usr/local/lib/python3.7/dist-packages (from transformers) (4.41.1)\n",
            "Requirement already satisfied: typing-extensions in /usr/local/lib/python3.7/dist-packages (from torch) (3.7.4.3)\n",
            "Requirement already satisfied: zipp>=0.5 in /usr/local/lib/python3.7/dist-packages (from importlib-metadata; python_version < \"3.8\"->transformers) (3.4.1)\n",
            "Requirement already satisfied: pyparsing>=2.0.2 in /usr/local/lib/python3.7/dist-packages (from packaging->transformers) (2.4.7)\n",
            "Requirement already satisfied: certifi>=2017.4.17 in /usr/local/lib/python3.7/dist-packages (from requests->transformers) (2020.12.5)\n",
            "Requirement already satisfied: urllib3!=1.25.0,!=1.25.1,<1.26,>=1.21.1 in /usr/local/lib/python3.7/dist-packages (from requests->transformers) (1.24.3)\n",
            "Requirement already satisfied: idna<3,>=2.5 in /usr/local/lib/python3.7/dist-packages (from requests->transformers) (2.10)\n",
            "Requirement already satisfied: chardet<4,>=3.0.2 in /usr/local/lib/python3.7/dist-packages (from requests->transformers) (3.0.4)\n",
            "Requirement already satisfied: joblib in /usr/local/lib/python3.7/dist-packages (from sacremoses->transformers) (1.0.1)\n",
            "Requirement already satisfied: six in /usr/local/lib/python3.7/dist-packages (from sacremoses->transformers) (1.15.0)\n",
            "Requirement already satisfied: click in /usr/local/lib/python3.7/dist-packages (from sacremoses->transformers) (7.1.2)\n",
            "Requirement already satisfied: beautifulsoup4 in /usr/local/lib/python3.7/dist-packages (4.6.3)\n"
          ],
          "name": "stdout"
        }
      ]
    },
    {
      "cell_type": "code",
      "metadata": {
        "colab": {
          "base_uri": "https://localhost:8080/"
        },
        "id": "2VcpYnngCDdF",
        "outputId": "e3c1f938-1fe1-4535-e3a2-218f1db81300"
      },
      "source": [
        "#Test function\r\n",
        "!python generate.py"
      ],
      "execution_count": 19,
      "outputs": [
        {
          "output_type": "stream",
          "text": [
            "2021-03-15 08:48:21.595268: I tensorflow/stream_executor/platform/default/dso_loader.cc:49] Successfully opened dynamic library libcudart.so.11.0\n",
            "Generating story with prompt Once upon a time\n",
            "Setting `pad_token_id` to `eos_token_id`:50256 for open-end generation.\n",
            "Time elapsed: 12.316080331802368\n",
            "Once upon a time there was an island where animals lived peacefully and well, just above the sea. It had always been so beautiful; but that made it unfit for life in order to live here again: no one would be able or willing who might wish good weather without some kind of help from heaven—and this assistance did not come easily enough on account thereof! There are many people living together outside these islands which I cannot tell you how miserable they were at times like them now–there is even amongst themselves another place called Old Moon’s Wharf-House belonging about ten miles farther than any other street corner since before mankind arrived with all its advantages.—And yet if anyone has noticed what we shall see tomorrow evening he will find out soon after his last glimpse inside those poor little whipsheets between our legs over water runs whose sides have lost their color as much by accident too –they must learn something shocking indeed concerning us right below each shorelight when coming up into deep waters\n"
          ],
          "name": "stdout"
        }
      ]
    },
    {
      "cell_type": "markdown",
      "metadata": {
        "id": "mOBdCreiEnuj"
      },
      "source": [
        "### Import Libraries "
      ]
    },
    {
      "cell_type": "code",
      "metadata": {
        "id": "f1sDC2ynCgCF"
      },
      "source": [
        "import generate\r\n",
        "import nltk ## Sentiment Analyse done using simple nltk library\r\n",
        "from nltk.sentiment.vader import SentimentIntensityAnalyzer"
      ],
      "execution_count": 23,
      "outputs": []
    },
    {
      "cell_type": "code",
      "metadata": {
        "colab": {
          "base_uri": "https://localhost:8080/"
        },
        "id": "E3hEa_f9DpSn",
        "outputId": "09314647-57c6-4092-a701-d08303201ade"
      },
      "source": [
        "story = generate.gen_story(\"Well well\")"
      ],
      "execution_count": 18,
      "outputs": [
        {
          "output_type": "stream",
          "text": [
            "Setting `pad_token_id` to `eos_token_id`:50256 for open-end generation.\n"
          ],
          "name": "stderr"
        },
        {
          "output_type": "stream",
          "text": [
            "Generating story with prompt Well well\n",
            "Time elapsed: 12.811119079589844\n"
          ],
          "name": "stdout"
        }
      ]
    },
    {
      "cell_type": "code",
      "metadata": {
        "colab": {
          "base_uri": "https://localhost:8080/",
          "height": 171
        },
        "id": "Mvj-FB_xDv2k",
        "outputId": "9c181f45-6489-4c83-e9fb-2bb0f3d606ca"
      },
      "source": [
        "story"
      ],
      "execution_count": 20,
      "outputs": [
        {
          "output_type": "execute_result",
          "data": {
            "application/vnd.google.colaboratory.intrinsic+json": {
              "type": "string"
            },
            "text/plain": [
              "'Well well then, Mr. Chancellor! you must surely be your finest and most virtuous servant to me; for if not indeed we are all so illustrious as the gods have appointed us among them – why is it that I am contented with nothing else but my own? Is this really what one of our servants says about such things?\"\\nThe Emperor said: “Your Majesty will soon come in full view also amongst other dogs-takes who can say whatever they like on account thereof.\" So having spoken his goodbyes at last he laid aside these three masters till morning when a roaring bird flew up from behind him into an open field near which lay just outside where there was scarcely any grass or wood besides barefootness yet far off…” He sighed deeply before turning round again once more upon hearing another voice call out aloud by different directions across endless fields passing along footpaths until finally looking down below himself suddenly remembering something even greater than some very old fairy tale wherein Jupiter might'"
            ]
          },
          "metadata": {
            "tags": []
          },
          "execution_count": 20
        }
      ]
    },
    {
      "cell_type": "code",
      "metadata": {
        "colab": {
          "base_uri": "https://localhost:8080/"
        },
        "id": "lHAbmnvlFOw8",
        "outputId": "3bc433da-1481-4596-8e54-9b2cf3a25398"
      },
      "source": [
        "nltk.download('vader_lexicon')\r\n",
        "sentimentAnalyzer = SentimentIntensityAnalyzer()"
      ],
      "execution_count": 24,
      "outputs": [
        {
          "output_type": "stream",
          "text": [
            "[nltk_data] Downloading package vader_lexicon to /root/nltk_data...\n"
          ],
          "name": "stdout"
        }
      ]
    },
    {
      "cell_type": "code",
      "metadata": {
        "colab": {
          "base_uri": "https://localhost:8080/"
        },
        "id": "7kBFgplvGNgX",
        "outputId": "1697488a-75e6-40b3-daf8-61a161b00cb4"
      },
      "source": [
        "sentimentAnalyzer.polarity_scores(story)"
      ],
      "execution_count": 29,
      "outputs": [
        {
          "output_type": "execute_result",
          "data": {
            "text/plain": [
              "{'compound': 0.9224, 'neg': 0.0, 'neu': 0.91, 'pos': 0.09}"
            ]
          },
          "metadata": {
            "tags": []
          },
          "execution_count": 29
        }
      ]
    },
    {
      "cell_type": "code",
      "metadata": {
        "colab": {
          "base_uri": "https://localhost:8080/"
        },
        "id": "Mp-AYnmmFm_M",
        "outputId": "0e0d9b89-f7fa-4363-8cdc-d9213386badc"
      },
      "source": [
        "sentimentValue = sentimentAnalyzer.polarity_scores(story)['compound']\r\n",
        "print(sentiment)"
      ],
      "execution_count": 30,
      "outputs": [
        {
          "output_type": "stream",
          "text": [
            "0.9224\n"
          ],
          "name": "stdout"
        }
      ]
    }
  ]
}